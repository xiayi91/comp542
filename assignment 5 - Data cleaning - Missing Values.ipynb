{
 "cells": [
  {
   "cell_type": "markdown",
   "metadata": {
    "toc": true
   },
   "source": [
    "<h1>Table of Contents<span class=\"tocSkip\"></span></h1>\n",
    "<div class=\"toc\"><ul class=\"toc-item\"><li><span><a href=\"#1-Load-Libraries\" data-toc-modified-id=\"1-Load-Libraries-1\">1 Load Libraries</a></span></li><li><span><a href=\"#2-Data-Preparation\" data-toc-modified-id=\"2-Data-Preparation-2\">2 Data Preparation</a></span><ul class=\"toc-item\"><li><span><a href=\"#2.1-Load-datasets\" data-toc-modified-id=\"2.1-Load-datasets-2.1\">2.1 Load datasets</a></span></li><li><span><a href=\"#2.2-Drop-rows\" data-toc-modified-id=\"2.2-Drop-rows-2.2\">2.2 Drop rows</a></span><ul class=\"toc-item\"><li><span><a href=\"#2.2.1-Train-Identity\" data-toc-modified-id=\"2.2.1-Train-Identity-2.2.1\">2.2.1 Train Identity</a></span></li><li><span><a href=\"#2.2.2-Test-Identity\" data-toc-modified-id=\"2.2.2-Test-Identity-2.2.2\">2.2.2 Test Identity</a></span></li><li><span><a href=\"#2.2.3-Train-Transaction\" data-toc-modified-id=\"2.2.3-Train-Transaction-2.2.3\">2.2.3 Train Transaction</a></span></li><li><span><a href=\"#2.2.4-Test-Transaction\" data-toc-modified-id=\"2.2.4-Test-Transaction-2.2.4\">2.2.4 Test Transaction</a></span></li></ul></li><li><span><a href=\"#2.3-Feature-Analysis\" data-toc-modified-id=\"2.3-Feature-Analysis-2.3\">2.3 Feature Analysis</a></span><ul class=\"toc-item\"><li><span><a href=\"#2.3.1-Identity\" data-toc-modified-id=\"2.3.1-Identity-2.3.1\">2.3.1 Identity</a></span></li><li><span><a href=\"#2.3.1-Transaction\" data-toc-modified-id=\"2.3.1-Transaction-2.3.2\">2.3.1 Transaction</a></span></li></ul></li></ul></li><li><span><a href=\"#3-Missing-Values\" data-toc-modified-id=\"3-Missing-Values-3\">3 Missing Values</a></span><ul class=\"toc-item\"><li><span><a href=\"#3.1-Identifying-Missing-Values\" data-toc-modified-id=\"3.1-Identifying-Missing-Values-3.1\">3.1 Identifying Missing Values</a></span><ul class=\"toc-item\"><li><span><a href=\"#3.1.1-Missing-values-for-Identity-Category-Features\" data-toc-modified-id=\"3.1.1-Missing-values-for-Identity-Category-Features-3.1.1\">3.1.1 Missing values for Identity Category Features</a></span></li><li><span><a href=\"#3.1.2-Missing-values-for-Identity-Numerical-Features\" data-toc-modified-id=\"3.1.2-Missing-values-for-Identity-Numerical-Features-3.1.2\">3.1.2 Missing values for Identity Numerical Features</a></span></li><li><span><a href=\"#3.1.3-Missing-values-for-Transaction-Category-Features\" data-toc-modified-id=\"3.1.3-Missing-values-for-Transaction-Category-Features-3.1.3\">3.1.3 Missing values for Transaction Category Features</a></span></li><li><span><a href=\"#3.1.4-Missing-values-for-Transaction-Numerical-Features\" data-toc-modified-id=\"3.1.4-Missing-values-for-Transaction-Numerical-Features-3.1.4\">3.1.4 Missing values for Transaction Numerical Features</a></span></li></ul></li><li><span><a href=\"#3.2-Dealing-with-Missing-Values\" data-toc-modified-id=\"3.2-Dealing-with-Missing-Values-3.2\">3.2 Dealing with Missing Values</a></span><ul class=\"toc-item\"><li><span><a href=\"#3.2.1-Numerical-Features\" data-toc-modified-id=\"3.2.1-Numerical-Features-3.2.1\">3.2.1 Numerical Features</a></span><ul class=\"toc-item\"><li><span><a href=\"#3.2.1.1-Drop-numerical-features-with-many-missing-values\" data-toc-modified-id=\"3.2.1.1-Drop-numerical-features-with-many-missing-values-3.2.1.1\">3.2.1.1 Drop numerical features with many missing values</a></span></li><li><span><a href=\"#3.2.1.2--Impute-numerical-features-with-low-missing-values\" data-toc-modified-id=\"3.2.1.2--Impute-numerical-features-with-low-missing-values-3.2.1.2\">3.2.1.2  Impute numerical features with low missing values</a></span></li><li><span><a href=\"#3.2.1.3--Impute-numerical-features-with-medium-missing-values\" data-toc-modified-id=\"3.2.1.3--Impute-numerical-features-with-medium-missing-values-3.2.1.3\">3.2.1.3  Impute numerical features with medium missing values</a></span></li><li><span><a href=\"#3.2.1.4-Final-check\" data-toc-modified-id=\"3.2.1.4-Final-check-3.2.1.4\">3.2.1.4 Final check</a></span></li><li><span><a href=\"#Reduce-memory\" data-toc-modified-id=\"Reduce-memory-3.2.1.5\">Reduce memory</a></span></li></ul></li><li><span><a href=\"#3.2.2-Category-Features\" data-toc-modified-id=\"3.2.2-Category-Features-3.2.2\">3.2.2 Category Features</a></span><ul class=\"toc-item\"><li><span><a href=\"#3.2.2.1-Drop-category-features-with-many-missing-values\" data-toc-modified-id=\"3.2.2.1-Drop-category-features-with-many-missing-values-3.2.2.1\">3.2.2.1 Drop category features with many missing values</a></span></li><li><span><a href=\"#3.2.2.2-Label-Encode-features-with-high-cardinality\" data-toc-modified-id=\"3.2.2.2-Label-Encode-features-with-high-cardinality-3.2.2.2\">3.2.2.2 Label-Encode features with high cardinality</a></span></li><li><span><a href=\"#3.2.2.3-Onehot-Encode-features-with-low-cardinality\" data-toc-modified-id=\"3.2.2.3-Onehot-Encode-features-with-low-cardinality-3.2.2.3\">3.2.2.3 Onehot-Encode features with low cardinality</a></span></li><li><span><a href=\"#3.2.2.3-Final-check\" data-toc-modified-id=\"3.2.2.3-Final-check-3.2.2.4\">3.2.2.3 Final check</a></span></li></ul></li><li><span><a href=\"#3.2.3-Bar-Chart-of-the-Change-in-Means\" data-toc-modified-id=\"3.2.3-Bar-Chart-of-the-Change-in-Means-3.2.3\">3.2.3 Bar Chart of the Change in Means</a></span></li></ul></li><li><span><a href=\"#3.3-Concat-Encoded-Dataframes\" data-toc-modified-id=\"3.3-Concat-Encoded-Dataframes-3.3\">3.3 Concat Encoded Dataframes</a></span></li></ul></li><li><span><a href=\"#Reference\" data-toc-modified-id=\"Reference-4\">Reference</a></span></li></ul></div>"
   ]
  },
  {
   "cell_type": "markdown",
   "metadata": {},
   "source": [
    "# 1 Load Libraries"
   ]
  },
  {
   "cell_type": "code",
   "execution_count": 1,
   "metadata": {},
   "outputs": [],
   "source": [
    "import numpy as np\n",
    "import pandas as pd\n",
    "import matplotlib.pylab as plt\n",
    "from sklearn.impute import SimpleImputer\n",
    "from sklearn.preprocessing import LabelEncoder"
   ]
  },
  {
   "cell_type": "markdown",
   "metadata": {},
   "source": [
    "# 2 Data Preparation\n",
    "## 2.1 Load datasets"
   ]
  },
  {
   "cell_type": "code",
   "execution_count": 2,
   "metadata": {},
   "outputs": [],
   "source": [
    "train_transaction = pd.read_csv('input/train_transaction.csv')\n",
    "train_identity = pd.read_csv('input/train_identity.csv')\n",
    "\n",
    "test_transaction = pd.read_csv('input/test_transaction.csv')\n",
    "test_identity = pd.read_csv('input/test_identity.csv')"
   ]
  },
  {
   "cell_type": "code",
   "execution_count": 3,
   "metadata": {},
   "outputs": [],
   "source": [
    "test_identity.columns = train_identity.columns # unify columns of test_identity and train_identity, eg. id-01 to id_01"
   ]
  },
  {
   "cell_type": "code",
   "execution_count": 4,
   "metadata": {},
   "outputs": [
    {
     "name": "stdout",
     "output_type": "stream",
     "text": [
      "shape of train_transaction is: (590540, 394)\n",
      "shape of test_transaction is: (506691, 393)\n",
      "shape of train_identity is: (144233, 41)\n",
      "shape of test_identity is: (141907, 41)\n"
     ]
    }
   ],
   "source": [
    "print('shape of train_transaction is:', train_transaction.shape)\n",
    "print('shape of test_transaction is:', test_transaction.shape)\n",
    "print('shape of train_identity is:', train_identity.shape)\n",
    "print('shape of test_identity is:', test_identity.shape)"
   ]
  },
  {
   "cell_type": "markdown",
   "metadata": {},
   "source": [
    "Reduce memory since the datasets would take a lot"
   ]
  },
  {
   "cell_type": "code",
   "execution_count": 5,
   "metadata": {},
   "outputs": [],
   "source": [
    "## Function to reduce the DF size\n",
    "def reduce_mem_usage(df, verbose=True):\n",
    "    numerics = ['int16', 'int32', 'int64', 'float16', 'float32', 'float64']\n",
    "    start_mem = df.memory_usage().sum() / 1024**2    \n",
    "    for col in df.columns:\n",
    "        col_type = df[col].dtypes\n",
    "        if col_type in numerics:\n",
    "            c_min = df[col].min()\n",
    "            c_max = df[col].max()\n",
    "            if str(col_type)[:3] == 'int':\n",
    "                if c_min > np.iinfo(np.int8).min and c_max < np.iinfo(np.int8).max:\n",
    "                    df[col] = df[col].astype(np.int8)\n",
    "                elif c_min > np.iinfo(np.int16).min and c_max < np.iinfo(np.int16).max:\n",
    "                    df[col] = df[col].astype(np.int16)\n",
    "                elif c_min > np.iinfo(np.int32).min and c_max < np.iinfo(np.int32).max:\n",
    "                    df[col] = df[col].astype(np.int32)\n",
    "                elif c_min > np.iinfo(np.int64).min and c_max < np.iinfo(np.int64).max:\n",
    "                    df[col] = df[col].astype(np.int64)  \n",
    "            else:\n",
    "                if c_min > np.finfo(np.float16).min and c_max < np.finfo(np.float16).max:\n",
    "                    df[col] = df[col].astype(np.float16)\n",
    "                elif c_min > np.finfo(np.float32).min and c_max < np.finfo(np.float32).max:\n",
    "                    df[col] = df[col].astype(np.float32)\n",
    "                else:\n",
    "                    df[col] = df[col].astype(np.float64)    \n",
    "    end_mem = df.memory_usage().sum() / 1024**2\n",
    "    if verbose: print('Mem. usage decreased to {:5.2f} Mb ({:.1f}% reduction)'.format(end_mem, 100 * (start_mem - end_mem) / start_mem))\n",
    "    return df"
   ]
  },
  {
   "cell_type": "code",
   "execution_count": 6,
   "metadata": {},
   "outputs": [
    {
     "name": "stdout",
     "output_type": "stream",
     "text": [
      "Mem. usage decreased to 542.35 Mb (69.4% reduction)\n",
      "Mem. usage decreased to 25.86 Mb (42.7% reduction)\n"
     ]
    }
   ],
   "source": [
    "## Reducing memory of train sets\n",
    "train_transaction = reduce_mem_usage(train_transaction)\n",
    "train_identity = reduce_mem_usage(train_identity)"
   ]
  },
  {
   "cell_type": "markdown",
   "metadata": {},
   "source": [
    "## 2.2 Drop rows"
   ]
  },
  {
   "cell_type": "markdown",
   "metadata": {},
   "source": [
    "### 2.2.1 Train Identity"
   ]
  },
  {
   "cell_type": "code",
   "execution_count": 7,
   "metadata": {},
   "outputs": [
    {
     "name": "stdout",
     "output_type": "stream",
     "text": [
      "shape before dropping train_identity rows: (144233, 41)\n"
     ]
    }
   ],
   "source": [
    "print('shape before dropping train_identity rows:', train_identity.shape)"
   ]
  },
  {
   "cell_type": "code",
   "execution_count": 8,
   "metadata": {},
   "outputs": [
    {
     "name": "stdout",
     "output_type": "stream",
     "text": [
      "number low missing (<= 50%):  134833\n",
      "number many missing (> 50%):  9400\n"
     ]
    }
   ],
   "source": [
    "total_rows = train_identity.shape[0]\n",
    "total_cols = train_identity.shape[1]\n",
    "low_missing_train_id_rows = []      # lower than 50% missing values\n",
    "many_missing_train_id_rows = []     # more than 50% missing\n",
    "\n",
    "for row in range(total_rows):\n",
    "    null_percent = train_identity.iloc[row].isnull().sum() / total_cols\n",
    "    if(null_percent > 0.5):\n",
    "        many_missing_train_id_rows.append(row)\n",
    "    else:\n",
    "        low_missing_train_id_rows.append(row)\n",
    "\n",
    "print(\"number low missing (<= 50%): \", len(low_missing_train_id_rows))\n",
    "print(\"number many missing (> 50%): \", len(many_missing_train_id_rows))"
   ]
  },
  {
   "cell_type": "code",
   "execution_count": 9,
   "metadata": {},
   "outputs": [
    {
     "name": "stdout",
     "output_type": "stream",
     "text": [
      "shape after dropping train_identity rows: (134833, 41)\n"
     ]
    }
   ],
   "source": [
    "train_id_row_drop = train_identity.drop(many_missing_train_id_rows)\n",
    "print('shape after dropping train_identity rows:', train_id_row_drop.shape)"
   ]
  },
  {
   "cell_type": "markdown",
   "metadata": {},
   "source": [
    "### 2.2.2 Test Identity"
   ]
  },
  {
   "cell_type": "code",
   "execution_count": 10,
   "metadata": {},
   "outputs": [
    {
     "name": "stdout",
     "output_type": "stream",
     "text": [
      "shape before dropping test_identity rows: (141907, 41)\n"
     ]
    }
   ],
   "source": [
    "print('shape before dropping test_identity rows:', test_identity.shape)"
   ]
  },
  {
   "cell_type": "code",
   "execution_count": 11,
   "metadata": {},
   "outputs": [
    {
     "name": "stdout",
     "output_type": "stream",
     "text": [
      "number low missing (<= 50%):  131078\n",
      "number many missing (> 50%):  10829\n"
     ]
    }
   ],
   "source": [
    "total_rows = test_identity.shape[0]\n",
    "total_cols = test_identity.shape[1]\n",
    "low_missing_test_id_rows = []      # lower than 50% missing values\n",
    "many_missing_test_id_rows = []     # more than 50% missing\n",
    "\n",
    "for row in range(total_rows):\n",
    "    null_percent = test_identity.iloc[row].isnull().sum() / total_cols\n",
    "    if(null_percent > 0.5):\n",
    "        many_missing_test_id_rows.append(row)\n",
    "    else:\n",
    "        low_missing_test_id_rows.append(row)\n",
    "\n",
    "print(\"number low missing (<= 50%): \", len(low_missing_test_id_rows))\n",
    "print(\"number many missing (> 50%): \", len(many_missing_test_id_rows))"
   ]
  },
  {
   "cell_type": "code",
   "execution_count": 12,
   "metadata": {},
   "outputs": [
    {
     "name": "stdout",
     "output_type": "stream",
     "text": [
      "shape after dropping test_identity rows: (131078, 41)\n"
     ]
    }
   ],
   "source": [
    "test_id_row_drop = test_identity.drop(many_missing_test_id_rows)\n",
    "print('shape after dropping test_identity rows:', test_id_row_drop.shape)"
   ]
  },
  {
   "cell_type": "markdown",
   "metadata": {},
   "source": [
    "### 2.2.3 Train Transaction"
   ]
  },
  {
   "cell_type": "code",
   "execution_count": 13,
   "metadata": {},
   "outputs": [
    {
     "name": "stdout",
     "output_type": "stream",
     "text": [
      "shape before dropping train_transaction rows: (590540, 394)\n"
     ]
    }
   ],
   "source": [
    "print('shape before dropping train_transaction rows:', train_transaction.shape)"
   ]
  },
  {
   "cell_type": "code",
   "execution_count": 14,
   "metadata": {},
   "outputs": [
    {
     "name": "stdout",
     "output_type": "stream",
     "text": [
      "number low missing (<= 50%):  553287\n",
      "number many missing (> 50%):  37253\n"
     ]
    }
   ],
   "source": [
    "total_rows = train_transaction.shape[0]\n",
    "total_cols = train_transaction.shape[1]\n",
    "low_missing_train_t_rows = []      # lower than 50% missing values\n",
    "many_missing_train_t_rows = []     # more than 50% missing\n",
    "\n",
    "for row in range(total_rows):\n",
    "    null_percent = train_transaction.iloc[row].isnull().sum() / total_cols\n",
    "    if(null_percent > 0.5):\n",
    "        many_missing_train_t_rows.append(row)\n",
    "    else:\n",
    "        low_missing_train_t_rows.append(row)\n",
    "\n",
    "print(\"number low missing (<= 50%): \", len(low_missing_train_t_rows))\n",
    "print(\"number many missing (> 50%): \", len(many_missing_train_t_rows))"
   ]
  },
  {
   "cell_type": "code",
   "execution_count": 15,
   "metadata": {},
   "outputs": [
    {
     "name": "stdout",
     "output_type": "stream",
     "text": [
      "shape after dropping train_transaction rows: (553287, 394)\n"
     ]
    }
   ],
   "source": [
    "train_transaction_row_drop = train_transaction.drop(many_missing_train_t_rows)\n",
    "print('shape after dropping train_transaction rows:', train_transaction_row_drop.shape)"
   ]
  },
  {
   "cell_type": "markdown",
   "metadata": {},
   "source": [
    "### 2.2.4 Test Transaction"
   ]
  },
  {
   "cell_type": "code",
   "execution_count": 16,
   "metadata": {},
   "outputs": [
    {
     "name": "stdout",
     "output_type": "stream",
     "text": [
      "shape before dropping test_transaction rows: (506691, 393)\n"
     ]
    }
   ],
   "source": [
    "print('shape before dropping test_transaction rows:', test_transaction.shape)"
   ]
  },
  {
   "cell_type": "code",
   "execution_count": 17,
   "metadata": {},
   "outputs": [
    {
     "name": "stdout",
     "output_type": "stream",
     "text": [
      "number low missing (<= 50%):  499806\n",
      "number many missing (> 50%):  6885\n"
     ]
    }
   ],
   "source": [
    "total_rows = test_transaction.shape[0]\n",
    "total_cols = test_transaction.shape[1]\n",
    "low_missing_test_t_rows = []      # lower than 50% missing values\n",
    "many_missing_test_t_rows = []     # more than 50% missing\n",
    "\n",
    "for row in range(total_rows):\n",
    "    null_percent = test_transaction.iloc[row].isnull().sum() / total_cols\n",
    "    if(null_percent > 0.5):\n",
    "        many_missing_test_t_rows.append(row)\n",
    "    else:\n",
    "        low_missing_test_t_rows.append(row)\n",
    "\n",
    "print(\"number low missing (<= 50%): \", len(low_missing_test_t_rows))\n",
    "print(\"number many missing (> 50%): \", len(many_missing_test_t_rows))"
   ]
  },
  {
   "cell_type": "code",
   "execution_count": 18,
   "metadata": {},
   "outputs": [
    {
     "name": "stdout",
     "output_type": "stream",
     "text": [
      "shape after dropping test_transaction rows: (499806, 393)\n"
     ]
    }
   ],
   "source": [
    "test_transaction_row_drop = test_transaction.drop(many_missing_test_t_rows)\n",
    "print('shape after dropping test_transaction rows:', test_transaction_row_drop.shape)"
   ]
  },
  {
   "cell_type": "code",
   "execution_count": 19,
   "metadata": {},
   "outputs": [
    {
     "name": "stdout",
     "output_type": "stream",
     "text": [
      "shape of train_transaction_row_drop is: (553287, 394)\n",
      "shape of test_transaction_row_drop is: (499806, 393)\n",
      "shape of train_identity_row_drop is: (134833, 41)\n",
      "shape of test_identity_row_drop is: (131078, 41)\n"
     ]
    }
   ],
   "source": [
    "print('shape of train_transaction_row_drop is:', train_transaction_row_drop.shape)\n",
    "print('shape of test_transaction_row_drop is:', test_transaction_row_drop.shape)\n",
    "print('shape of train_identity_row_drop is:', train_id_row_drop.shape)\n",
    "print('shape of test_identity_row_drop is:', test_id_row_drop.shape)"
   ]
  },
  {
   "cell_type": "markdown",
   "metadata": {},
   "source": [
    "We will concat train and test dataframes such that we have one `transaction` dataframe and one `identity` dataframe.\n",
    "This will make the preprocessing of our data much easier compared to doing everything twice on both train and test dataframes.\n",
    "And then we will simply split the dataframe up into `train` and `test`."
   ]
  },
  {
   "cell_type": "code",
   "execution_count": 20,
   "metadata": {},
   "outputs": [],
   "source": [
    "transaction = pd.concat([train_transaction_row_drop, test_transaction_row_drop])\n",
    "identity = pd.concat([train_id_row_drop, test_id_row_drop])"
   ]
  },
  {
   "cell_type": "code",
   "execution_count": 21,
   "metadata": {},
   "outputs": [],
   "source": [
    "transaction_org = transaction\n",
    "identity_org = identity"
   ]
  },
  {
   "cell_type": "code",
   "execution_count": 22,
   "metadata": {},
   "outputs": [
    {
     "name": "stdout",
     "output_type": "stream",
     "text": [
      "no duplicates in transaction: True\n",
      "no duplicates in identity: True\n"
     ]
    }
   ],
   "source": [
    "#make sure there are no duplicate columns in transaction and identity\n",
    "trans_col = []\n",
    "id_col = []\n",
    "for col in identity.columns:\n",
    "    id_col.append(col)\n",
    "for col in transaction.columns:\n",
    "    trans_col.append(col)\n",
    "trans_set = [*set(trans_col)]\n",
    "id_set = [*set(id_col)]\n",
    "\n",
    "print(\"no duplicates in transaction:\",len(trans_col)==len(trans_set))\n",
    "print(\"no duplicates in identity:\",len(id_col)==len(id_set))"
   ]
  },
  {
   "cell_type": "markdown",
   "metadata": {},
   "source": [
    "## 2.3 Feature Analysis\n",
    "### 2.3.1 Identity"
   ]
  },
  {
   "cell_type": "code",
   "execution_count": 23,
   "metadata": {},
   "outputs": [
    {
     "name": "stdout",
     "output_type": "stream",
     "text": [
      "['id_12', 'id_15', 'id_16', 'id_23', 'id_27', 'id_28', 'id_29', 'id_30', 'id_31', 'id_33', 'id_34', 'id_35', 'id_36', 'id_37', 'id_38', 'DeviceType', 'DeviceInfo']\n",
      "number categorical identity features:  17 \n",
      "\n",
      "['TransactionID', 'id_01', 'id_02', 'id_03', 'id_04', 'id_05', 'id_06', 'id_07', 'id_08', 'id_09', 'id_10', 'id_11', 'id_13', 'id_14', 'id_17', 'id_18', 'id_19', 'id_20', 'id_21', 'id_22', 'id_24', 'id_25', 'id_26', 'id_32']\n",
      "number numerical identity features:  24\n"
     ]
    }
   ],
   "source": [
    "c = (identity.dtypes == 'object')\n",
    "n = (identity.dtypes != 'object')\n",
    "cat_id_cols = list(c[c].index) # a list of categorical features of identity\n",
    "num_id_cols = list(n[n].index) # a list of numerical features of identity\n",
    "\n",
    "print(cat_id_cols)\n",
    "print(\"number categorical identity features: \", len(cat_id_cols), \"\\n\")\n",
    "print(num_id_cols)\n",
    "print(\"number numerical identity features: \", len(num_id_cols))"
   ]
  },
  {
   "cell_type": "markdown",
   "metadata": {},
   "source": [
    "### 2.3.1 Transaction"
   ]
  },
  {
   "cell_type": "code",
   "execution_count": 24,
   "metadata": {},
   "outputs": [
    {
     "name": "stdout",
     "output_type": "stream",
     "text": [
      "['ProductCD', 'card4', 'card6', 'P_emaildomain', 'R_emaildomain', 'M1', 'M2', 'M3', 'M4', 'M5', 'M6', 'M7', 'M8', 'M9']\n",
      "number categorical transaction features:  14 \n",
      "\n",
      "['TransactionID', 'isFraud', 'TransactionDT', 'TransactionAmt', 'card1', 'card2', 'card3', 'card5', 'addr1', 'addr2', 'dist1', 'dist2', 'C1', 'C2', 'C3', 'C4', 'C5', 'C6', 'C7', 'C8', 'C9', 'C10', 'C11', 'C12', 'C13', 'C14', 'D1', 'D2', 'D3', 'D4', 'D5', 'D6', 'D7', 'D8', 'D9', 'D10', 'D11', 'D12', 'D13', 'D14', 'D15', 'V1', 'V2', 'V3', 'V4', 'V5', 'V6', 'V7', 'V8', 'V9', 'V10', 'V11', 'V12', 'V13', 'V14', 'V15', 'V16', 'V17', 'V18', 'V19', 'V20', 'V21', 'V22', 'V23', 'V24', 'V25', 'V26', 'V27', 'V28', 'V29', 'V30', 'V31', 'V32', 'V33', 'V34', 'V35', 'V36', 'V37', 'V38', 'V39', 'V40', 'V41', 'V42', 'V43', 'V44', 'V45', 'V46', 'V47', 'V48', 'V49', 'V50', 'V51', 'V52', 'V53', 'V54', 'V55', 'V56', 'V57', 'V58', 'V59', 'V60', 'V61', 'V62', 'V63', 'V64', 'V65', 'V66', 'V67', 'V68', 'V69', 'V70', 'V71', 'V72', 'V73', 'V74', 'V75', 'V76', 'V77', 'V78', 'V79', 'V80', 'V81', 'V82', 'V83', 'V84', 'V85', 'V86', 'V87', 'V88', 'V89', 'V90', 'V91', 'V92', 'V93', 'V94', 'V95', 'V96', 'V97', 'V98', 'V99', 'V100', 'V101', 'V102', 'V103', 'V104', 'V105', 'V106', 'V107', 'V108', 'V109', 'V110', 'V111', 'V112', 'V113', 'V114', 'V115', 'V116', 'V117', 'V118', 'V119', 'V120', 'V121', 'V122', 'V123', 'V124', 'V125', 'V126', 'V127', 'V128', 'V129', 'V130', 'V131', 'V132', 'V133', 'V134', 'V135', 'V136', 'V137', 'V138', 'V139', 'V140', 'V141', 'V142', 'V143', 'V144', 'V145', 'V146', 'V147', 'V148', 'V149', 'V150', 'V151', 'V152', 'V153', 'V154', 'V155', 'V156', 'V157', 'V158', 'V159', 'V160', 'V161', 'V162', 'V163', 'V164', 'V165', 'V166', 'V167', 'V168', 'V169', 'V170', 'V171', 'V172', 'V173', 'V174', 'V175', 'V176', 'V177', 'V178', 'V179', 'V180', 'V181', 'V182', 'V183', 'V184', 'V185', 'V186', 'V187', 'V188', 'V189', 'V190', 'V191', 'V192', 'V193', 'V194', 'V195', 'V196', 'V197', 'V198', 'V199', 'V200', 'V201', 'V202', 'V203', 'V204', 'V205', 'V206', 'V207', 'V208', 'V209', 'V210', 'V211', 'V212', 'V213', 'V214', 'V215', 'V216', 'V217', 'V218', 'V219', 'V220', 'V221', 'V222', 'V223', 'V224', 'V225', 'V226', 'V227', 'V228', 'V229', 'V230', 'V231', 'V232', 'V233', 'V234', 'V235', 'V236', 'V237', 'V238', 'V239', 'V240', 'V241', 'V242', 'V243', 'V244', 'V245', 'V246', 'V247', 'V248', 'V249', 'V250', 'V251', 'V252', 'V253', 'V254', 'V255', 'V256', 'V257', 'V258', 'V259', 'V260', 'V261', 'V262', 'V263', 'V264', 'V265', 'V266', 'V267', 'V268', 'V269', 'V270', 'V271', 'V272', 'V273', 'V274', 'V275', 'V276', 'V277', 'V278', 'V279', 'V280', 'V281', 'V282', 'V283', 'V284', 'V285', 'V286', 'V287', 'V288', 'V289', 'V290', 'V291', 'V292', 'V293', 'V294', 'V295', 'V296', 'V297', 'V298', 'V299', 'V300', 'V301', 'V302', 'V303', 'V304', 'V305', 'V306', 'V307', 'V308', 'V309', 'V310', 'V311', 'V312', 'V313', 'V314', 'V315', 'V316', 'V317', 'V318', 'V319', 'V320', 'V321', 'V322', 'V323', 'V324', 'V325', 'V326', 'V327', 'V328', 'V329', 'V330', 'V331', 'V332', 'V333', 'V334', 'V335', 'V336', 'V337', 'V338', 'V339']\n",
      "number numerical transaction features:  380\n"
     ]
    }
   ],
   "source": [
    "c = (transaction.dtypes == 'object')\n",
    "n = (transaction.dtypes != 'object')\n",
    "cat_trans_cols = list(c[c].index) # a list of categorical features of transaction\n",
    "num_trans_cols = list(n[n].index) # a list of numerical features of transaction\n",
    "\n",
    "print(cat_trans_cols)\n",
    "print(\"number categorical transaction features: \", len(cat_trans_cols), \"\\n\")\n",
    "print(num_trans_cols)\n",
    "print(\"number numerical transaction features: \", len(num_trans_cols))"
   ]
  },
  {
   "cell_type": "code",
   "execution_count": null,
   "metadata": {},
   "outputs": [],
   "source": [
    "del train_transaction, train_identity, test_transaction, test_identity"
   ]
  },
  {
   "cell_type": "markdown",
   "metadata": {},
   "source": [
    "# 3 Missing Values\n",
    "## 3.1 Identifying Missing Values"
   ]
  },
  {
   "cell_type": "code",
   "execution_count": 25,
   "metadata": {},
   "outputs": [
    {
     "name": "stdout",
     "output_type": "stream",
     "text": [
      "There are 30 columns in identity dataset with missing values.\n",
      "There are 389 columns in transaction dataset with missing values.\n"
     ]
    }
   ],
   "source": [
    "print(f'There are {identity.isnull().any().sum()} columns in identity dataset with missing values.')\n",
    "print(f'There are {transaction.isnull().any().sum()} columns in transaction dataset with missing values.')"
   ]
  },
  {
   "cell_type": "code",
   "execution_count": null,
   "metadata": {},
   "outputs": [],
   "source": [
    "identity.isnull().sum()"
   ]
  },
  {
   "cell_type": "code",
   "execution_count": null,
   "metadata": {},
   "outputs": [],
   "source": [
    "transaction.isnull().sum()"
   ]
  },
  {
   "cell_type": "markdown",
   "metadata": {},
   "source": [
    "### 3.1.1 Missing values for Identity Category Features\n",
    "> ['id_12', 'id_15', 'id_16', 'id_23', 'id_27', 'id_28', 'id_29', 'id_30', 'id_31', 'id_33', 'id_34', 'id_35', 'id_36', 'id_37', 'id_38', 'DeviceType', 'DeviceInfo']"
   ]
  },
  {
   "cell_type": "code",
   "execution_count": 26,
   "metadata": {},
   "outputs": [
    {
     "name": "stdout",
     "output_type": "stream",
     "text": [
      "category features of identity:\n",
      "number low missing (< 15%):  12 ,it's:  ['id_12', 'id_15', 'id_16', 'id_28', 'id_29', 'id_31', 'id_35', 'id_36', 'id_37', 'id_38', 'DeviceType', 'DeviceInfo']\n",
      "number medium missing (>= 15% and < 60%):  3 ,it's:  ['id_30', 'id_33', 'id_34']\n",
      "number many missing (>= 60%):  2 ,it's:  ['id_23', 'id_27']\n"
     ]
    }
   ],
   "source": [
    "low_missing_cat_id_cols = []      # lower than 15% missing values\n",
    "medium_missing_cat_id_cols = []   # between 15% and 60% missing\n",
    "many_missing_cat_id_cols = []     # more than 60% missing\n",
    "\n",
    "for i in cat_id_cols:\n",
    "    percentage = identity[i].isnull().sum() * 100 / len(identity[i])\n",
    "    if percentage < 15:\n",
    "        low_missing_cat_id_cols.append(i)\n",
    "    elif percentage >= 15 and percentage < 60:\n",
    "        medium_missing_cat_id_cols.append(i)\n",
    "    else:\n",
    "        many_missing_cat_id_cols.append(i)\n",
    "        \n",
    "print(\"category features of identity:\")      \n",
    "print(\"number low missing (< 15%): \", len(low_missing_cat_id_cols), \",it's: \", low_missing_cat_id_cols)\n",
    "print(\"number medium missing (>= 15% and < 60%): \", len(medium_missing_cat_id_cols), \",it's: \", medium_missing_cat_id_cols)\n",
    "print(\"number many missing (>= 60%): \", len(many_missing_cat_id_cols), \",it's: \", many_missing_cat_id_cols)"
   ]
  },
  {
   "cell_type": "code",
   "execution_count": 27,
   "metadata": {},
   "outputs": [
    {
     "data": {
      "image/png": "[encoded data removed]",
      "text/plain": [
       "<Figure size 800x400 with 1 Axes>"
      ]
     },
     "metadata": {},
     "output_type": "display_data"
    }
   ],
   "source": [
    "fig, ax = plt.subplots(figsize=(8,4), dpi=100)\n",
    "x_data, y_data = ['< 15%', '>= 15% and < 60%', '>= 60%'], [len(low_missing_cat_id_cols), len(medium_missing_cat_id_cols), len(many_missing_cat_id_cols)]\n",
    "bar = plt.bar(x_data, y_data, 0.5, color='blue',edgecolor='grey')\n",
    "ax.set_title('Category features missing values of identity',fontsize=14,y=1.05)\n",
    "for a,b in zip(x_data, y_data): # show data label\n",
    "    plt.text(a,b,\n",
    "             b,\n",
    "             ha='center', \n",
    "             va='bottom',\n",
    "            )"
   ]
  },
  {
   "cell_type": "markdown",
   "metadata": {},
   "source": [
    "### 3.1.2 Missing values for Identity Numerical Features\n",
    "> ['TransactionID', 'id_01', 'id_02', 'id_03', 'id_04', 'id_05', 'id_06', 'id_07', 'id_08', 'id_09', 'id_10', 'id_11', 'id_13', 'id_14', 'id_17', 'id_18', 'id_19', 'id_20', 'id_21', 'id_22', 'id_24', 'id_25', 'id_26', 'id_32'] "
   ]
  },
  {
   "cell_type": "code",
   "execution_count": 28,
   "metadata": {},
   "outputs": [
    {
     "name": "stdout",
     "output_type": "stream",
     "text": [
      "numerical features of identity:\n",
      "number low missing (< 15%):  10 ,it's:  ['TransactionID', 'id_01', 'id_02', 'id_05', 'id_06', 'id_11', 'id_13', 'id_17', 'id_19', 'id_20']\n",
      "number medium missing (>= 15% and < 60%):  6 ,it's:  ['id_03', 'id_04', 'id_09', 'id_10', 'id_14', 'id_32']\n",
      "number many missing (>= 60%):  8 ,it's:  ['id_07', 'id_08', 'id_18', 'id_21', 'id_22', 'id_24', 'id_25', 'id_26']\n"
     ]
    }
   ],
   "source": [
    "low_missing_num_id_cols = []      # lower than 15% missing values\n",
    "medium_missing_num_id_cols = []   # between 15% and 60% missing\n",
    "many_missing_num_id_cols = []     # more than 60% missing\n",
    "\n",
    "for i in num_id_cols:\n",
    "    percentage = identity[i].isnull().sum() * 100 / len(identity[i])\n",
    "    if percentage < 15:\n",
    "        low_missing_num_id_cols.append(i)\n",
    "    elif percentage >= 15 and percentage < 60:\n",
    "        medium_missing_num_id_cols.append(i)\n",
    "    else:\n",
    "        many_missing_num_id_cols.append(i)\n",
    "        \n",
    "print(\"numerical features of identity:\")      \n",
    "print(\"number low missing (< 15%): \", len(low_missing_num_id_cols), \",it's: \", low_missing_num_id_cols)\n",
    "print(\"number medium missing (>= 15% and < 60%): \", len(medium_missing_num_id_cols), \",it's: \", medium_missing_num_id_cols)\n",
    "print(\"number many missing (>= 60%): \", len(many_missing_num_id_cols), \",it's: \", many_missing_num_id_cols)"
   ]
  },
  {
   "cell_type": "code",
   "execution_count": 29,
   "metadata": {},
   "outputs": [
    {
     "data": {
      "image/png": "[encoded data removed]",
      "text/plain": [
       "<Figure size 800x400 with 1 Axes>"
      ]
     },
     "metadata": {},
     "output_type": "display_data"
    }
   ],
   "source": [
    "fig, ax = plt.subplots(figsize=(8,4), dpi=100)\n",
    "x_data, y_data = ['< 15%', '>= 15% and < 60%', '>= 60%'], [len(low_missing_num_id_cols), len(medium_missing_num_id_cols), len(many_missing_num_id_cols)]\n",
    "bar = plt.bar(x_data, y_data, 0.5, color='blue',edgecolor='grey')\n",
    "ax.set_title('Numerical features missing values of identity',fontsize=14,y=1.05)\n",
    "for a,b in zip(x_data, y_data): # show data label\n",
    "    plt.text(a,b,\n",
    "             b,\n",
    "             ha='center', \n",
    "             va='bottom',\n",
    "            )"
   ]
  },
  {
   "cell_type": "markdown",
   "metadata": {},
   "source": [
    "### 3.1.3 Missing values for Transaction Category Features\n",
    "> ['ProductCD', 'card4', 'card6', 'P_emaildomain', 'R_emaildomain', 'M1', 'M2', 'M3', 'M4', 'M5', 'M6', 'M7', 'M8', 'M9'] "
   ]
  },
  {
   "cell_type": "code",
   "execution_count": 30,
   "metadata": {},
   "outputs": [
    {
     "name": "stdout",
     "output_type": "stream",
     "text": [
      "cat_trans_cols:\n",
      "number low missing:  4 ,it's:  ['ProductCD', 'card4', 'card6', 'P_emaildomain']\n",
      "number medium missing:  8 ,it's:  ['M1', 'M2', 'M3', 'M4', 'M6', 'M7', 'M8', 'M9']\n",
      "number many missing:  2 ,it's:  ['R_emaildomain', 'M5']\n"
     ]
    }
   ],
   "source": [
    "low_missing_cat_trans_cols = []      # lower than 15% missing values\n",
    "medium_missing_cat_trans_cols = []   # between 15% and 60% missing\n",
    "many_missing_cat_trans_cols = []     # more than 60% missing\n",
    "\n",
    "for i in cat_trans_cols:\n",
    "    percentage = transaction[i].isnull().sum() * 100 / len(transaction[i])\n",
    "    if percentage < 15:\n",
    "        low_missing_cat_trans_cols.append(i)\n",
    "    elif percentage >= 15 and percentage < 60:\n",
    "        medium_missing_cat_trans_cols.append(i)\n",
    "    else:\n",
    "        many_missing_cat_trans_cols.append(i)\n",
    "        \n",
    "print(\"cat_trans_cols:\")    \n",
    "print(\"number low missing: \", len(low_missing_cat_trans_cols), \",it's: \", low_missing_cat_trans_cols)\n",
    "print(\"number medium missing: \", len(medium_missing_cat_trans_cols), \",it's: \", medium_missing_cat_trans_cols)\n",
    "print(\"number many missing: \", len(many_missing_cat_trans_cols), \",it's: \", many_missing_cat_trans_cols)"
   ]
  },
  {
   "cell_type": "code",
   "execution_count": 31,
   "metadata": {},
   "outputs": [
    {
     "data": {
      "image/png": "[encoded data removed]",
      "text/plain": [
       "<Figure size 800x400 with 1 Axes>"
      ]
     },
     "metadata": {},
     "output_type": "display_data"
    }
   ],
   "source": [
    "fig, ax = plt.subplots(figsize=(8,4), dpi=100)\n",
    "x_data, y_data = ['< 15%', '>= 15% and < 60%', '>= 60%'], [len(low_missing_cat_trans_cols), len(medium_missing_cat_trans_cols), len(many_missing_cat_trans_cols)]\n",
    "bar = plt.bar(x_data, y_data, 0.5, color='yellow',edgecolor='grey')\n",
    "ax.set_title('Category features missing values of transaction',fontsize=14,y=1.05)\n",
    "for a,b in zip(x_data, y_data): # show data label\n",
    "    plt.text(a,b,\n",
    "             b,\n",
    "             ha='center', \n",
    "             va='bottom',\n",
    "            )"
   ]
  },
  {
   "cell_type": "markdown",
   "metadata": {},
   "source": [
    "### 3.1.4 Missing values for Transaction Numerical Features\n",
    "> ['TransactionID', 'TransactionDT', 'TransactionAmt', 'card1', 'card2', 'card3', 'card5', 'addr1', 'addr2', 'dist1', 'dist2', 'C1', 'C2', 'C3', 'C4', 'C5', 'C6', 'C7', 'C8', 'C9', 'C10', 'C11', 'C12', 'C13', 'C14', 'D1', 'D2', 'D3', 'D4', 'D5', 'D6', 'D7', 'D8', 'D9', 'D10', 'D11', 'D12', 'D13', 'D14', 'D15', 'V1', 'V2', 'V3', 'V4', 'V5', 'V6', 'V7', 'V8', 'V9', 'V10', 'V11', 'V12', 'V13', 'V14', 'V15', 'V16', 'V17', 'V18', 'V19', 'V20', 'V21', 'V22', 'V23', 'V24', 'V25', 'V26', 'V27', 'V28', 'V29', 'V30', 'V31', 'V32', 'V33', 'V34', 'V35', 'V36', 'V37', 'V38', 'V39', 'V40', 'V41', 'V42', 'V43', 'V44', 'V45', 'V46', 'V47', 'V48', 'V49', 'V50', 'V51', 'V52', 'V53', 'V54', 'V55', 'V56', 'V57', 'V58', 'V59', 'V60', 'V61', 'V62', 'V63', 'V64', 'V65', 'V66', 'V67', 'V68', 'V69', 'V70', 'V71', 'V72', 'V73', 'V74', 'V75', 'V76', 'V77', 'V78', 'V79', 'V80', 'V81', 'V82', 'V83', 'V84', 'V85', 'V86', 'V87', 'V88', 'V89', 'V90', 'V91', 'V92', 'V93', 'V94', 'V95', 'V96', 'V97', 'V98', 'V99', 'V100', 'V101', 'V102', 'V103', 'V104', 'V105', 'V106', 'V107', 'V108', 'V109', 'V110', 'V111', 'V112', 'V113', 'V114', 'V115', 'V116', 'V117', 'V118', 'V119', 'V120', 'V121', 'V122', 'V123', 'V124', 'V125', 'V126', 'V127', 'V128', 'V129', 'V130', 'V131', 'V132', 'V133', 'V134', 'V135', 'V136', 'V137', 'V138', 'V139', 'V140', 'V141', 'V142', 'V143', 'V144', 'V145', 'V146', 'V147', 'V148', 'V149', 'V150', 'V151', 'V152', 'V153', 'V154', 'V155', 'V156', 'V157', 'V158', 'V159', 'V160', 'V161', 'V162', 'V163', 'V164', 'V165', 'V166', 'V167', 'V168', 'V169', 'V170', 'V171', 'V172', 'V173', 'V174', 'V175', 'V176', 'V177', 'V178', 'V179', 'V180', 'V181', 'V182', 'V183', 'V184', 'V185', 'V186', 'V187', 'V188', 'V189', 'V190', 'V191', 'V192', 'V193', 'V194', 'V195', 'V196', 'V197', 'V198', 'V199', 'V200', 'V201', 'V202', 'V203', 'V204', 'V205', 'V206', 'V207', 'V208', 'V209', 'V210', 'V211', 'V212', 'V213', 'V214', 'V215', 'V216', 'V217', 'V218', 'V219', 'V220', 'V221', 'V222', 'V223', 'V224', 'V225', 'V226', 'V227', 'V228', 'V229', 'V230', 'V231', 'V232', 'V233', 'V234', 'V235', 'V236', 'V237', 'V238', 'V239', 'V240', 'V241', 'V242', 'V243', 'V244', 'V245', 'V246', 'V247', 'V248', 'V249', 'V250', 'V251', 'V252', 'V253', 'V254', 'V255', 'V256', 'V257', 'V258', 'V259', 'V260', 'V261', 'V262', 'V263', 'V264', 'V265', 'V266', 'V267', 'V268', 'V269', 'V270', 'V271', 'V272', 'V273', 'V274', 'V275', 'V276', 'V277', 'V278', 'V279', 'V280', 'V281', 'V282', 'V283', 'V284', 'V285', 'V286', 'V287', 'V288', 'V289', 'V290', 'V291', 'V292', 'V293', 'V294', 'V295', 'V296', 'V297', 'V298', 'V299', 'V300', 'V301', 'V302', 'V303', 'V304', 'V305', 'V306', 'V307', 'V308', 'V309', 'V310', 'V311', 'V312', 'V313', 'V314', 'V315', 'V316', 'V317', 'V318', 'V319', 'V320', 'V321', 'V322', 'V323', 'V324', 'V325', 'V326', 'V327', 'V328', 'V329', 'V330', 'V331', 'V332', 'V333', 'V334', 'V335', 'V336', 'V337', 'V338', 'V339'] "
   ]
  },
  {
   "cell_type": "code",
   "execution_count": 32,
   "metadata": {},
   "outputs": [
    {
     "name": "stdout",
     "output_type": "stream",
     "text": [
      "numerical features of identity:\n",
      "number low missing (< 15%):  177 ,it's:  ['TransactionID', 'TransactionDT', 'TransactionAmt', 'card1', 'card2', 'card3', 'card5', 'addr1', 'addr2', 'C1', 'C2', 'C3', 'C4', 'C5', 'C6', 'C7', 'C8', 'C9', 'C10', 'C11', 'C12', 'C13', 'C14', 'D1', 'D10', 'D15', 'V12', 'V13', 'V14', 'V15', 'V16', 'V17', 'V18', 'V19', 'V20', 'V21', 'V22', 'V23', 'V24', 'V25', 'V26', 'V27', 'V28', 'V29', 'V30', 'V31', 'V32', 'V33', 'V34', 'V53', 'V54', 'V55', 'V56', 'V57', 'V58', 'V59', 'V60', 'V61', 'V62', 'V63', 'V64', 'V65', 'V66', 'V67', 'V68', 'V69', 'V70', 'V71', 'V72', 'V73', 'V74', 'V75', 'V76', 'V77', 'V78', 'V79', 'V80', 'V81', 'V82', 'V83', 'V84', 'V85', 'V86', 'V87', 'V88', 'V89', 'V90', 'V91', 'V92', 'V93', 'V94', 'V95', 'V96', 'V97', 'V98', 'V99', 'V100', 'V101', 'V102', 'V103', 'V104', 'V105', 'V106', 'V107', 'V108', 'V109', 'V110', 'V111', 'V112', 'V113', 'V114', 'V115', 'V116', 'V117', 'V118', 'V119', 'V120', 'V121', 'V122', 'V123', 'V124', 'V125', 'V126', 'V127', 'V128', 'V129', 'V130', 'V131', 'V132', 'V133', 'V134', 'V135', 'V136', 'V137', 'V279', 'V280', 'V281', 'V282', 'V283', 'V284', 'V285', 'V286', 'V287', 'V288', 'V289', 'V290', 'V291', 'V292', 'V293', 'V294', 'V295', 'V296', 'V297', 'V298', 'V299', 'V300', 'V301', 'V302', 'V303', 'V304', 'V305', 'V306', 'V307', 'V308', 'V309', 'V310', 'V311', 'V312', 'V313', 'V314', 'V315', 'V316', 'V317', 'V318', 'V319', 'V320', 'V321']\n",
      "number medium missing (>= 15% and < 60%):  36 ,it's:  ['isFraud', 'dist1', 'D2', 'D3', 'D4', 'D5', 'D11', 'V1', 'V2', 'V3', 'V4', 'V5', 'V6', 'V7', 'V8', 'V9', 'V10', 'V11', 'V35', 'V36', 'V37', 'V38', 'V39', 'V40', 'V41', 'V42', 'V43', 'V44', 'V45', 'V46', 'V47', 'V48', 'V49', 'V50', 'V51', 'V52']\n",
      "number many missing (>= 60%):  167 ,it's:  ['dist2', 'D6', 'D7', 'D8', 'D9', 'D12', 'D13', 'D14', 'V138', 'V139', 'V140', 'V141', 'V142', 'V143', 'V144', 'V145', 'V146', 'V147', 'V148', 'V149', 'V150', 'V151', 'V152', 'V153', 'V154', 'V155', 'V156', 'V157', 'V158', 'V159', 'V160', 'V161', 'V162', 'V163', 'V164', 'V165', 'V166', 'V167', 'V168', 'V169', 'V170', 'V171', 'V172', 'V173', 'V174', 'V175', 'V176', 'V177', 'V178', 'V179', 'V180', 'V181', 'V182', 'V183', 'V184', 'V185', 'V186', 'V187', 'V188', 'V189', 'V190', 'V191', 'V192', 'V193', 'V194', 'V195', 'V196', 'V197', 'V198', 'V199', 'V200', 'V201', 'V202', 'V203', 'V204', 'V205', 'V206', 'V207', 'V208', 'V209', 'V210', 'V211', 'V212', 'V213', 'V214', 'V215', 'V216', 'V217', 'V218', 'V219', 'V220', 'V221', 'V222', 'V223', 'V224', 'V225', 'V226', 'V227', 'V228', 'V229', 'V230', 'V231', 'V232', 'V233', 'V234', 'V235', 'V236', 'V237', 'V238', 'V239', 'V240', 'V241', 'V242', 'V243', 'V244', 'V245', 'V246', 'V247', 'V248', 'V249', 'V250', 'V251', 'V252', 'V253', 'V254', 'V255', 'V256', 'V257', 'V258', 'V259', 'V260', 'V261', 'V262', 'V263', 'V264', 'V265', 'V266', 'V267', 'V268', 'V269', 'V270', 'V271', 'V272', 'V273', 'V274', 'V275', 'V276', 'V277', 'V278', 'V322', 'V323', 'V324', 'V325', 'V326', 'V327', 'V328', 'V329', 'V330', 'V331', 'V332', 'V333', 'V334', 'V335', 'V336', 'V337', 'V338', 'V339']\n"
     ]
    }
   ],
   "source": [
    "low_missing_num_trans_cols = []      # lower than 15% missing values\n",
    "medium_missing_num_trans_cols = []   # between 15% and 60% missing\n",
    "many_missing_num_trans_cols = []     # more than 60% missing\n",
    "\n",
    "for i in num_trans_cols:\n",
    "    percentage = transaction[i].isnull().sum() * 100 / len(transaction[i])\n",
    "    if percentage < 15:\n",
    "        low_missing_num_trans_cols.append(i)\n",
    "    elif percentage >= 15 and percentage < 60:\n",
    "        medium_missing_num_trans_cols.append(i)\n",
    "    else:\n",
    "        many_missing_num_trans_cols.append(i)\n",
    "        \n",
    "print(\"numerical features of identity:\")      \n",
    "print(\"number low missing (< 15%): \", len(low_missing_num_trans_cols), \",it's: \", low_missing_num_trans_cols)\n",
    "print(\"number medium missing (>= 15% and < 60%): \", len(medium_missing_num_trans_cols), \",it's: \", medium_missing_num_trans_cols)\n",
    "print(\"number many missing (>= 60%): \", len(many_missing_num_trans_cols), \",it's: \", many_missing_num_trans_cols)"
   ]
  },
  {
   "cell_type": "code",
   "execution_count": 33,
   "metadata": {},
   "outputs": [
    {
     "data": {
      "image/png": "[encoded data removed]",
      "text/plain": [
       "<Figure size 800x400 with 1 Axes>"
      ]
     },
     "metadata": {},
     "output_type": "display_data"
    }
   ],
   "source": [
    "fig, ax = plt.subplots(figsize=(8,4), dpi=100)\n",
    "x_data, y_data = ['< 15%', '>= 15% and < 60%', '>= 60%'], [len(low_missing_num_trans_cols), len(medium_missing_num_trans_cols), len(many_missing_num_trans_cols)]\n",
    "bar = plt.bar(x_data, y_data, 0.5, color='yellow',edgecolor='grey')\n",
    "ax.set_title('Category features missing values of transaction',fontsize=14,y=1.05)\n",
    "for a,b in zip(x_data, y_data): # show data label\n",
    "    plt.text(a,b,\n",
    "             b,\n",
    "             ha='center', \n",
    "             va='bottom',\n",
    "            )"
   ]
  },
  {
   "cell_type": "code",
   "execution_count": null,
   "metadata": {},
   "outputs": [],
   "source": [
    "# Summary so far:\n",
    "\n",
    "# we have 2 dataframes:   transaction and identity\n",
    "\n",
    "####################################################################\n",
    "# features:\n",
    "\n",
    "# identity:        17 categorical and  24 numerical features\n",
    "# transaction:     14 categorical and 379 numerical features\n",
    "####################################################################\n",
    "# missing values:\n",
    "\n",
    "# cat_id_cols:        11 low,    4 medium,    2 many \n",
    "# num_id_cols:        10 low,    6 medium,    8 many\n",
    "\n",
    "# cat_trans_cols:      4 low,    8 medium,    2 many \n",
    "# num_trans_cols:    177 low,   35 medium,  167 many\n",
    "####################################################################"
   ]
  },
  {
   "cell_type": "markdown",
   "metadata": {},
   "source": [
    "## 3.2 Dealing with Missing Values\n",
    "### 3.2.1 Numerical Features\n",
    "#### 3.2.1.1 Drop numerical features with many missing values"
   ]
  },
  {
   "cell_type": "code",
   "execution_count": 34,
   "metadata": {},
   "outputs": [
    {
     "name": "stdout",
     "output_type": "stream",
     "text": [
      "shape before dropping num_trans_cols:  394\n",
      "number of columns of transaction after dropping num_trans_cols:  227\n",
      "shape before dropping num_id_cols:  41\n",
      "number of columns of identity after dropping num_id_cols:  33\n"
     ]
    }
   ],
   "source": [
    "print(\"shape before dropping num_trans_cols: \", transaction.shape[1])        \n",
    "transaction = transaction.drop(columns = many_missing_num_trans_cols)\n",
    "print(\"number of columns of transaction after dropping num_trans_cols: \", transaction.shape[1])    \n",
    "\n",
    "\n",
    "print(\"shape before dropping num_id_cols: \", identity.shape[1])        \n",
    "identity = identity.drop(columns = many_missing_num_id_cols)\n",
    "print(\"number of columns of identity after dropping num_id_cols: \", identity.shape[1])\n",
    "\n",
    "\n",
    "# because we dropped some numerical columns from the dataframe,\n",
    "# we must create the list 'num_trans_cols' and\n",
    "# 'num_id_cols' again such that the dropped cols are no longer in them\n",
    "n = (transaction.dtypes != 'object')\n",
    "num_trans_cols = list(n[n].index) \n",
    "\n",
    "n = (identity.dtypes != 'object')\n",
    "num_id_cols = list(n[n].index) "
   ]
  },
  {
   "cell_type": "markdown",
   "metadata": {},
   "source": [
    "#### 3.2.1.2  Impute numerical features with low missing values\n",
    "##### identity"
   ]
  },
  {
   "cell_type": "code",
   "execution_count": 35,
   "metadata": {},
   "outputs": [
    {
     "name": "stdout",
     "output_type": "stream",
     "text": [
      "values before imputing:          TransactionID  id_01     id_02  id_05  id_06  id_11  id_13  id_17  \\\n",
      "0             2987004    0.0   70787.0    NaN    NaN  100.0    NaN  166.0   \n",
      "1             2987008   -5.0   98945.0    0.0   -5.0  100.0   49.0  166.0   \n",
      "2             2987010   -5.0  191631.0    0.0    0.0  100.0   52.0  121.0   \n",
      "3             2987011   -5.0  221832.0    0.0   -6.0  100.0   52.0  225.0   \n",
      "4             2987016    0.0    7460.0    1.0    0.0  100.0    NaN  166.0   \n",
      "...               ...    ...       ...    ...    ...    ...    ...    ...   \n",
      "141902        4170230  -20.0  473365.0    0.0    0.0  100.0   27.0  225.0   \n",
      "141903        4170233   -5.0  489917.0   -4.0  -32.0  100.0   27.0  225.0   \n",
      "141904        4170234   -5.0  110081.0   22.0  -31.0  100.0   27.0  166.0   \n",
      "141905        4170236  -45.0  266704.0   -3.0  -10.0  100.0   27.0  225.0   \n",
      "141906        4170239  -10.0  692090.0    0.0    0.0  100.0   27.0  225.0   \n",
      "\n",
      "        id_19  id_20  \n",
      "0       542.0  144.0  \n",
      "1       621.0  500.0  \n",
      "2       410.0  142.0  \n",
      "3       176.0  507.0  \n",
      "4       529.0  575.0  \n",
      "...       ...    ...  \n",
      "141902  153.0  325.0  \n",
      "141903  417.0  595.0  \n",
      "141904  122.0  177.0  \n",
      "141905  176.0  507.0  \n",
      "141906  266.0  127.0  \n",
      "\n",
      "[265911 rows x 10 columns]\n"
     ]
    }
   ],
   "source": [
    "print(\"values before imputing: \", identity[low_missing_num_id_cols])"
   ]
  },
  {
   "cell_type": "code",
   "execution_count": 36,
   "metadata": {},
   "outputs": [],
   "source": [
    "my_imputer = SimpleImputer(strategy = 'mean') \n",
    "my_imputer.fit(identity[low_missing_num_id_cols])\n",
    "\n",
    "identity[low_missing_num_id_cols] = my_imputer.transform(identity[low_missing_num_id_cols])"
   ]
  },
  {
   "cell_type": "code",
   "execution_count": 37,
   "metadata": {},
   "outputs": [
    {
     "name": "stdout",
     "output_type": "stream",
     "text": [
      "values after imputing:          TransactionID  id_01     id_02      id_05      id_06  id_11  \\\n",
      "0           2987004.0    0.0   70787.0   1.483904  -6.954405  100.0   \n",
      "1           2987008.0   -5.0   98945.0   0.000000  -5.000000  100.0   \n",
      "2           2987010.0   -5.0  191631.0   0.000000   0.000000  100.0   \n",
      "3           2987011.0   -5.0  221832.0   0.000000  -6.000000  100.0   \n",
      "4           2987016.0    0.0    7460.0   1.000000   0.000000  100.0   \n",
      "...               ...    ...       ...        ...        ...    ...   \n",
      "141902      4170230.0  -20.0  473365.0   0.000000   0.000000  100.0   \n",
      "141903      4170233.0   -5.0  489917.0  -4.000000 -32.000000  100.0   \n",
      "141904      4170234.0   -5.0  110081.0  22.000000 -31.000000  100.0   \n",
      "141905      4170236.0  -45.0  266704.0  -3.000000 -10.000000  100.0   \n",
      "141906      4170239.0  -10.0  692090.0   0.000000   0.000000  100.0   \n",
      "\n",
      "            id_13  id_17  id_19  id_20  \n",
      "0       43.563702  166.0  542.0  144.0  \n",
      "1       49.000000  166.0  621.0  500.0  \n",
      "2       52.000000  121.0  410.0  142.0  \n",
      "3       52.000000  225.0  176.0  507.0  \n",
      "4       43.563702  166.0  529.0  575.0  \n",
      "...           ...    ...    ...    ...  \n",
      "141902  27.000000  225.0  153.0  325.0  \n",
      "141903  27.000000  225.0  417.0  595.0  \n",
      "141904  27.000000  166.0  122.0  177.0  \n",
      "141905  27.000000  225.0  176.0  507.0  \n",
      "141906  27.000000  225.0  266.0  127.0  \n",
      "\n",
      "[265911 rows x 10 columns]\n"
     ]
    }
   ],
   "source": [
    "print(\"values after imputing: \", identity[low_missing_num_id_cols])"
   ]
  },
  {
   "cell_type": "markdown",
   "metadata": {},
   "source": [
    "##### transaction"
   ]
  },
  {
   "cell_type": "code",
   "execution_count": 38,
   "metadata": {
    "scrolled": false
   },
   "outputs": [
    {
     "name": "stdout",
     "output_type": "stream",
     "text": [
      "values before imputing:          TransactionID  TransactionDT  TransactionAmt  card1  card2  card3  \\\n",
      "0             2987000          86400          68.500  13926    NaN  150.0   \n",
      "1             2987001          86401          29.000   2755  404.0  150.0   \n",
      "2             2987002          86469          59.000   4663  490.0  150.0   \n",
      "3             2987003          86499          50.000  18132  567.0  150.0   \n",
      "4             2987004          86506          50.000   4497  514.0  150.0   \n",
      "...               ...            ...             ...    ...    ...    ...   \n",
      "506686        4170235       34214279          94.679  13832  375.0  185.0   \n",
      "506687        4170236       34214287          12.173   3154  408.0  185.0   \n",
      "506688        4170237       34214326          49.000  16661  490.0  150.0   \n",
      "506689        4170238       34214337         202.000  16621  516.0  150.0   \n",
      "506690        4170239       34214345          24.346   5713  168.0  144.0   \n",
      "\n",
      "        card5  addr1  addr2   C1  ...   V312     V313     V314     V315  V316  \\\n",
      "0       142.0  315.0   87.0  1.0  ...    0.0   0.0000   0.0000   0.0000   0.0   \n",
      "1       102.0  325.0   87.0  1.0  ...    0.0   0.0000   0.0000   0.0000   0.0   \n",
      "2       166.0  330.0   87.0  1.0  ...    0.0   0.0000   0.0000   0.0000   0.0   \n",
      "3       117.0  476.0   87.0  2.0  ...  135.0   0.0000   0.0000   0.0000  50.0   \n",
      "4       102.0  420.0   87.0  1.0  ...    0.0   0.0000   0.0000   0.0000   0.0   \n",
      "...       ...    ...    ...  ...  ...    ...      ...      ...      ...   ...   \n",
      "506686  224.0  284.0   60.0  1.0  ...    0.0   0.0000   0.0000   0.0000   0.0   \n",
      "506687  224.0    NaN    NaN  1.0  ...    0.0  31.7237  31.7237  31.7237   0.0   \n",
      "506688  226.0  327.0   87.0  1.0  ...    0.0   0.0000   0.0000   0.0000   0.0   \n",
      "506689  224.0  177.0   87.0  1.0  ...    0.0   0.0000   0.0000   0.0000   0.0   \n",
      "506690  147.0    NaN    NaN  1.0  ...    0.0   0.0000   0.0000   0.0000   0.0   \n",
      "\n",
      "          V317   V318  V319  V320  V321  \n",
      "0        117.0    0.0   0.0   0.0   0.0  \n",
      "1          0.0    0.0   0.0   0.0   0.0  \n",
      "2          0.0    0.0   0.0   0.0   0.0  \n",
      "3       1404.0  790.0   0.0   0.0   0.0  \n",
      "4          0.0    0.0   0.0   0.0   0.0  \n",
      "...        ...    ...   ...   ...   ...  \n",
      "506686     0.0    0.0   0.0   0.0   0.0  \n",
      "506687     0.0    0.0   0.0   0.0   0.0  \n",
      "506688     0.0    0.0   0.0   0.0   0.0  \n",
      "506689     0.0    0.0   0.0   0.0   0.0  \n",
      "506690     0.0    0.0   0.0   0.0   0.0  \n",
      "\n",
      "[1053093 rows x 177 columns]\n"
     ]
    }
   ],
   "source": [
    "print(\"values before imputing: \", transaction[low_missing_num_trans_cols])"
   ]
  },
  {
   "cell_type": "code",
   "execution_count": 39,
   "metadata": {},
   "outputs": [],
   "source": [
    "my_imputer = SimpleImputer(strategy = 'mean') \n",
    "my_imputer.fit(transaction[low_missing_num_trans_cols])\n",
    "\n",
    "transaction[low_missing_num_trans_cols] = my_imputer.transform(transaction[low_missing_num_trans_cols])"
   ]
  },
  {
   "cell_type": "code",
   "execution_count": 40,
   "metadata": {},
   "outputs": [
    {
     "name": "stdout",
     "output_type": "stream",
     "text": [
      "values after imputing:          TransactionID  TransactionDT  TransactionAmt    card1       card2  \\\n",
      "0           2987000.0        86400.0          68.500  13926.0  363.333665   \n",
      "1           2987001.0        86401.0          29.000   2755.0  404.000000   \n",
      "2           2987002.0        86469.0          59.000   4663.0  490.000000   \n",
      "3           2987003.0        86499.0          50.000  18132.0  567.000000   \n",
      "4           2987004.0        86506.0          50.000   4497.0  514.000000   \n",
      "...               ...            ...             ...      ...         ...   \n",
      "506686      4170235.0     34214279.0          94.679  13832.0  375.000000   \n",
      "506687      4170236.0     34214287.0          12.173   3154.0  408.000000   \n",
      "506688      4170237.0     34214326.0          49.000  16661.0  490.000000   \n",
      "506689      4170238.0     34214337.0         202.000  16621.0  516.000000   \n",
      "506690      4170239.0     34214345.0          24.346   5713.0  168.000000   \n",
      "\n",
      "        card3  card5       addr1      addr2   C1  ...   V312     V313  \\\n",
      "0       150.0  142.0  315.000000  87.000000  1.0  ...    0.0   0.0000   \n",
      "1       150.0  102.0  325.000000  87.000000  1.0  ...    0.0   0.0000   \n",
      "2       150.0  166.0  330.000000  87.000000  1.0  ...    0.0   0.0000   \n",
      "3       150.0  117.0  476.000000  87.000000  2.0  ...  135.0   0.0000   \n",
      "4       150.0  102.0  420.000000  87.000000  1.0  ...    0.0   0.0000   \n",
      "...       ...    ...         ...        ...  ...  ...    ...      ...   \n",
      "506686  185.0  224.0  284.000000  60.000000  1.0  ...    0.0   0.0000   \n",
      "506687  185.0  224.0  291.298195  86.763485  1.0  ...    0.0  31.7237   \n",
      "506688  150.0  226.0  327.000000  87.000000  1.0  ...    0.0   0.0000   \n",
      "506689  150.0  224.0  177.000000  87.000000  1.0  ...    0.0   0.0000   \n",
      "506690  144.0  147.0  291.298195  86.763485  1.0  ...    0.0   0.0000   \n",
      "\n",
      "           V314     V315  V316    V317   V318  V319  V320  V321  \n",
      "0        0.0000   0.0000   0.0   117.0    0.0   0.0   0.0   0.0  \n",
      "1        0.0000   0.0000   0.0     0.0    0.0   0.0   0.0   0.0  \n",
      "2        0.0000   0.0000   0.0     0.0    0.0   0.0   0.0   0.0  \n",
      "3        0.0000   0.0000  50.0  1404.0  790.0   0.0   0.0   0.0  \n",
      "4        0.0000   0.0000   0.0     0.0    0.0   0.0   0.0   0.0  \n",
      "...         ...      ...   ...     ...    ...   ...   ...   ...  \n",
      "506686   0.0000   0.0000   0.0     0.0    0.0   0.0   0.0   0.0  \n",
      "506687  31.7237  31.7237   0.0     0.0    0.0   0.0   0.0   0.0  \n",
      "506688   0.0000   0.0000   0.0     0.0    0.0   0.0   0.0   0.0  \n",
      "506689   0.0000   0.0000   0.0     0.0    0.0   0.0   0.0   0.0  \n",
      "506690   0.0000   0.0000   0.0     0.0    0.0   0.0   0.0   0.0  \n",
      "\n",
      "[1053093 rows x 177 columns]\n"
     ]
    }
   ],
   "source": [
    "print(\"values after imputing: \", transaction[low_missing_num_trans_cols])"
   ]
  },
  {
   "cell_type": "markdown",
   "metadata": {},
   "source": [
    "#### 3.2.1.3  Impute numerical features with medium missing values\n",
    "##### identity"
   ]
  },
  {
   "cell_type": "code",
   "execution_count": 41,
   "metadata": {},
   "outputs": [
    {
     "name": "stdout",
     "output_type": "stream",
     "text": [
      "values before imputing:          id_03  id_04  id_09  id_10  id_14  id_32\n",
      "0         NaN    NaN    NaN    NaN -480.0   32.0\n",
      "1         NaN    NaN    NaN    NaN -300.0   32.0\n",
      "2         0.0    0.0    0.0    0.0    NaN    NaN\n",
      "3         NaN    NaN    NaN    NaN    NaN    NaN\n",
      "4         0.0    0.0    0.0    0.0 -300.0   24.0\n",
      "...       ...    ...    ...    ...    ...    ...\n",
      "141902    NaN    NaN    NaN    NaN    NaN    NaN\n",
      "141903    0.0    0.0    0.0    0.0    NaN    NaN\n",
      "141904    NaN    NaN    NaN    NaN -300.0   32.0\n",
      "141905    NaN    NaN    NaN    NaN    NaN    NaN\n",
      "141906    0.0    0.0    0.0    0.0    NaN    NaN\n",
      "\n",
      "[265911 rows x 6 columns]\n"
     ]
    }
   ],
   "source": [
    "print(\"values before imputing: \", identity[medium_missing_num_id_cols])\n",
    "\n",
    "my_imputer = SimpleImputer(strategy = 'median') \n",
    "my_imputer.fit(identity[medium_missing_num_id_cols])\n",
    "\n",
    "identity[medium_missing_num_id_cols] = my_imputer.transform(identity[medium_missing_num_id_cols])"
   ]
  },
  {
   "cell_type": "code",
   "execution_count": 42,
   "metadata": {},
   "outputs": [
    {
     "name": "stdout",
     "output_type": "stream",
     "text": [
      "values after imputing:          id_03  id_04  id_09  id_10  id_14  id_32\n",
      "0         0.0    0.0    0.0    0.0 -480.0   32.0\n",
      "1         0.0    0.0    0.0    0.0 -300.0   32.0\n",
      "2         0.0    0.0    0.0    0.0 -300.0   24.0\n",
      "3         0.0    0.0    0.0    0.0 -300.0   24.0\n",
      "4         0.0    0.0    0.0    0.0 -300.0   24.0\n",
      "...       ...    ...    ...    ...    ...    ...\n",
      "141902    0.0    0.0    0.0    0.0 -300.0   24.0\n",
      "141903    0.0    0.0    0.0    0.0 -300.0   24.0\n",
      "141904    0.0    0.0    0.0    0.0 -300.0   32.0\n",
      "141905    0.0    0.0    0.0    0.0 -300.0   24.0\n",
      "141906    0.0    0.0    0.0    0.0 -300.0   24.0\n",
      "\n",
      "[265911 rows x 6 columns]\n"
     ]
    }
   ],
   "source": [
    "print(\"values after imputing: \", identity[medium_missing_num_id_cols])"
   ]
  },
  {
   "cell_type": "markdown",
   "metadata": {},
   "source": [
    "##### transaction"
   ]
  },
  {
   "cell_type": "code",
   "execution_count": 43,
   "metadata": {},
   "outputs": [
    {
     "name": "stdout",
     "output_type": "stream",
     "text": [
      "values before imputing:          isFraud  dist1     D2    D3    D4    D5    D11   V1   V2   V3  ...  \\\n",
      "0           0.0   19.0    NaN  13.0   NaN   NaN   13.0  1.0  1.0  1.0  ...   \n",
      "1           0.0    NaN    NaN   NaN   0.0   NaN    NaN  NaN  NaN  NaN  ...   \n",
      "2           0.0  287.0    NaN   NaN   0.0   NaN  315.0  1.0  1.0  1.0  ...   \n",
      "3           0.0    NaN  112.0   0.0  94.0   0.0    NaN  NaN  NaN  NaN  ...   \n",
      "4           0.0    NaN    NaN   NaN   NaN   NaN    NaN  NaN  NaN  NaN  ...   \n",
      "...         ...    ...    ...   ...   ...   ...    ...  ...  ...  ...  ...   \n",
      "506686      NaN    NaN    NaN   NaN   0.0   NaN    NaN  NaN  NaN  NaN  ...   \n",
      "506687      NaN    NaN   16.0  16.0  16.0  16.0    NaN  NaN  NaN  NaN  ...   \n",
      "506688      NaN    NaN    NaN   NaN   0.0   NaN    0.0  1.0  1.0  1.0  ...   \n",
      "506689      NaN    NaN    NaN   NaN   0.0   NaN    0.0  1.0  1.0  1.0  ...   \n",
      "506690      NaN    NaN    NaN   NaN   0.0   NaN    NaN  NaN  NaN  NaN  ...   \n",
      "\n",
      "        V43  V44  V45  V46  V47  V48  V49  V50  V51  V52  \n",
      "0       NaN  NaN  NaN  NaN  NaN  NaN  NaN  NaN  NaN  NaN  \n",
      "1       0.0  1.0  1.0  1.0  1.0  0.0  0.0  0.0  0.0  0.0  \n",
      "2       0.0  1.0  1.0  1.0  1.0  0.0  0.0  0.0  0.0  0.0  \n",
      "3       0.0  1.0  1.0  1.0  1.0  0.0  0.0  0.0  0.0  0.0  \n",
      "4       NaN  NaN  NaN  NaN  NaN  NaN  NaN  NaN  NaN  NaN  \n",
      "...     ...  ...  ...  ...  ...  ...  ...  ...  ...  ...  \n",
      "506686  0.0  1.0  1.0  1.0  1.0  0.0  0.0  1.0  1.0  1.0  \n",
      "506687  1.0  1.0  1.0  1.0  1.0  0.0  0.0  1.0  1.0  1.0  \n",
      "506688  0.0  1.0  1.0  1.0  1.0  0.0  0.0  0.0  0.0  0.0  \n",
      "506689  0.0  1.0  1.0  1.0  1.0  0.0  0.0  0.0  0.0  0.0  \n",
      "506690  1.0  1.0  1.0  1.0  1.0  0.0  0.0  1.0  1.0  1.0  \n",
      "\n",
      "[1053093 rows x 36 columns]\n"
     ]
    }
   ],
   "source": [
    "print(\"values before imputing: \", transaction[medium_missing_num_trans_cols])\n",
    "my_imputer = SimpleImputer(strategy = 'median') \n",
    "my_imputer.fit(transaction[medium_missing_num_trans_cols])\n",
    "\n",
    "transaction[medium_missing_num_trans_cols] = my_imputer.transform(transaction[medium_missing_num_trans_cols])"
   ]
  },
  {
   "cell_type": "code",
   "execution_count": 44,
   "metadata": {},
   "outputs": [
    {
     "name": "stdout",
     "output_type": "stream",
     "text": [
      "values after imputing:          isFraud  dist1     D2    D3    D4    D5    D11   V1   V2   V3  ...  \\\n",
      "0           0.0   19.0  103.0  13.0  23.0   9.0   13.0  1.0  1.0  1.0  ...   \n",
      "1           0.0    8.0  103.0   8.0   0.0   9.0   69.0  1.0  1.0  1.0  ...   \n",
      "2           0.0  287.0  103.0   8.0   0.0   9.0  315.0  1.0  1.0  1.0  ...   \n",
      "3           0.0    8.0  112.0   0.0  94.0   0.0   69.0  1.0  1.0  1.0  ...   \n",
      "4           0.0    8.0  103.0   8.0  23.0   9.0   69.0  1.0  1.0  1.0  ...   \n",
      "...         ...    ...    ...   ...   ...   ...    ...  ...  ...  ...  ...   \n",
      "506686      0.0    8.0  103.0   8.0   0.0   9.0   69.0  1.0  1.0  1.0  ...   \n",
      "506687      0.0    8.0   16.0  16.0  16.0  16.0   69.0  1.0  1.0  1.0  ...   \n",
      "506688      0.0    8.0  103.0   8.0   0.0   9.0    0.0  1.0  1.0  1.0  ...   \n",
      "506689      0.0    8.0  103.0   8.0   0.0   9.0    0.0  1.0  1.0  1.0  ...   \n",
      "506690      0.0    8.0  103.0   8.0   0.0   9.0   69.0  1.0  1.0  1.0  ...   \n",
      "\n",
      "        V43  V44  V45  V46  V47  V48  V49  V50  V51  V52  \n",
      "0       0.0  1.0  1.0  1.0  1.0  0.0  0.0  0.0  0.0  0.0  \n",
      "1       0.0  1.0  1.0  1.0  1.0  0.0  0.0  0.0  0.0  0.0  \n",
      "2       0.0  1.0  1.0  1.0  1.0  0.0  0.0  0.0  0.0  0.0  \n",
      "3       0.0  1.0  1.0  1.0  1.0  0.0  0.0  0.0  0.0  0.0  \n",
      "4       0.0  1.0  1.0  1.0  1.0  0.0  0.0  0.0  0.0  0.0  \n",
      "...     ...  ...  ...  ...  ...  ...  ...  ...  ...  ...  \n",
      "506686  0.0  1.0  1.0  1.0  1.0  0.0  0.0  1.0  1.0  1.0  \n",
      "506687  1.0  1.0  1.0  1.0  1.0  0.0  0.0  1.0  1.0  1.0  \n",
      "506688  0.0  1.0  1.0  1.0  1.0  0.0  0.0  0.0  0.0  0.0  \n",
      "506689  0.0  1.0  1.0  1.0  1.0  0.0  0.0  0.0  0.0  0.0  \n",
      "506690  1.0  1.0  1.0  1.0  1.0  0.0  0.0  1.0  1.0  1.0  \n",
      "\n",
      "[1053093 rows x 36 columns]\n"
     ]
    }
   ],
   "source": [
    "print(\"values after imputing: \", transaction[medium_missing_num_trans_cols])"
   ]
  },
  {
   "cell_type": "markdown",
   "metadata": {},
   "source": [
    "#### 3.2.1.4 Final check \n",
    "Final check if there are still missing values in `numerical columns`"
   ]
  },
  {
   "cell_type": "code",
   "execution_count": 45,
   "metadata": {},
   "outputs": [
    {
     "name": "stdout",
     "output_type": "stream",
     "text": [
      "0\n",
      "0\n"
     ]
    }
   ],
   "source": [
    "print(identity[num_id_cols].isnull().sum().sum())\n",
    "print(transaction[num_trans_cols].isnull().sum().sum())"
   ]
  },
  {
   "cell_type": "markdown",
   "metadata": {},
   "source": [
    "#### Reduce memory\n",
    "By default all numerical columns in pandas are in int64 or float64.\n",
    "This means that when we find a numerical integer column whose \n",
    "values do not exceed one of the ranges shown above, we can then\n",
    "convert this datatype down to a smaller one. "
   ]
  },
  {
   "cell_type": "code",
   "execution_count": 46,
   "metadata": {},
   "outputs": [],
   "source": [
    "#  this function detects all the numerical columns,\n",
    "#  that can be converted to a smaller datatype.\n",
    "\n",
    "def detect_num_cols_to_shrink(list_of_num_cols, dataframe):\n",
    " \n",
    "    convert_to_int8 = []\n",
    "    convert_to_int16 = []\n",
    "    convert_to_int32 = []\n",
    "    \n",
    "    #  sadly the datatype float8 does not exist\n",
    "    convert_to_float32 = []\n",
    "    \n",
    "    for col in list_of_num_cols:\n",
    "        \n",
    "        if dataframe[col].dtype in ['int', 'int8', 'int32', 'int64']:\n",
    "            describe_object = dataframe[col].describe()\n",
    "            minimum = describe_object[3]\n",
    "            maximum = describe_object[7]\n",
    "            diff = abs(maximum - minimum)\n",
    "\n",
    "            if diff < 255:\n",
    "                convert_to_int8.append(col)\n",
    "            elif diff < 65535:\n",
    "                convert_to_int16.append(col)\n",
    "            elif diff < 4294967295:\n",
    "                convert_to_int32.append(col)   \n",
    "                \n",
    "        elif dataframe[col].dtype in ['float', 'float16', 'float32', 'float64']:\n",
    "            describe_object = dataframe[col].describe()\n",
    "            minimum = describe_object[3]\n",
    "            maximum = describe_object[7]\n",
    "            diff = abs(maximum - minimum)\n",
    "\n",
    "            if diff < 4294967295:\n",
    "                convert_to_float32.append(col) \n",
    "        \n",
    "    list_of_lists = []\n",
    "    list_of_lists.append(convert_to_int8)\n",
    "    list_of_lists.append(convert_to_int16)\n",
    "    list_of_lists.append(convert_to_int32)\n",
    "    list_of_lists.append(convert_to_float32)\n",
    "    \n",
    "    return list_of_lists"
   ]
  },
  {
   "cell_type": "code",
   "execution_count": 47,
   "metadata": {},
   "outputs": [],
   "source": [
    "num_cols_to_shrink_trans = detect_num_cols_to_shrink(num_trans_cols, transaction)\n",
    "\n",
    "convert_to_int8 = num_cols_to_shrink_trans[0]\n",
    "convert_to_int16 = num_cols_to_shrink_trans[1]\n",
    "convert_to_int32 = num_cols_to_shrink_trans[2]\n",
    "\n",
    "convert_to_float32 = num_cols_to_shrink_trans[3]"
   ]
  },
  {
   "cell_type": "code",
   "execution_count": 48,
   "metadata": {},
   "outputs": [],
   "source": [
    "for col in convert_to_int16:\n",
    "    transaction[col] = transaction[col].astype('int16') \n",
    "    \n",
    "for col in convert_to_int32:\n",
    "    transaction[col] = transaction[col].astype('int32') \n",
    "    \n",
    "for col in convert_to_float32:\n",
    "    transaction[col] = transaction[col].astype('float32')"
   ]
  },
  {
   "cell_type": "code",
   "execution_count": 49,
   "metadata": {},
   "outputs": [],
   "source": [
    "num_cols_to_shrink_id = detect_num_cols_to_shrink(num_id_cols, identity)\n",
    "\n",
    "convert_to_int8 = num_cols_to_shrink_id[0]\n",
    "convert_to_int16 = num_cols_to_shrink_id[1]\n",
    "convert_to_int32 = num_cols_to_shrink_id[2]\n",
    "\n",
    "convert_to_float32 = num_cols_to_shrink_id[3]"
   ]
  },
  {
   "cell_type": "code",
   "execution_count": 50,
   "metadata": {},
   "outputs": [],
   "source": [
    "for col in convert_to_float32:\n",
    "    identity[col] = identity[col].astype('float32')"
   ]
  },
  {
   "cell_type": "markdown",
   "metadata": {},
   "source": [
    "### 3.2.2 Category Features\n",
    "#### 3.2.2.1 Drop category features with many missing values "
   ]
  },
  {
   "cell_type": "code",
   "execution_count": 51,
   "metadata": {},
   "outputs": [
    {
     "name": "stdout",
     "output_type": "stream",
     "text": [
      "shape before dropping many_missing_cat_trans_cols:  (1053093, 227)\n",
      "shape after dropping many_missing_cat_trans_cols:  (1053093, 225)\n",
      "shape before dropping many_missing_cat_id_cols:  (265911, 33)\n",
      "shape after dropping many_missing_cat_id_cols:  (265911, 31)\n"
     ]
    }
   ],
   "source": [
    "print(\"shape before dropping many_missing_cat_trans_cols: \", transaction.shape,)        \n",
    "transaction = transaction.drop(columns = many_missing_cat_trans_cols)\n",
    "print(\"shape after dropping many_missing_cat_trans_cols: \", transaction.shape)    \n",
    "\n",
    "print(\"shape before dropping many_missing_cat_id_cols: \", identity.shape)        \n",
    "identity = identity.drop(columns = many_missing_cat_id_cols)\n",
    "print(\"shape after dropping many_missing_cat_id_cols: \", identity.shape)\n",
    "\n",
    "\n",
    "# because we dropped some categorical columns from the dataframe,\n",
    "# we must create the list 'cat_trans_cols' and\n",
    "# 'cat_id_cols' again such that the dropped cols are no longer in them\n",
    "c = (transaction.dtypes == 'object')\n",
    "cat_trans_cols = list(c[c].index) \n",
    "\n",
    "c = (identity.dtypes == 'object')\n",
    "cat_id_cols = list(c[c].index) "
   ]
  },
  {
   "cell_type": "markdown",
   "metadata": {},
   "source": [
    "#### 3.2.2.2 Label-Encode features with high cardinality\n",
    "##### identity"
   ]
  },
  {
   "cell_type": "code",
   "execution_count": 52,
   "metadata": {
    "scrolled": true
   },
   "outputs": [
    {
     "name": "stdout",
     "output_type": "stream",
     "text": [
      "id_12 2\n",
      "id_15 3\n",
      "id_16 2\n",
      "id_28 2\n",
      "id_29 2\n",
      "id_30 87\n",
      "id_31 172\n",
      "id_33 461\n",
      "id_34 4\n",
      "id_35 2\n",
      "id_36 2\n",
      "id_37 2\n",
      "id_38 2\n",
      "DeviceType 2\n",
      "DeviceInfo 2795\n"
     ]
    }
   ],
   "source": [
    "for col in cat_id_cols:\n",
    "    print(col, identity[col].nunique())"
   ]
  },
  {
   "cell_type": "markdown",
   "metadata": {},
   "source": [
    "As we can see there two groups of cardinality: low cardinality with (2,4) unique values, and comparibly high cardinality with (87,172,461,2799) unique values."
   ]
  },
  {
   "cell_type": "code",
   "execution_count": 54,
   "metadata": {},
   "outputs": [],
   "source": [
    "low_card_id_cols =  [\"id_12\", \"id_15\", \"id_16\", \"id_28\", \"id_29\", \"id_34\", \"id_35\", \"id_36\", \"id_37\", \"id_38\", \"DeviceType\"]\n",
    "high_card_id_cols = [\"id_30\", \"id_31\", \"id_33\", \"DeviceInfo\"]"
   ]
  },
  {
   "cell_type": "code",
   "execution_count": 55,
   "metadata": {},
   "outputs": [
    {
     "name": "stdout",
     "output_type": "stream",
     "text": [
      "For column:  id_12 the most frequent value is:  NotFound\n",
      "For column:  id_15 the most frequent value is:  Found\n",
      "For column:  id_16 the most frequent value is:  Found\n",
      "For column:  id_28 the most frequent value is:  Found\n",
      "For column:  id_29 the most frequent value is:  Found\n",
      "For column:  id_30 the most frequent value is:  Windows 10\n",
      "For column:  id_31 the most frequent value is:  chrome 63.0\n",
      "For column:  id_33 the most frequent value is:  1920x1080\n",
      "For column:  id_34 the most frequent value is:  match_status:2\n",
      "For column:  id_35 the most frequent value is:  T\n",
      "For column:  id_36 the most frequent value is:  F\n",
      "For column:  id_37 the most frequent value is:  T\n",
      "For column:  id_38 the most frequent value is:  F\n",
      "For column:  DeviceType the most frequent value is:  desktop\n",
      "For column:  DeviceInfo the most frequent value is:  Windows\n"
     ]
    }
   ],
   "source": [
    "for i in cat_id_cols:\n",
    "    most_frequent_value = identity[i].mode()[0]\n",
    "    print(\"For column: \", i, \"the most frequent value is: \", most_frequent_value)\n",
    "    identity[i].fillna(most_frequent_value, inplace = True)"
   ]
  },
  {
   "cell_type": "markdown",
   "metadata": {},
   "source": [
    "##### transaction"
   ]
  },
  {
   "cell_type": "code",
   "execution_count": 56,
   "metadata": {},
   "outputs": [
    {
     "name": "stdout",
     "output_type": "stream",
     "text": [
      "ProductCD 5\n",
      "card4 4\n",
      "card6 4\n",
      "P_emaildomain 60\n",
      "M1 2\n",
      "M2 2\n",
      "M3 2\n",
      "M4 3\n",
      "M6 2\n",
      "M7 2\n",
      "M8 2\n",
      "M9 2\n"
     ]
    }
   ],
   "source": [
    "for col in cat_trans_cols:\n",
    "    print(col, transaction[col].nunique())"
   ]
  },
  {
   "cell_type": "markdown",
   "metadata": {},
   "source": [
    "As we can see there are two groups of cardinality: low cardinality with (2,3,4,5) unique values, and comparibly high cardinality with 60 unique values."
   ]
  },
  {
   "cell_type": "code",
   "execution_count": 57,
   "metadata": {},
   "outputs": [],
   "source": [
    "low_card_trans_cols = [\"ProductCD\", \"card4\", \"card6\", \"M1\", \"M2\", \"M3\", \"M4\", \"M6\", \"M7\", \"M8\", \"M9\"]\n",
    "high_card_trans_cols = [\"P_emaildomain\"]"
   ]
  },
  {
   "cell_type": "code",
   "execution_count": 58,
   "metadata": {},
   "outputs": [
    {
     "name": "stdout",
     "output_type": "stream",
     "text": [
      "For column:  ProductCD the most frequent value is:  W\n",
      "For column:  card4 the most frequent value is:  visa\n",
      "For column:  card6 the most frequent value is:  debit\n",
      "For column:  P_emaildomain the most frequent value is:  gmail.com\n",
      "For column:  M1 the most frequent value is:  T\n",
      "For column:  M2 the most frequent value is:  T\n",
      "For column:  M3 the most frequent value is:  T\n",
      "For column:  M4 the most frequent value is:  M0\n",
      "For column:  M6 the most frequent value is:  F\n",
      "For column:  M7 the most frequent value is:  F\n",
      "For column:  M8 the most frequent value is:  F\n",
      "For column:  M9 the most frequent value is:  T\n"
     ]
    }
   ],
   "source": [
    "for i in cat_trans_cols:\n",
    "    most_frequent_value = transaction[i].mode()[0]\n",
    "    print(\"For column: \", i, \"the most frequent value is: \", most_frequent_value)\n",
    "    transaction[i].fillna(most_frequent_value, inplace = True)"
   ]
  },
  {
   "cell_type": "markdown",
   "metadata": {},
   "source": [
    "#### 3.2.2.3 Onehot-Encode features with low cardinality\n",
    "##### identity"
   ]
  },
  {
   "cell_type": "code",
   "execution_count": 59,
   "metadata": {},
   "outputs": [
    {
     "name": "stdout",
     "output_type": "stream",
     "text": [
      "shape before encoding:  (265911, 31)\n",
      "columns to encode:  ['id_12', 'id_15', 'id_16', 'id_28', 'id_29', 'id_34', 'id_35', 'id_36', 'id_37', 'id_38', 'DeviceType']\n",
      "shape after encoding:  (265911, 20)\n"
     ]
    }
   ],
   "source": [
    "print(\"shape before encoding: \", identity.shape)\n",
    "print(\"columns to encode: \", low_card_id_cols)\n",
    "\n",
    "# this line does the onehot encoding\n",
    "low_card_id_encoded = pd.get_dummies(identity[low_card_id_cols], dummy_na = False)\n",
    "identity.drop(columns = low_card_id_cols, inplace = True)\n",
    "\n",
    "\n",
    "print(\"shape after encoding: \", identity.shape)"
   ]
  },
  {
   "cell_type": "markdown",
   "metadata": {},
   "source": [
    "##### transaction"
   ]
  },
  {
   "cell_type": "code",
   "execution_count": 60,
   "metadata": {},
   "outputs": [
    {
     "name": "stdout",
     "output_type": "stream",
     "text": [
      "shape before encoding:  (1053093, 225)\n",
      "columns to encode:  ['ProductCD', 'card4', 'card6', 'M1', 'M2', 'M3', 'M4', 'M6', 'M7', 'M8', 'M9']\n",
      "shape after encoding:  (1053093, 214)\n"
     ]
    }
   ],
   "source": [
    "print(\"shape before encoding: \", transaction.shape)\n",
    "print(\"columns to encode: \", low_card_trans_cols)\n",
    "\n",
    "# this line does the onehot encoding\n",
    "low_card_trans_encoded = pd.get_dummies(transaction[low_card_trans_cols], dummy_na = False)\n",
    "transaction.drop(columns = low_card_trans_cols, inplace = True)\n",
    "\n",
    "\n",
    "print(\"shape after encoding: \", transaction.shape)"
   ]
  },
  {
   "cell_type": "markdown",
   "metadata": {},
   "source": [
    "#### 3.2.2.3 Final check\n",
    "Final check if there are still missing values"
   ]
  },
  {
   "cell_type": "code",
   "execution_count": 61,
   "metadata": {},
   "outputs": [
    {
     "name": "stdout",
     "output_type": "stream",
     "text": [
      "0\n",
      "0\n"
     ]
    }
   ],
   "source": [
    "print(identity.isnull().sum().sum())\n",
    "print(transaction.isnull().sum().sum())"
   ]
  },
  {
   "cell_type": "markdown",
   "metadata": {},
   "source": [
    "### 3.2.3 Bar Chart of the Change in Means\n",
    "##### identity"
   ]
  },
  {
   "cell_type": "code",
   "execution_count": 1,
   "metadata": {},
   "outputs": [
    {
     "ename": "NameError",
     "evalue": "name 'identity_org' is not defined",
     "output_type": "error",
     "traceback": [
      "\u001b[1;31m---------------------------------------------------------------------------\u001b[0m",
      "\u001b[1;31mNameError\u001b[0m                                 Traceback (most recent call last)",
      "\u001b[1;32md:\\USfiles\\CSUN CS\\comp542\\assignment 5 - Data cleaning - Missing Values.ipynb Cell 78\u001b[0m in \u001b[0;36m<cell line: 1>\u001b[1;34m()\u001b[0m\n\u001b[1;32m----> <a href='vscode-notebook-cell:/d%3A/USfiles/CSUN%20CS/comp542/assignment%205%20-%20Data%20cleaning%20-%20Missing%20Values.ipynb#Y140sZmlsZQ%3D%3D?line=0'>1</a>\u001b[0m identity_org \u001b[39m=\u001b[39m identity_org[identity\u001b[39m.\u001b[39mcolumns]\n",
      "\u001b[1;31mNameError\u001b[0m: name 'identity_org' is not defined"
     ]
    }
   ],
   "source": [
    "identity_org = identity_org[identity.columns]"
   ]
  },
  {
   "cell_type": "code",
   "execution_count": null,
   "metadata": {},
   "outputs": [],
   "source": [
    "identity_mean = identity.mean()\n",
    "identity_org_mean = identity_org.mean()"
   ]
  },
  {
   "cell_type": "markdown",
   "metadata": {},
   "source": [
    "Compare the mean of current identity and orginal identity"
   ]
  },
  {
   "cell_type": "code",
   "execution_count": null,
   "metadata": {},
   "outputs": [],
   "source": [
    "# % change in means of columns before and after dropping and imuputing missing-value rows\n",
    "change_in_means_id = (((identity_mean - identity_org_mean) / identity_org_mean) * 100).round(2)\n",
    "change_in_means_id"
   ]
  },
  {
   "cell_type": "code",
   "execution_count": null,
   "metadata": {},
   "outputs": [],
   "source": [
    "pd.set_option('display.float_format',lambda x: '%.2f' % x) # cancel the scientific notation\n",
    "identity_mean # current identity"
   ]
  },
  {
   "cell_type": "code",
   "execution_count": null,
   "metadata": {},
   "outputs": [],
   "source": [
    "identity_org_mean # original identity"
   ]
  },
  {
   "cell_type": "code",
   "execution_count": null,
   "metadata": {},
   "outputs": [],
   "source": [
    "plt.figure(figsize=(9, 4))\n",
    "change_in_means_id.plot.bar(title='% change in average column values')\n",
    "plt.ylabel('% change')"
   ]
  },
  {
   "cell_type": "markdown",
   "metadata": {},
   "source": [
    "##### transaction"
   ]
  },
  {
   "cell_type": "code",
   "execution_count": null,
   "metadata": {},
   "outputs": [],
   "source": [
    "transaction_org = transaction_org[transaction.columns]"
   ]
  },
  {
   "cell_type": "code",
   "execution_count": null,
   "metadata": {},
   "outputs": [],
   "source": [
    "transaction_mean = transaction.mean()\n",
    "transaction_org_mean = transaction_org.mean()"
   ]
  },
  {
   "cell_type": "markdown",
   "metadata": {},
   "source": [
    "Compare the mean of current transaction and orginal transaction"
   ]
  },
  {
   "cell_type": "code",
   "execution_count": null,
   "metadata": {},
   "outputs": [],
   "source": [
    "# % change in means of columns before and after dropping and imuputing missing-value rows\n",
    "change_in_means_trans = ((transaction_mean - transaction_org_mean) / transaction_org_mean * 100).round(2)\n",
    "change_in_means_trans"
   ]
  },
  {
   "cell_type": "code",
   "execution_count": null,
   "metadata": {},
   "outputs": [],
   "source": [
    "transaction_mean # current transaction"
   ]
  },
  {
   "cell_type": "code",
   "execution_count": null,
   "metadata": {},
   "outputs": [],
   "source": [
    "transaction_org_mean # original transaction"
   ]
  },
  {
   "cell_type": "code",
   "execution_count": null,
   "metadata": {},
   "outputs": [],
   "source": [
    "plt.figure(figsize=(9, 4))\n",
    "change_in_means_trans[3:45].plot.bar(title='% change in average column values', )\n",
    "plt.ylabel('% change')"
   ]
  },
  {
   "cell_type": "markdown",
   "metadata": {},
   "source": [
    "## 3.3 Concat Encoded Dataframes\n",
    "Right now we have our 2 original dataframes `transaction` and `identity` containing the label-encoded categorical features, and our 2 onehot-encoded dataframes:\n",
    "1. low_card_trans_encoded\n",
    "2. low_card_id_encoded"
   ]
  },
  {
   "cell_type": "code",
   "execution_count": 62,
   "metadata": {},
   "outputs": [
    {
     "name": "stdout",
     "output_type": "stream",
     "text": [
      "<class 'pandas.core.frame.DataFrame'>\n",
      "Int64Index: 1053093 entries, 0 to 506690\n",
      "Columns: 244 entries, TransactionID to M9_T\n",
      "dtypes: float32(213), object(1), uint8(30)\n",
      "memory usage: 901.9+ MB\n",
      "None\n"
     ]
    }
   ],
   "source": [
    "transaction_concatted = pd.concat([transaction, low_card_trans_encoded], axis = 1)\n",
    "print(transaction_concatted.info())"
   ]
  },
  {
   "cell_type": "code",
   "execution_count": 63,
   "metadata": {
    "scrolled": false
   },
   "outputs": [
    {
     "name": "stdout",
     "output_type": "stream",
     "text": [
      "<class 'pandas.core.frame.DataFrame'>\n",
      "Int64Index: 265911 entries, 0 to 141906\n",
      "Data columns (total 45 columns):\n",
      " #   Column                 Non-Null Count   Dtype  \n",
      "---  ------                 --------------   -----  \n",
      " 0   TransactionID          265911 non-null  float32\n",
      " 1   id_01                  265911 non-null  float32\n",
      " 2   id_02                  265911 non-null  float32\n",
      " 3   id_03                  265911 non-null  float32\n",
      " 4   id_04                  265911 non-null  float32\n",
      " 5   id_05                  265911 non-null  float32\n",
      " 6   id_06                  265911 non-null  float32\n",
      " 7   id_09                  265911 non-null  float32\n",
      " 8   id_10                  265911 non-null  float32\n",
      " 9   id_11                  265911 non-null  float32\n",
      " 10  id_13                  265911 non-null  float32\n",
      " 11  id_14                  265911 non-null  float32\n",
      " 12  id_17                  265911 non-null  float32\n",
      " 13  id_19                  265911 non-null  float32\n",
      " 14  id_20                  265911 non-null  float32\n",
      " 15  id_30                  265911 non-null  object \n",
      " 16  id_31                  265911 non-null  object \n",
      " 17  id_32                  265911 non-null  float32\n",
      " 18  id_33                  265911 non-null  object \n",
      " 19  DeviceInfo             265911 non-null  object \n",
      " 20  id_12_Found            265911 non-null  uint8  \n",
      " 21  id_12_NotFound         265911 non-null  uint8  \n",
      " 22  id_15_Found            265911 non-null  uint8  \n",
      " 23  id_15_New              265911 non-null  uint8  \n",
      " 24  id_15_Unknown          265911 non-null  uint8  \n",
      " 25  id_16_Found            265911 non-null  uint8  \n",
      " 26  id_16_NotFound         265911 non-null  uint8  \n",
      " 27  id_28_Found            265911 non-null  uint8  \n",
      " 28  id_28_New              265911 non-null  uint8  \n",
      " 29  id_29_Found            265911 non-null  uint8  \n",
      " 30  id_29_NotFound         265911 non-null  uint8  \n",
      " 31  id_34_match_status:-1  265911 non-null  uint8  \n",
      " 32  id_34_match_status:0   265911 non-null  uint8  \n",
      " 33  id_34_match_status:1   265911 non-null  uint8  \n",
      " 34  id_34_match_status:2   265911 non-null  uint8  \n",
      " 35  id_35_F                265911 non-null  uint8  \n",
      " 36  id_35_T                265911 non-null  uint8  \n",
      " 37  id_36_F                265911 non-null  uint8  \n",
      " 38  id_36_T                265911 non-null  uint8  \n",
      " 39  id_37_F                265911 non-null  uint8  \n",
      " 40  id_37_T                265911 non-null  uint8  \n",
      " 41  id_38_F                265911 non-null  uint8  \n",
      " 42  id_38_T                265911 non-null  uint8  \n",
      " 43  DeviceType_desktop     265911 non-null  uint8  \n",
      " 44  DeviceType_mobile      265911 non-null  uint8  \n",
      "dtypes: float32(16), object(4), uint8(25)\n",
      "memory usage: 32.7+ MB\n",
      "None\n"
     ]
    }
   ],
   "source": [
    "identity_concatted = pd.concat([identity, low_card_id_encoded], axis = 1)\n",
    "print(identity_concatted.info())"
   ]
  },
  {
   "cell_type": "code",
   "execution_count": 67,
   "metadata": {
    "scrolled": true
   },
   "outputs": [
    {
     "name": "stdout",
     "output_type": "stream",
     "text": [
      "transaction_concatted.shape before splitting up:  (1053093, 244)\n",
      "train_transaction.shape after splitting up:  (553287, 244)\n",
      "test_transaction.shape after splitting up:  (499806, 244)\n"
     ]
    }
   ],
   "source": [
    "print(\"transaction_concatted.shape before splitting up: \", transaction_concatted.shape)\n",
    "\n",
    "# shape of train_transaction_row_drop was (553287, 394), \n",
    "# shape of test_transaction_row_drop  was (499806, 393)\n",
    "\n",
    "train_transaction = transaction_concatted.iloc[0: train_transaction_row_drop.shape[0]]\n",
    "test_transaction = transaction_concatted.iloc[train_transaction_row_drop.shape[0]:]\n",
    "\n",
    "print(\"train_transaction.shape after splitting up: \", train_transaction.shape)\n",
    "print(\"test_transaction.shape after splitting up: \", test_transaction.shape)\n"
   ]
  },
  {
   "cell_type": "code",
   "execution_count": 70,
   "metadata": {},
   "outputs": [
    {
     "name": "stdout",
     "output_type": "stream",
     "text": [
      "identity_concatted.shape before splitting up:  (265911, 45)\n",
      "train_identity.shape after splitting up:  (134833, 45)\n",
      "test_identity.shape after splitting up:  (131078, 45)\n"
     ]
    }
   ],
   "source": [
    "print(\"identity_concatted.shape before splitting up: \", identity_concatted.shape)\n",
    "\n",
    "# shape of train_identity was (134833, 41)\n",
    "# shape of test_identity was (131078, 41)\n",
    "\n",
    "train_identity = identity_concatted.iloc[0:train_id_row_drop.shape[0]]\n",
    "test_identity = identity_concatted.iloc[train_id_row_drop.shape[0]:]\n",
    "\n",
    "print(\"train_identity.shape after splitting up: \", train_identity.shape)\n",
    "print(\"test_identity.shape after splitting up: \", test_identity.shape)"
   ]
  },
  {
   "cell_type": "code",
   "execution_count": 76,
   "metadata": {},
   "outputs": [],
   "source": [
    "train = pd.merge(train_transaction, train_identity, on='TransactionID', how='left')\n",
    "test = pd.merge(test_transaction, test_identity, on='TransactionID', how='left')"
   ]
  },
  {
   "cell_type": "code",
   "execution_count": 77,
   "metadata": {},
   "outputs": [
    {
     "data": {
      "text/plain": [
       "TransactionID              0\n",
       "isFraud                    0\n",
       "TransactionDT              0\n",
       "TransactionAmt             0\n",
       "card1                      0\n",
       "                       ...  \n",
       "id_37_T               419426\n",
       "id_38_F               419426\n",
       "id_38_T               419426\n",
       "DeviceType_desktop    419426\n",
       "DeviceType_mobile     419426\n",
       "Length: 288, dtype: int64"
      ]
     },
     "execution_count": 77,
     "metadata": {},
     "output_type": "execute_result"
    }
   ],
   "source": [
    "train.isnull().sum()"
   ]
  },
  {
   "cell_type": "code",
   "execution_count": 78,
   "metadata": {},
   "outputs": [
    {
     "data": {
      "text/plain": [
       "TransactionID              0\n",
       "isFraud                    0\n",
       "TransactionDT              0\n",
       "TransactionAmt             0\n",
       "card1                      0\n",
       "                       ...  \n",
       "id_37_T               368729\n",
       "id_38_F               368729\n",
       "id_38_T               368729\n",
       "DeviceType_desktop    368729\n",
       "DeviceType_mobile     368729\n",
       "Length: 288, dtype: int64"
      ]
     },
     "execution_count": 78,
     "metadata": {},
     "output_type": "execute_result"
    }
   ],
   "source": [
    "test.isnull().sum()"
   ]
  },
  {
   "cell_type": "markdown",
   "metadata": {},
   "source": [
    "We now have 419426 NAN values in some columns of `train` and 368729 NAN values in some columns of `test`, we are going to simply ignore them in the future traning process."
   ]
  },
  {
   "cell_type": "code",
   "execution_count": 79,
   "metadata": {},
   "outputs": [],
   "source": [
    "train.to_csv('data/train_after_missing_value.csv')\n",
    "test.to_csv('data/test_after_missing_value.csv')"
   ]
  },
  {
   "cell_type": "markdown",
   "metadata": {},
   "source": [
    "# Reference\n",
    "1. https://www.kaggle.com/code/jonas0/ieee-fraud-detection-tutorial#Hello-and-welcome-to-my-IEEE-fraud-detection-tutorial!"
   ]
  }
 ],
 "metadata": {
  "kernelspec": {
   "display_name": "Python 3 (ipykernel)",
   "language": "python",
   "name": "python3"
  },
  "language_info": {
   "codemirror_mode": {
    "name": "ipython",
    "version": 3
   },
   "file_extension": ".py",
   "mimetype": "text/x-python",
   "name": "python",
   "nbconvert_exporter": "python",
   "pygments_lexer": "ipython3",
   "version": "3.10.2"
  },
  "toc": {
   "base_numbering": 1,
   "nav_menu": {},
   "number_sections": false,
   "sideBar": true,
   "skip_h1_title": false,
   "title_cell": "Table of Contents",
   "title_sidebar": "Contents",
   "toc_cell": true,
   "toc_position": {},
   "toc_section_display": true,
   "toc_window_display": true
  },
  "vscode": {
   "interpreter": {
    "hash": "369f2c481f4da34e4445cda3fffd2e751bd1c4d706f27375911949ba6bb62e1c"
   }
  }
 },
 "nbformat": 4,
 "nbformat_minor": 2
}
