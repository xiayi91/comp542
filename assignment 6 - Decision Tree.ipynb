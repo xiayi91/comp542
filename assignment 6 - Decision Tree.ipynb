{
 "cells": [
  {
   "cell_type": "markdown",
   "id": "655803c3",
   "metadata": {},
   "source": [
    "# 1 Load Libraries"
   ]
  },
  {
   "cell_type": "code",
   "execution_count": 1,
   "id": "fbf358c8",
   "metadata": {},
   "outputs": [],
   "source": [
    "import numpy as np\n",
    "import pandas as pd\n",
    "import matplotlib.pylab as plt\n",
    "import sklearn\n",
    "from sklearn.tree import DecisionTreeClassifier\n",
<<<<<<< HEAD
    "from sklearn.model_selection import train_test_split, GridSearchCV\n",
    "from sklearn.metrics import confusion_matrix, ConfusionMatrixDisplay\n",
    "from sklearn.metrics import f1_score, accuracy_score, recall_score, precision_score\n",
    "from sklearn.metrics import roc_curve, auc\n",
    "from sklearn.utils import resample\n",
    "from sklearn.model_selection import StratifiedKFold\n",
    "import statistics as stat"
=======
    "from sklearn.model_selection import train_test_split\n",
    "from sklearn.metrics import confusion_matrix, ConfusionMatrixDisplay\n",
    "from sklearn.metrics import f1_score, accuracy_score, recall_score, precision_score\n",
    "from sklearn.utils import resample\n",
    "from sklearn.model_selection import StratifiedKFold\n",
    "from sklearn.preprocessing import StandardScaler"
>>>>>>> 09b3588 (Revert "Merge branch 'Allison-branch'")
   ]
  },
  {
   "cell_type": "markdown",
   "id": "28d5f00a",
   "metadata": {},
   "source": [
    "# 2 Data preparation"
   ]
  },
  {
   "cell_type": "code",
   "execution_count": 2,
   "id": "caf4c425",
   "metadata": {},
   "outputs": [
    {
     "name": "stdout",
     "output_type": "stream",
     "text": [
      "data shape: (1097231, 289)\n",
      "number of columns with null values: 44\n"
     ]
    }
   ],
   "source": [
    "train = pd.read_csv('data/train_after_missing_value_without_dropping_rows.csv')\n",
    "test = pd.read_csv('data/test_after_missing_value_without_dropping_rows.csv')\n",
    "\n",
    "#concatinate train and test to later control train-test split\n",
    "data = pd.concat([train,test])\n",
    "print(\"data shape:\", data.shape)\n",
    "print(\"number of columns with null values:\", data.isnull().any().sum())"
   ]
  },
  {
   "cell_type": "code",
   "execution_count": 3,
   "id": "eb996e12",
   "metadata": {
    "scrolled": true
   },
   "outputs": [
    {
     "name": "stdout",
     "output_type": "stream",
     "text": [
      "new shape of data: (1097231, 245)\n"
     ]
    }
   ],
   "source": [
    "#drop columns with null values\n",
    "data = data.dropna(axis=1)\n",
    "print(\"new shape of data:\", data.shape)"
   ]
  },
  {
   "cell_type": "code",
   "execution_count": 4,
   "id": "75de6e00",
   "metadata": {
    "scrolled": true
   },
   "outputs": [],
   "source": [
    "#separate class column from other features\n",
    "X = data.drop('isFraud', axis = 1)\n",
    "X = pd.get_dummies(X) #one-hot encoding on categorical features\n",
    "y = data['isFraud']"
   ]
  },
  {
   "cell_type": "markdown",
   "id": "97aaee9f",
   "metadata": {},
   "source": [
    "# 3 Decision Tree\n",
<<<<<<< HEAD
    "## 3.1 Decision Tree with imbalanced data"
=======
    "## 3.1 Decision Tree with unbalanced data"
>>>>>>> 09b3588 (Revert "Merge branch 'Allison-branch'")
   ]
  },
  {
   "cell_type": "code",
   "execution_count": 5,
   "id": "969b4060",
   "metadata": {},
   "outputs": [
    {
     "name": "stdout",
     "output_type": "stream",
     "text": [
      "(768061, 244)\n",
      "(329170, 244)\n",
      "(768061,)\n",
      "(329170,)\n"
     ]
    }
   ],
   "source": [
    "#split test and train\n",
<<<<<<< HEAD
    "X_train, X_test, y_train, y_test = train_test_split(X, y, test_size = 0.3, random_state=42)\n",
=======
    "X_train, X_test, y_train, y_test = train_test_split(X, y, test_size = 0.3)\n",
>>>>>>> 09b3588 (Revert "Merge branch 'Allison-branch'")
    "print(X_train.shape)\n",
    "print(X_test.shape)\n",
    "print(y_train.shape)\n",
    "print(y_test.shape)"
   ]
  },
  {
   "cell_type": "code",
<<<<<<< HEAD
   "execution_count": 8,
   "id": "22d11085",
   "metadata": {
    "scrolled": true
   },
   "outputs": [
    {
     "name": "stdout",
     "output_type": "stream",
     "text": [
      "Fitting 3 folds for each of 18 candidates, totalling 54 fits\n",
      "[CV] END criterion=entropy, min_samples_leaf=1, min_samples_split=2; total time=  25.6s\n",
      "[CV] END criterion=entropy, min_samples_leaf=1, min_samples_split=2; total time=  26.6s\n",
      "[CV] END criterion=entropy, min_samples_leaf=1, min_samples_split=2; total time=  25.1s\n",
      "[CV] END criterion=entropy, min_samples_leaf=1, min_samples_split=3; total time=  25.6s\n",
      "[CV] END criterion=entropy, min_samples_leaf=1, min_samples_split=3; total time=  26.0s\n",
      "[CV] END criterion=entropy, min_samples_leaf=1, min_samples_split=3; total time=  25.3s\n",
      "[CV] END criterion=entropy, min_samples_leaf=1, min_samples_split=4; total time=  25.3s\n",
      "[CV] END criterion=entropy, min_samples_leaf=1, min_samples_split=4; total time=  25.4s\n",
      "[CV] END criterion=entropy, min_samples_leaf=1, min_samples_split=4; total time=  25.1s\n",
      "[CV] END criterion=entropy, min_samples_leaf=2, min_samples_split=2; total time=  24.9s\n",
      "[CV] END criterion=entropy, min_samples_leaf=2, min_samples_split=2; total time=  26.1s\n",
      "[CV] END criterion=entropy, min_samples_leaf=2, min_samples_split=2; total time=  24.5s\n",
      "[CV] END criterion=entropy, min_samples_leaf=2, min_samples_split=3; total time=  24.5s\n",
      "[CV] END criterion=entropy, min_samples_leaf=2, min_samples_split=3; total time=  25.0s\n",
      "[CV] END criterion=entropy, min_samples_leaf=2, min_samples_split=3; total time=  24.4s\n",
      "[CV] END criterion=entropy, min_samples_leaf=2, min_samples_split=4; total time=  25.2s\n",
      "[CV] END criterion=entropy, min_samples_leaf=2, min_samples_split=4; total time=  25.8s\n",
      "[CV] END criterion=entropy, min_samples_leaf=2, min_samples_split=4; total time=  24.6s\n",
      "[CV] END criterion=entropy, min_samples_leaf=3, min_samples_split=2; total time=  24.9s\n",
      "[CV] END criterion=entropy, min_samples_leaf=3, min_samples_split=2; total time=  25.2s\n",
      "[CV] END criterion=entropy, min_samples_leaf=3, min_samples_split=2; total time=  24.4s\n",
      "[CV] END criterion=entropy, min_samples_leaf=3, min_samples_split=3; total time=  24.6s\n",
      "[CV] END criterion=entropy, min_samples_leaf=3, min_samples_split=3; total time=  25.4s\n",
      "[CV] END criterion=entropy, min_samples_leaf=3, min_samples_split=3; total time=  24.1s\n",
      "[CV] END criterion=entropy, min_samples_leaf=3, min_samples_split=4; total time=  22.4s\n",
      "[CV] END criterion=entropy, min_samples_leaf=3, min_samples_split=4; total time=  25.6s\n",
      "[CV] END criterion=entropy, min_samples_leaf=3, min_samples_split=4; total time=  24.7s\n",
      "[CV] END criterion=gini, min_samples_leaf=1, min_samples_split=2; total time=  41.3s\n",
      "[CV] END criterion=gini, min_samples_leaf=1, min_samples_split=2; total time=  43.8s\n",
      "[CV] END criterion=gini, min_samples_leaf=1, min_samples_split=2; total time=  45.3s\n",
      "[CV] END criterion=gini, min_samples_leaf=1, min_samples_split=3; total time=  41.6s\n",
      "[CV] END criterion=gini, min_samples_leaf=1, min_samples_split=3; total time=  43.2s\n",
      "[CV] END criterion=gini, min_samples_leaf=1, min_samples_split=3; total time=  44.0s\n",
      "[CV] END criterion=gini, min_samples_leaf=1, min_samples_split=4; total time=  41.6s\n",
      "[CV] END criterion=gini, min_samples_leaf=1, min_samples_split=4; total time=  43.6s\n",
      "[CV] END criterion=gini, min_samples_leaf=1, min_samples_split=4; total time=  45.8s\n",
      "[CV] END criterion=gini, min_samples_leaf=2, min_samples_split=2; total time=  41.1s\n",
      "[CV] END criterion=gini, min_samples_leaf=2, min_samples_split=2; total time=  42.9s\n",
      "[CV] END criterion=gini, min_samples_leaf=2, min_samples_split=2; total time=  44.3s\n",
      "[CV] END criterion=gini, min_samples_leaf=2, min_samples_split=3; total time=  40.6s\n",
      "[CV] END criterion=gini, min_samples_leaf=2, min_samples_split=3; total time=  42.8s\n",
      "[CV] END criterion=gini, min_samples_leaf=2, min_samples_split=3; total time=  43.5s\n",
      "[CV] END criterion=gini, min_samples_leaf=2, min_samples_split=4; total time=  41.0s\n",
      "[CV] END criterion=gini, min_samples_leaf=2, min_samples_split=4; total time=  42.7s\n",
      "[CV] END criterion=gini, min_samples_leaf=2, min_samples_split=4; total time=  44.5s\n",
      "[CV] END criterion=gini, min_samples_leaf=3, min_samples_split=2; total time=  41.3s\n",
      "[CV] END criterion=gini, min_samples_leaf=3, min_samples_split=2; total time=  42.0s\n",
      "[CV] END criterion=gini, min_samples_leaf=3, min_samples_split=2; total time=  42.9s\n",
      "[CV] END criterion=gini, min_samples_leaf=3, min_samples_split=3; total time=  40.6s\n",
      "[CV] END criterion=gini, min_samples_leaf=3, min_samples_split=3; total time=  41.2s\n",
      "[CV] END criterion=gini, min_samples_leaf=3, min_samples_split=3; total time=  43.5s\n",
      "[CV] END criterion=gini, min_samples_leaf=3, min_samples_split=4; total time=  40.1s\n",
      "[CV] END criterion=gini, min_samples_leaf=3, min_samples_split=4; total time=  42.6s\n",
      "[CV] END criterion=gini, min_samples_leaf=3, min_samples_split=4; total time=  44.5s\n"
     ]
    },
    {
     "data": {
      "text/html": [
       "<style>#sk-container-id-1 {color: black;background-color: white;}#sk-container-id-1 pre{padding: 0;}#sk-container-id-1 div.sk-toggleable {background-color: white;}#sk-container-id-1 label.sk-toggleable__label {cursor: pointer;display: block;width: 100%;margin-bottom: 0;padding: 0.3em;box-sizing: border-box;text-align: center;}#sk-container-id-1 label.sk-toggleable__label-arrow:before {content: \"▸\";float: left;margin-right: 0.25em;color: #696969;}#sk-container-id-1 label.sk-toggleable__label-arrow:hover:before {color: black;}#sk-container-id-1 div.sk-estimator:hover label.sk-toggleable__label-arrow:before {color: black;}#sk-container-id-1 div.sk-toggleable__content {max-height: 0;max-width: 0;overflow: hidden;text-align: left;background-color: #f0f8ff;}#sk-container-id-1 div.sk-toggleable__content pre {margin: 0.2em;color: black;border-radius: 0.25em;background-color: #f0f8ff;}#sk-container-id-1 input.sk-toggleable__control:checked~div.sk-toggleable__content {max-height: 200px;max-width: 100%;overflow: auto;}#sk-container-id-1 input.sk-toggleable__control:checked~label.sk-toggleable__label-arrow:before {content: \"▾\";}#sk-container-id-1 div.sk-estimator input.sk-toggleable__control:checked~label.sk-toggleable__label {background-color: #d4ebff;}#sk-container-id-1 div.sk-label input.sk-toggleable__control:checked~label.sk-toggleable__label {background-color: #d4ebff;}#sk-container-id-1 input.sk-hidden--visually {border: 0;clip: rect(1px 1px 1px 1px);clip: rect(1px, 1px, 1px, 1px);height: 1px;margin: -1px;overflow: hidden;padding: 0;position: absolute;width: 1px;}#sk-container-id-1 div.sk-estimator {font-family: monospace;background-color: #f0f8ff;border: 1px dotted black;border-radius: 0.25em;box-sizing: border-box;margin-bottom: 0.5em;}#sk-container-id-1 div.sk-estimator:hover {background-color: #d4ebff;}#sk-container-id-1 div.sk-parallel-item::after {content: \"\";width: 100%;border-bottom: 1px solid gray;flex-grow: 1;}#sk-container-id-1 div.sk-label:hover label.sk-toggleable__label {background-color: #d4ebff;}#sk-container-id-1 div.sk-serial::before {content: \"\";position: absolute;border-left: 1px solid gray;box-sizing: border-box;top: 0;bottom: 0;left: 50%;z-index: 0;}#sk-container-id-1 div.sk-serial {display: flex;flex-direction: column;align-items: center;background-color: white;padding-right: 0.2em;padding-left: 0.2em;position: relative;}#sk-container-id-1 div.sk-item {position: relative;z-index: 1;}#sk-container-id-1 div.sk-parallel {display: flex;align-items: stretch;justify-content: center;background-color: white;position: relative;}#sk-container-id-1 div.sk-item::before, #sk-container-id-1 div.sk-parallel-item::before {content: \"\";position: absolute;border-left: 1px solid gray;box-sizing: border-box;top: 0;bottom: 0;left: 50%;z-index: -1;}#sk-container-id-1 div.sk-parallel-item {display: flex;flex-direction: column;z-index: 1;position: relative;background-color: white;}#sk-container-id-1 div.sk-parallel-item:first-child::after {align-self: flex-end;width: 50%;}#sk-container-id-1 div.sk-parallel-item:last-child::after {align-self: flex-start;width: 50%;}#sk-container-id-1 div.sk-parallel-item:only-child::after {width: 0;}#sk-container-id-1 div.sk-dashed-wrapped {border: 1px dashed gray;margin: 0 0.4em 0.5em 0.4em;box-sizing: border-box;padding-bottom: 0.4em;background-color: white;}#sk-container-id-1 div.sk-label label {font-family: monospace;font-weight: bold;display: inline-block;line-height: 1.2em;}#sk-container-id-1 div.sk-label-container {text-align: center;}#sk-container-id-1 div.sk-container {/* jupyter's `normalize.less` sets `[hidden] { display: none; }` but bootstrap.min.css set `[hidden] { display: none !important; }` so we also need the `!important` here to be able to override the default hidden behavior on the sphinx rendered scikit-learn.org. See: https://github.com/scikit-learn/scikit-learn/issues/21755 */display: inline-block !important;position: relative;}#sk-container-id-1 div.sk-text-repr-fallback {display: none;}</style><div id=\"sk-container-id-1\" class=\"sk-top-container\"><div class=\"sk-text-repr-fallback\"><pre>GridSearchCV(cv=3, estimator=DecisionTreeClassifier(),\n",
       "             param_grid={&#x27;criterion&#x27;: [&#x27;entropy&#x27;, &#x27;gini&#x27;],\n",
       "                         &#x27;min_samples_leaf&#x27;: [1, 2, 3],\n",
       "                         &#x27;min_samples_split&#x27;: [2, 3, 4]},\n",
       "             scoring=&#x27;f1&#x27;, verbose=2)</pre><b>In a Jupyter environment, please rerun this cell to show the HTML representation or trust the notebook. <br />On GitHub, the HTML representation is unable to render, please try loading this page with nbviewer.org.</b></div><div class=\"sk-container\" hidden><div class=\"sk-item sk-dashed-wrapped\"><div class=\"sk-label-container\"><div class=\"sk-label sk-toggleable\"><input class=\"sk-toggleable__control sk-hidden--visually\" id=\"sk-estimator-id-1\" type=\"checkbox\" ><label for=\"sk-estimator-id-1\" class=\"sk-toggleable__label sk-toggleable__label-arrow\">GridSearchCV</label><div class=\"sk-toggleable__content\"><pre>GridSearchCV(cv=3, estimator=DecisionTreeClassifier(),\n",
       "             param_grid={&#x27;criterion&#x27;: [&#x27;entropy&#x27;, &#x27;gini&#x27;],\n",
       "                         &#x27;min_samples_leaf&#x27;: [1, 2, 3],\n",
       "                         &#x27;min_samples_split&#x27;: [2, 3, 4]},\n",
       "             scoring=&#x27;f1&#x27;, verbose=2)</pre></div></div></div><div class=\"sk-parallel\"><div class=\"sk-parallel-item\"><div class=\"sk-item\"><div class=\"sk-label-container\"><div class=\"sk-label sk-toggleable\"><input class=\"sk-toggleable__control sk-hidden--visually\" id=\"sk-estimator-id-2\" type=\"checkbox\" ><label for=\"sk-estimator-id-2\" class=\"sk-toggleable__label sk-toggleable__label-arrow\">estimator: DecisionTreeClassifier</label><div class=\"sk-toggleable__content\"><pre>DecisionTreeClassifier()</pre></div></div></div><div class=\"sk-serial\"><div class=\"sk-item\"><div class=\"sk-estimator sk-toggleable\"><input class=\"sk-toggleable__control sk-hidden--visually\" id=\"sk-estimator-id-3\" type=\"checkbox\" ><label for=\"sk-estimator-id-3\" class=\"sk-toggleable__label sk-toggleable__label-arrow\">DecisionTreeClassifier</label><div class=\"sk-toggleable__content\"><pre>DecisionTreeClassifier()</pre></div></div></div></div></div></div></div></div></div></div>"
      ],
      "text/plain": [
       "GridSearchCV(cv=3, estimator=DecisionTreeClassifier(),\n",
       "             param_grid={'criterion': ['entropy', 'gini'],\n",
       "                         'min_samples_leaf': [1, 2, 3],\n",
       "                         'min_samples_split': [2, 3, 4]},\n",
       "             scoring='f1', verbose=2)"
      ]
     },
     "execution_count": 8,
     "metadata": {},
     "output_type": "execute_result"
    }
   ],
   "source": [
    "param_grid = {\n",
    "    'criterion':['entropy', 'gini'],\n",
    "    'min_samples_split':[2, 3, 4],\n",
    "    'min_samples_leaf':[1, 2, 3]\n",
    "}\n",
    "\n",
    "tree = DecisionTreeClassifier()\n",
    "tree_cv = GridSearchCV(estimator=tree, param_grid=param_grid, scoring='f1', cv=3, verbose=2)\n",
    "tree_cv.fit(X_train, y_train)"
   ]
  },
  {
   "cell_type": "code",
   "execution_count": 9,
   "id": "42c41818",
   "metadata": {
    "scrolled": true
   },
   "outputs": [
    {
     "name": "stdout",
     "output_type": "stream",
     "text": [
      "{'criterion': 'gini', 'min_samples_leaf': 2, 'min_samples_split': 3}\n"
     ]
    }
   ],
   "source": [
    "print(tree_cv.best_params_)"
   ]
  },
  {
   "cell_type": "code",
   "execution_count": 10,
   "id": "5d05c49b",
   "metadata": {
    "scrolled": false
   },
=======
   "execution_count": 6,
   "id": "4ddef9d7",
   "metadata": {},
>>>>>>> 09b3588 (Revert "Merge branch 'Allison-branch'")
   "outputs": [
    {
     "data": {
      "text/plain": [
<<<<<<< HEAD
       "<sklearn.metrics._plot.confusion_matrix.ConfusionMatrixDisplay at 0x1b356e75090>"
      ]
     },
     "execution_count": 10,
=======
       "<sklearn.metrics._plot.confusion_matrix.ConfusionMatrixDisplay at 0x1b218e948b0>"
      ]
     },
     "execution_count": 6,
>>>>>>> 09b3588 (Revert "Merge branch 'Allison-branch'")
     "metadata": {},
     "output_type": "execute_result"
    },
    {
     "data": {
<<<<<<< HEAD
      "image/png": "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\n",
=======
      "image/png": "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\n",
>>>>>>> 09b3588 (Revert "Merge branch 'Allison-branch'")
      "text/plain": [
       "<Figure size 640x480 with 2 Axes>"
      ]
     },
     "metadata": {},
     "output_type": "display_data"
    }
   ],
   "source": [
<<<<<<< HEAD
    "y_pred = tree_cv.predict(X_test)\n",
=======
    "tree = DecisionTreeClassifier(criterion='entropy')\n",
    "tree.fit(X_train, y_train)\n",
    "y_pred = tree.predict(X_test)\n",
>>>>>>> 09b3588 (Revert "Merge branch 'Allison-branch'")
    "\n",
    "cm = confusion_matrix(y_test, y_pred)\n",
    "CM = ConfusionMatrixDisplay(cm)\n",
    "CM.plot()"
   ]
  },
  {
<<<<<<< HEAD
   "cell_type": "code",
   "execution_count": 11,
   "id": "9d3076c7",
=======
   "cell_type": "markdown",
   "id": "f113a2bc",
   "metadata": {},
   "source": [
    "Here we calculate the false positive rate and the false negative rate. The first says how likey a transaction will be predicted to be fraud, when in truth the transaction is not fraud. The second says how likey a transaction will be predicted to not be fraud, when in truth the transaction is fraud. It is important to keep false negative rate low. "
   ]
  },
  {
   "cell_type": "code",
   "execution_count": 7,
   "id": "d29671cc",
>>>>>>> 09b3588 (Revert "Merge branch 'Allison-branch'")
   "metadata": {},
   "outputs": [
    {
     "name": "stdout",
     "output_type": "stream",
     "text": [
<<<<<<< HEAD
      "accuracy  = 0.9852\n",
      "recall\t  = 0.5237\n",
      "precision = 0.632\n",
      "f1 score  = 0.5728\n",
      "AUC\t  = 0.7589\n"
=======
      "false positive rate = 0.0093\n",
      "false negative rate = 0.4192\n"
     ]
    }
   ],
   "source": [
    "fp = cm[0][1]\n",
    "tn = cm[0][0]\n",
    "fpr = fp/(fp+tn)\n",
    "print('false positive rate =', round(fpr, 4))\n",
    "\n",
    "fn = cm[1][0]\n",
    "tp = cm[1][1]\n",
    "fnr = fn/(fn+tp)\n",
    "print('false negative rate =', round(fnr, 4))"
   ]
  },
  {
   "cell_type": "code",
   "execution_count": 8,
   "id": "80a52561",
   "metadata": {},
   "outputs": [
    {
     "name": "stdout",
     "output_type": "stream",
     "text": [
      "accuracy = 0.983\n",
      "recall = 0.5808\n",
      "precision = 0.5429\n",
      "f1 score = 0.5612\n"
>>>>>>> 09b3588 (Revert "Merge branch 'Allison-branch'")
     ]
    }
   ],
   "source": [
    "acc = accuracy_score(y_test, y_pred)\n",
    "rec = recall_score(y_test, y_pred)\n",
    "prec = precision_score(y_test, y_pred)\n",
    "f1 = f1_score(y_test, y_pred)\n",
<<<<<<< HEAD
    "fpr, tpr, thresholds = roc_curve(y_test, y_pred)\n",
    "\n",
    "print('accuracy  =', round(acc, 4))\n",
    "print('recall\\t  =',round(rec, 4))\n",
    "print('precision =', round(prec, 4))\n",
    "print('f1 score  =', round(f1, 4))\n",
    "print('AUC\\t  =', round(auc(fpr, tpr),4))"
   ]
  },
  {
   "cell_type": "code",
   "execution_count": 12,
   "id": "24c032f4",
   "metadata": {},
   "outputs": [
    {
     "name": "stdout",
     "output_type": "stream",
     "text": [
      "fold: 1 2 3 4 5 6 7 8 9 10 \n",
      "\n",
      "accuracy  = 0.9862 (0.0003)\n",
      "recall\t  = 0.5501 (0.0107)\n",
      "precision = 0.6610 (0.0134)\n",
      "f1 score  = 0.6004 (0.0088)\n",
      "AUC\t  = 0.7723 (0.0053)\n"
     ]
    }
   ],
   "source": [
    "acc_list = []\n",
    "rec_list = []\n",
    "pre_list = []\n",
    "f1_list = []\n",
    "auc_list = []\n",
    "folds = 10\n",
    "i = 1\n",
    "\n",
    "print('fold: ',end='')\n",
    "for train, test in StratifiedKFold(n_splits=folds,random_state=1, shuffle=True).split(X, y):\n",
    "    print(str(i)+' ',end='')\n",
    "    i+=1\n",
    "    x_train_one_fold, x_test_one_fold = X.iloc[train], X.iloc[test]\n",
    "    y_train_one_fold, y_test_one_fold = y.iloc[train], y.iloc[test]\n",
    "    tree = DecisionTreeClassifier(min_samples_leaf= 2, min_samples_split= 3)\n",
    "    tree.fit(x_train_one_fold, y_train_one_fold)\n",
    "    y_pred = tree.predict(x_test_one_fold)\n",
    "    \n",
    "    acc_list.append(accuracy_score(y_test_one_fold, y_pred))\n",
    "    rec_list.append(recall_score(y_test_one_fold, y_pred))\n",
    "    pre_list.append(precision_score(y_test_one_fold, y_pred))\n",
    "    f1_list.append(f1_score(y_test_one_fold, y_pred, pos_label=1))\n",
    "    fpr, tpr, thresholds = roc_curve(y_test_one_fold, y_pred)\n",
    "    auc_list.append(auc(fpr, tpr))\n",
    "    \n",
    "print(\"\\n\\naccuracy  = %.4f (%.4f)\" % (stat.mean(acc_list), stat.stdev(acc_list)))\n",
    "print(\"recall\\t  = %.4f (%.4f)\" % (stat.mean(rec_list), stat.stdev(rec_list)))\n",
    "print(\"precision = %.4f (%.4f)\" % (stat.mean(pre_list), stat.stdev(pre_list)))\n",
    "print(\"f1 score  = %.4f (%.4f)\" % (stat.mean(f1_list), stat.stdev(f1_list)))\n",
    "print(\"AUC\\t  = %.4f (%.4f)\" % (stat.mean(auc_list), stat.stdev(auc_list)))"
=======
    "print('accuracy =', round(acc, 4))\n",
    "print('recall =',round(rec, 4))\n",
    "print('precision =', round(prec, 4))\n",
    "print('f1 score =', round(f1, 4))"
>>>>>>> 09b3588 (Revert "Merge branch 'Allison-branch'")
   ]
  },
  {
   "cell_type": "markdown",
   "id": "f236eb47",
   "metadata": {},
   "source": [
<<<<<<< HEAD
    "This model meets the success criteria of an accuracy rate of at least 80% and false positive rate of at most 5%. But because the data that was used to train this model is so imbalanced, we look to the f1 score. It is an okay score, but it does not meet the success criteria."
=======
    "This model meets the success criteria of an accuracy rate of at least 80% and false positive rate of at most 5%. But because the data that was used to train this model is so unbalanced, we look to the f1 score. But this score is less than 80%. This means this model fails the success criteria.\n",
    "\n",
    "It is also important to note that the while the false positive rate is 0.9%, the false negative rate is about 42%. "
>>>>>>> 09b3588 (Revert "Merge branch 'Allison-branch'")
   ]
  },
  {
   "cell_type": "markdown",
   "id": "c2a3ba9e",
   "metadata": {},
   "source": [
    "## 3.2 Decision Tree with Under-Samping"
   ]
  },
  {
   "cell_type": "markdown",
   "id": "d1f34bee",
   "metadata": {},
   "source": [
<<<<<<< HEAD
    "To manage the unbalanced data, we will use the under-sampling technique to balance the data. Under-sampling randomly takes data points from the majority class to match the number of data points in the minority class. Under-sampling can get rid of important data points, but it may also improve the f1 score. "
=======
    "To manage the unbalanced data, we will use the under-sampling technique to balance the data. Under-sampling randomly takes data points from the majority class to match the number of data points in the minority class. Under-sampling can get rid of important data points, but it may also improve the false negative rate and the f1 score. "
>>>>>>> 09b3588 (Revert "Merge branch 'Allison-branch'")
   ]
  },
  {
   "cell_type": "code",
<<<<<<< HEAD
   "execution_count": 13,
=======
   "execution_count": 9,
>>>>>>> 09b3588 (Revert "Merge branch 'Allison-branch'")
   "id": "976d67c5",
   "metadata": {},
   "outputs": [
    {
     "name": "stdout",
     "output_type": "stream",
     "text": [
      "class 0: (1076568, 245)\n",
      "class 1: (20663, 245)\n"
     ]
    }
   ],
   "source": [
    "#split data by class\n",
    "class0 = data[data['isFraud'] == 0]\n",
    "class1 = data[data['isFraud'] == 1]\n",
    "print('class 0:', class0.shape)\n",
    "print('class 1:', class1.shape)"
   ]
  },
  {
   "cell_type": "code",
<<<<<<< HEAD
   "execution_count": 14,
=======
   "execution_count": 10,
>>>>>>> 09b3588 (Revert "Merge branch 'Allison-branch'")
   "id": "d31ce8ab",
   "metadata": {},
   "outputs": [
    {
     "name": "stdout",
     "output_type": "stream",
     "text": [
      "new class 0: (20663, 245)\n",
      "new class 1: (20663, 245)\n"
     ]
    }
   ],
   "source": [
    "#under-sample the majority class so it is balanced with the minority class\n",
    "under_class0 = resample(class0, replace=False, n_samples=class1.shape[0], random_state=42)\n",
    "print('new class 0:', under_class0.shape)\n",
    "print('new class 1:', class1.shape)\n",
    "under_data = pd.concat([under_class0, class1])"
   ]
  },
  {
   "cell_type": "code",
<<<<<<< HEAD
   "execution_count": 16,
=======
   "execution_count": 11,
>>>>>>> 09b3588 (Revert "Merge branch 'Allison-branch'")
   "id": "c69c16b1",
   "metadata": {},
   "outputs": [
    {
     "name": "stdout",
     "output_type": "stream",
     "text": [
<<<<<<< HEAD
      "(28928, 244)\n",
      "(12398, 244)\n",
      "(28928,)\n",
      "(12398,)\n"
=======
      "(33060, 244)\n",
      "(8266, 244)\n",
      "(33060,)\n",
      "(8266,)\n"
>>>>>>> 09b3588 (Revert "Merge branch 'Allison-branch'")
     ]
    }
   ],
   "source": [
    "X = under_data.drop('isFraud', axis = 1)\n",
    "X = pd.get_dummies(X)\n",
    "y = under_data['isFraud']\n",
    "\n",
<<<<<<< HEAD
    "X_train, X_test, y_train, y_test = train_test_split(X, y, test_size = 0.3)\n",
=======
    "X_train, X_test, y_train, y_test = train_test_split(X, y, test_size = 0.2)\n",
>>>>>>> 09b3588 (Revert "Merge branch 'Allison-branch'")
    "print(X_train.shape)\n",
    "print(X_test.shape)\n",
    "print(y_train.shape)\n",
    "print(y_test.shape)"
   ]
  },
  {
   "cell_type": "code",
<<<<<<< HEAD
   "execution_count": 28,
   "id": "7d05b35a",
   "metadata": {
    "scrolled": true
   },
   "outputs": [
    {
     "name": "stdout",
     "output_type": "stream",
     "text": [
      "Fitting 5 folds for each of 18 candidates, totalling 90 fits\n",
      "[CV] END criterion=entropy, min_samples_leaf=1, min_samples_split=2; total time=   0.8s\n",
      "[CV] END criterion=entropy, min_samples_leaf=1, min_samples_split=2; total time=   0.6s\n",
      "[CV] END criterion=entropy, min_samples_leaf=1, min_samples_split=2; total time=   0.8s\n",
      "[CV] END criterion=entropy, min_samples_leaf=1, min_samples_split=2; total time=   0.9s\n",
      "[CV] END criterion=entropy, min_samples_leaf=1, min_samples_split=2; total time=   0.9s\n",
      "[CV] END criterion=entropy, min_samples_leaf=1, min_samples_split=3; total time=   0.8s\n",
      "[CV] END criterion=entropy, min_samples_leaf=1, min_samples_split=3; total time=   0.9s\n",
      "[CV] END criterion=entropy, min_samples_leaf=1, min_samples_split=3; total time=   0.9s\n",
      "[CV] END criterion=entropy, min_samples_leaf=1, min_samples_split=3; total time=   0.9s\n",
      "[CV] END criterion=entropy, min_samples_leaf=1, min_samples_split=3; total time=   0.7s\n",
      "[CV] END criterion=entropy, min_samples_leaf=1, min_samples_split=4; total time=   0.8s\n",
      "[CV] END criterion=entropy, min_samples_leaf=1, min_samples_split=4; total time=   0.9s\n",
      "[CV] END criterion=entropy, min_samples_leaf=1, min_samples_split=4; total time=   0.8s\n",
      "[CV] END criterion=entropy, min_samples_leaf=1, min_samples_split=4; total time=   0.9s\n",
      "[CV] END criterion=entropy, min_samples_leaf=1, min_samples_split=4; total time=   0.9s\n",
      "[CV] END criterion=entropy, min_samples_leaf=2, min_samples_split=2; total time=   0.9s\n",
      "[CV] END criterion=entropy, min_samples_leaf=2, min_samples_split=2; total time=   0.7s\n",
      "[CV] END criterion=entropy, min_samples_leaf=2, min_samples_split=2; total time=   0.9s\n",
      "[CV] END criterion=entropy, min_samples_leaf=2, min_samples_split=2; total time=   0.8s\n",
      "[CV] END criterion=entropy, min_samples_leaf=2, min_samples_split=2; total time=   0.8s\n",
      "[CV] END criterion=entropy, min_samples_leaf=2, min_samples_split=3; total time=   0.7s\n",
      "[CV] END criterion=entropy, min_samples_leaf=2, min_samples_split=3; total time=   0.5s\n",
      "[CV] END criterion=entropy, min_samples_leaf=2, min_samples_split=3; total time=   0.5s\n",
      "[CV] END criterion=entropy, min_samples_leaf=2, min_samples_split=3; total time=   0.7s\n",
      "[CV] END criterion=entropy, min_samples_leaf=2, min_samples_split=3; total time=   0.5s\n",
      "[CV] END criterion=entropy, min_samples_leaf=2, min_samples_split=4; total time=   0.8s\n",
      "[CV] END criterion=entropy, min_samples_leaf=2, min_samples_split=4; total time=   0.8s\n",
      "[CV] END criterion=entropy, min_samples_leaf=2, min_samples_split=4; total time=   0.5s\n",
      "[CV] END criterion=entropy, min_samples_leaf=2, min_samples_split=4; total time=   0.7s\n",
      "[CV] END criterion=entropy, min_samples_leaf=2, min_samples_split=4; total time=   0.9s\n",
      "[CV] END criterion=entropy, min_samples_leaf=3, min_samples_split=2; total time=   0.8s\n",
      "[CV] END criterion=entropy, min_samples_leaf=3, min_samples_split=2; total time=   0.5s\n",
      "[CV] END criterion=entropy, min_samples_leaf=3, min_samples_split=2; total time=   0.7s\n",
      "[CV] END criterion=entropy, min_samples_leaf=3, min_samples_split=2; total time=   0.8s\n",
      "[CV] END criterion=entropy, min_samples_leaf=3, min_samples_split=2; total time=   0.8s\n",
      "[CV] END criterion=entropy, min_samples_leaf=3, min_samples_split=3; total time=   0.8s\n",
      "[CV] END criterion=entropy, min_samples_leaf=3, min_samples_split=3; total time=   0.8s\n",
      "[CV] END criterion=entropy, min_samples_leaf=3, min_samples_split=3; total time=   0.8s\n",
      "[CV] END criterion=entropy, min_samples_leaf=3, min_samples_split=3; total time=   0.5s\n",
      "[CV] END criterion=entropy, min_samples_leaf=3, min_samples_split=3; total time=   0.8s\n",
      "[CV] END criterion=entropy, min_samples_leaf=3, min_samples_split=4; total time=   0.8s\n",
      "[CV] END criterion=entropy, min_samples_leaf=3, min_samples_split=4; total time=   0.7s\n",
      "[CV] END criterion=entropy, min_samples_leaf=3, min_samples_split=4; total time=   0.9s\n",
      "[CV] END criterion=entropy, min_samples_leaf=3, min_samples_split=4; total time=   0.9s\n",
      "[CV] END criterion=entropy, min_samples_leaf=3, min_samples_split=4; total time=   0.9s\n",
      "[CV] END criterion=gini, min_samples_leaf=1, min_samples_split=2; total time=   0.8s\n",
      "[CV] END criterion=gini, min_samples_leaf=1, min_samples_split=2; total time=   0.9s\n",
      "[CV] END criterion=gini, min_samples_leaf=1, min_samples_split=2; total time=   0.9s\n",
      "[CV] END criterion=gini, min_samples_leaf=1, min_samples_split=2; total time=   0.9s\n",
      "[CV] END criterion=gini, min_samples_leaf=1, min_samples_split=2; total time=   0.9s\n",
      "[CV] END criterion=gini, min_samples_leaf=1, min_samples_split=3; total time=   0.9s\n",
      "[CV] END criterion=gini, min_samples_leaf=1, min_samples_split=3; total time=   0.9s\n",
      "[CV] END criterion=gini, min_samples_leaf=1, min_samples_split=3; total time=   0.9s\n",
      "[CV] END criterion=gini, min_samples_leaf=1, min_samples_split=3; total time=   0.6s\n",
      "[CV] END criterion=gini, min_samples_leaf=1, min_samples_split=3; total time=   0.6s\n",
      "[CV] END criterion=gini, min_samples_leaf=1, min_samples_split=4; total time=   0.6s\n",
      "[CV] END criterion=gini, min_samples_leaf=1, min_samples_split=4; total time=   0.9s\n",
      "[CV] END criterion=gini, min_samples_leaf=1, min_samples_split=4; total time=   0.6s\n",
      "[CV] END criterion=gini, min_samples_leaf=1, min_samples_split=4; total time=   0.7s\n",
      "[CV] END criterion=gini, min_samples_leaf=1, min_samples_split=4; total time=   0.9s\n",
      "[CV] END criterion=gini, min_samples_leaf=2, min_samples_split=2; total time=   0.9s\n",
      "[CV] END criterion=gini, min_samples_leaf=2, min_samples_split=2; total time=   0.7s\n",
      "[CV] END criterion=gini, min_samples_leaf=2, min_samples_split=2; total time=   0.6s\n",
      "[CV] END criterion=gini, min_samples_leaf=2, min_samples_split=2; total time=   0.8s\n",
      "[CV] END criterion=gini, min_samples_leaf=2, min_samples_split=2; total time=   0.5s\n",
      "[CV] END criterion=gini, min_samples_leaf=2, min_samples_split=3; total time=   0.5s\n",
      "[CV] END criterion=gini, min_samples_leaf=2, min_samples_split=3; total time=   0.5s\n",
      "[CV] END criterion=gini, min_samples_leaf=2, min_samples_split=3; total time=   0.6s\n",
      "[CV] END criterion=gini, min_samples_leaf=2, min_samples_split=3; total time=   0.8s\n",
      "[CV] END criterion=gini, min_samples_leaf=2, min_samples_split=3; total time=   0.9s\n",
      "[CV] END criterion=gini, min_samples_leaf=2, min_samples_split=4; total time=   0.8s\n",
      "[CV] END criterion=gini, min_samples_leaf=2, min_samples_split=4; total time=   0.8s\n",
      "[CV] END criterion=gini, min_samples_leaf=2, min_samples_split=4; total time=   0.7s\n",
      "[CV] END criterion=gini, min_samples_leaf=2, min_samples_split=4; total time=   0.7s\n",
      "[CV] END criterion=gini, min_samples_leaf=2, min_samples_split=4; total time=   0.8s\n",
      "[CV] END criterion=gini, min_samples_leaf=3, min_samples_split=2; total time=   0.7s\n",
      "[CV] END criterion=gini, min_samples_leaf=3, min_samples_split=2; total time=   0.8s\n",
      "[CV] END criterion=gini, min_samples_leaf=3, min_samples_split=2; total time=   0.9s\n",
      "[CV] END criterion=gini, min_samples_leaf=3, min_samples_split=2; total time=   0.8s\n",
      "[CV] END criterion=gini, min_samples_leaf=3, min_samples_split=2; total time=   0.6s\n",
      "[CV] END criterion=gini, min_samples_leaf=3, min_samples_split=3; total time=   0.7s\n",
      "[CV] END criterion=gini, min_samples_leaf=3, min_samples_split=3; total time=   0.7s\n",
      "[CV] END criterion=gini, min_samples_leaf=3, min_samples_split=3; total time=   0.7s\n",
      "[CV] END criterion=gini, min_samples_leaf=3, min_samples_split=3; total time=   0.6s\n",
      "[CV] END criterion=gini, min_samples_leaf=3, min_samples_split=3; total time=   0.7s\n",
      "[CV] END criterion=gini, min_samples_leaf=3, min_samples_split=4; total time=   0.6s\n",
      "[CV] END criterion=gini, min_samples_leaf=3, min_samples_split=4; total time=   0.8s\n",
      "[CV] END criterion=gini, min_samples_leaf=3, min_samples_split=4; total time=   0.6s\n",
      "[CV] END criterion=gini, min_samples_leaf=3, min_samples_split=4; total time=   0.8s\n",
      "[CV] END criterion=gini, min_samples_leaf=3, min_samples_split=4; total time=   0.5s\n"
     ]
    },
    {
     "data": {
      "text/html": [
       "<style>#sk-container-id-3 {color: black;background-color: white;}#sk-container-id-3 pre{padding: 0;}#sk-container-id-3 div.sk-toggleable {background-color: white;}#sk-container-id-3 label.sk-toggleable__label {cursor: pointer;display: block;width: 100%;margin-bottom: 0;padding: 0.3em;box-sizing: border-box;text-align: center;}#sk-container-id-3 label.sk-toggleable__label-arrow:before {content: \"▸\";float: left;margin-right: 0.25em;color: #696969;}#sk-container-id-3 label.sk-toggleable__label-arrow:hover:before {color: black;}#sk-container-id-3 div.sk-estimator:hover label.sk-toggleable__label-arrow:before {color: black;}#sk-container-id-3 div.sk-toggleable__content {max-height: 0;max-width: 0;overflow: hidden;text-align: left;background-color: #f0f8ff;}#sk-container-id-3 div.sk-toggleable__content pre {margin: 0.2em;color: black;border-radius: 0.25em;background-color: #f0f8ff;}#sk-container-id-3 input.sk-toggleable__control:checked~div.sk-toggleable__content {max-height: 200px;max-width: 100%;overflow: auto;}#sk-container-id-3 input.sk-toggleable__control:checked~label.sk-toggleable__label-arrow:before {content: \"▾\";}#sk-container-id-3 div.sk-estimator input.sk-toggleable__control:checked~label.sk-toggleable__label {background-color: #d4ebff;}#sk-container-id-3 div.sk-label input.sk-toggleable__control:checked~label.sk-toggleable__label {background-color: #d4ebff;}#sk-container-id-3 input.sk-hidden--visually {border: 0;clip: rect(1px 1px 1px 1px);clip: rect(1px, 1px, 1px, 1px);height: 1px;margin: -1px;overflow: hidden;padding: 0;position: absolute;width: 1px;}#sk-container-id-3 div.sk-estimator {font-family: monospace;background-color: #f0f8ff;border: 1px dotted black;border-radius: 0.25em;box-sizing: border-box;margin-bottom: 0.5em;}#sk-container-id-3 div.sk-estimator:hover {background-color: #d4ebff;}#sk-container-id-3 div.sk-parallel-item::after {content: \"\";width: 100%;border-bottom: 1px solid gray;flex-grow: 1;}#sk-container-id-3 div.sk-label:hover label.sk-toggleable__label {background-color: #d4ebff;}#sk-container-id-3 div.sk-serial::before {content: \"\";position: absolute;border-left: 1px solid gray;box-sizing: border-box;top: 0;bottom: 0;left: 50%;z-index: 0;}#sk-container-id-3 div.sk-serial {display: flex;flex-direction: column;align-items: center;background-color: white;padding-right: 0.2em;padding-left: 0.2em;position: relative;}#sk-container-id-3 div.sk-item {position: relative;z-index: 1;}#sk-container-id-3 div.sk-parallel {display: flex;align-items: stretch;justify-content: center;background-color: white;position: relative;}#sk-container-id-3 div.sk-item::before, #sk-container-id-3 div.sk-parallel-item::before {content: \"\";position: absolute;border-left: 1px solid gray;box-sizing: border-box;top: 0;bottom: 0;left: 50%;z-index: -1;}#sk-container-id-3 div.sk-parallel-item {display: flex;flex-direction: column;z-index: 1;position: relative;background-color: white;}#sk-container-id-3 div.sk-parallel-item:first-child::after {align-self: flex-end;width: 50%;}#sk-container-id-3 div.sk-parallel-item:last-child::after {align-self: flex-start;width: 50%;}#sk-container-id-3 div.sk-parallel-item:only-child::after {width: 0;}#sk-container-id-3 div.sk-dashed-wrapped {border: 1px dashed gray;margin: 0 0.4em 0.5em 0.4em;box-sizing: border-box;padding-bottom: 0.4em;background-color: white;}#sk-container-id-3 div.sk-label label {font-family: monospace;font-weight: bold;display: inline-block;line-height: 1.2em;}#sk-container-id-3 div.sk-label-container {text-align: center;}#sk-container-id-3 div.sk-container {/* jupyter's `normalize.less` sets `[hidden] { display: none; }` but bootstrap.min.css set `[hidden] { display: none !important; }` so we also need the `!important` here to be able to override the default hidden behavior on the sphinx rendered scikit-learn.org. See: https://github.com/scikit-learn/scikit-learn/issues/21755 */display: inline-block !important;position: relative;}#sk-container-id-3 div.sk-text-repr-fallback {display: none;}</style><div id=\"sk-container-id-3\" class=\"sk-top-container\"><div class=\"sk-text-repr-fallback\"><pre>GridSearchCV(cv=5, estimator=DecisionTreeClassifier(),\n",
       "             param_grid={&#x27;criterion&#x27;: [&#x27;entropy&#x27;, &#x27;gini&#x27;],\n",
       "                         &#x27;min_samples_leaf&#x27;: [1, 2, 3],\n",
       "                         &#x27;min_samples_split&#x27;: [2, 3, 4]},\n",
       "             scoring=&#x27;f1&#x27;, verbose=2)</pre><b>In a Jupyter environment, please rerun this cell to show the HTML representation or trust the notebook. <br />On GitHub, the HTML representation is unable to render, please try loading this page with nbviewer.org.</b></div><div class=\"sk-container\" hidden><div class=\"sk-item sk-dashed-wrapped\"><div class=\"sk-label-container\"><div class=\"sk-label sk-toggleable\"><input class=\"sk-toggleable__control sk-hidden--visually\" id=\"sk-estimator-id-7\" type=\"checkbox\" ><label for=\"sk-estimator-id-7\" class=\"sk-toggleable__label sk-toggleable__label-arrow\">GridSearchCV</label><div class=\"sk-toggleable__content\"><pre>GridSearchCV(cv=5, estimator=DecisionTreeClassifier(),\n",
       "             param_grid={&#x27;criterion&#x27;: [&#x27;entropy&#x27;, &#x27;gini&#x27;],\n",
       "                         &#x27;min_samples_leaf&#x27;: [1, 2, 3],\n",
       "                         &#x27;min_samples_split&#x27;: [2, 3, 4]},\n",
       "             scoring=&#x27;f1&#x27;, verbose=2)</pre></div></div></div><div class=\"sk-parallel\"><div class=\"sk-parallel-item\"><div class=\"sk-item\"><div class=\"sk-label-container\"><div class=\"sk-label sk-toggleable\"><input class=\"sk-toggleable__control sk-hidden--visually\" id=\"sk-estimator-id-8\" type=\"checkbox\" ><label for=\"sk-estimator-id-8\" class=\"sk-toggleable__label sk-toggleable__label-arrow\">estimator: DecisionTreeClassifier</label><div class=\"sk-toggleable__content\"><pre>DecisionTreeClassifier()</pre></div></div></div><div class=\"sk-serial\"><div class=\"sk-item\"><div class=\"sk-estimator sk-toggleable\"><input class=\"sk-toggleable__control sk-hidden--visually\" id=\"sk-estimator-id-9\" type=\"checkbox\" ><label for=\"sk-estimator-id-9\" class=\"sk-toggleable__label sk-toggleable__label-arrow\">DecisionTreeClassifier</label><div class=\"sk-toggleable__content\"><pre>DecisionTreeClassifier()</pre></div></div></div></div></div></div></div></div></div></div>"
      ],
      "text/plain": [
       "GridSearchCV(cv=5, estimator=DecisionTreeClassifier(),\n",
       "             param_grid={'criterion': ['entropy', 'gini'],\n",
       "                         'min_samples_leaf': [1, 2, 3],\n",
       "                         'min_samples_split': [2, 3, 4]},\n",
       "             scoring='f1', verbose=2)"
      ]
     },
     "execution_count": 28,
     "metadata": {},
     "output_type": "execute_result"
    }
   ],
   "source": [
    "param_grid = {\n",
    "    'criterion':['entropy', 'gini'],\n",
    "    'min_samples_split':[2, 3, 4],\n",
    "    'min_samples_leaf':[1, 2, 3]\n",
    "}\n",
    "\n",
    "tree = DecisionTreeClassifier()\n",
    "tree_cv = GridSearchCV(estimator=tree, param_grid=param_grid, scoring='f1', cv=5, verbose=2)\n",
    "tree_cv.fit(X_train, y_train)"
   ]
  },
  {
   "cell_type": "code",
   "execution_count": 29,
   "id": "e5a33a87",
   "metadata": {},
   "outputs": [
    {
     "name": "stdout",
     "output_type": "stream",
     "text": [
      "{'criterion': 'entropy', 'min_samples_leaf': 3, 'min_samples_split': 2}\n"
     ]
    }
   ],
   "source": [
    "print(tree_cv.best_params_)"
   ]
  },
  {
   "cell_type": "code",
   "execution_count": 30,
=======
   "execution_count": 12,
>>>>>>> 09b3588 (Revert "Merge branch 'Allison-branch'")
   "id": "07b092be",
   "metadata": {},
   "outputs": [
    {
     "data": {
      "text/plain": [
<<<<<<< HEAD
       "<sklearn.metrics._plot.confusion_matrix.ConfusionMatrixDisplay at 0x1b3598c54e0>"
      ]
     },
     "execution_count": 30,
=======
       "<sklearn.metrics._plot.confusion_matrix.ConfusionMatrixDisplay at 0x1b218e954b0>"
      ]
     },
     "execution_count": 12,
>>>>>>> 09b3588 (Revert "Merge branch 'Allison-branch'")
     "metadata": {},
     "output_type": "execute_result"
    },
    {
     "data": {
<<<<<<< HEAD
      "image/png": "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\n",
=======
      "image/png": "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\n",
>>>>>>> 09b3588 (Revert "Merge branch 'Allison-branch'")
      "text/plain": [
       "<Figure size 640x480 with 2 Axes>"
      ]
     },
     "metadata": {},
     "output_type": "display_data"
    }
   ],
   "source": [
<<<<<<< HEAD
    "y_pred = tree_cv.predict(X_test)\n",
=======
    "tree = DecisionTreeClassifier(criterion='entropy')\n",
    "tree.fit(X_train, y_train)\n",
    "y_pred = tree.predict(X_test)\n",
>>>>>>> 09b3588 (Revert "Merge branch 'Allison-branch'")
    "\n",
    "cm = confusion_matrix(y_test, y_pred)\n",
    "CM = ConfusionMatrixDisplay(cm)\n",
    "CM.plot()"
   ]
  },
  {
   "cell_type": "code",
<<<<<<< HEAD
   "execution_count": 31,
=======
   "execution_count": 13,
>>>>>>> 09b3588 (Revert "Merge branch 'Allison-branch'")
   "id": "0d06a8f8",
   "metadata": {},
   "outputs": [
    {
     "name": "stdout",
     "output_type": "stream",
     "text": [
<<<<<<< HEAD
      "accuracy  = 0.8301\n",
      "recall\t  = 0.8315\n",
      "precision = 0.8293\n",
      "f1 score  = 0.8304\n",
      "AUC\t  = 0.8301\n"
=======
      "false positive rate = 0.1789\n",
      "false negative rate = 0.1468\n"
     ]
    }
   ],
   "source": [
    "fp = cm[0][1]\n",
    "tn = cm[0][0]\n",
    "fpr = fp/(fp+tn)\n",
    "print('false positive rate =', round(fpr, 4))\n",
    "\n",
    "fn = cm[1][0]\n",
    "tp = cm[1][1]\n",
    "fnr = fn/(fn+tp)\n",
    "print('false negative rate =', round(fnr, 4))"
   ]
  },
  {
   "cell_type": "code",
   "execution_count": 14,
   "id": "7bdf6150",
   "metadata": {},
   "outputs": [
    {
     "name": "stdout",
     "output_type": "stream",
     "text": [
      "accuracy = 0.8373\n",
      "recall = 0.8532\n",
      "precision = 0.8291\n",
      "f1 score = 0.841\n"
>>>>>>> 09b3588 (Revert "Merge branch 'Allison-branch'")
     ]
    }
   ],
   "source": [
    "acc = accuracy_score(y_test, y_pred)\n",
    "rec = recall_score(y_test, y_pred)\n",
    "prec = precision_score(y_test, y_pred)\n",
    "f1 = f1_score(y_test, y_pred)\n",
<<<<<<< HEAD
    "fpr, tpr, thresholds = roc_curve(y_test, y_pred)\n",
    "\n",
    "print('accuracy  =', round(acc, 4))\n",
    "print('recall\\t  =',round(rec, 4))\n",
    "print('precision =', round(prec, 4))\n",
    "print('f1 score  =', round(f1, 4))\n",
    "print('AUC\\t  =', round(auc(fpr, tpr),4))"
=======
    "print('accuracy =', round(acc, 4))\n",
    "print('recall =',round(rec, 4))\n",
    "print('precision =', round(prec, 4))\n",
    "print('f1 score =', round(f1, 4))"
   ]
  },
  {
   "cell_type": "markdown",
   "id": "11d2a5f4",
   "metadata": {},
   "source": [
    "By using under-sampling we reduced the accuracy from 98% to 84%, but the accuracy still meets the success criteria. The false potivite rate also increased from 0.9% to 18%, so it doesn't meet our success criteria anymore.\n",
    "\n",
    "By under-sampling we were able to decrease the false negative rate from 42% to 15%. The f1 score also increased from 56% to 84%.\n",
    "\n",
    "This model's metric results are an overall significant improvement over the previous model's metric results."
   ]
  },
  {
   "cell_type": "markdown",
   "id": "ac48c88f",
   "metadata": {},
   "source": [
    "## 3.3 Decision Tree with Stratified Cross-Validation and Under-Sampling"
>>>>>>> 09b3588 (Revert "Merge branch 'Allison-branch'")
   ]
  },
  {
   "cell_type": "code",
<<<<<<< HEAD
   "execution_count": 32,
=======
   "execution_count": 15,
>>>>>>> 09b3588 (Revert "Merge branch 'Allison-branch'")
   "id": "6eb13e48",
   "metadata": {},
   "outputs": [
    {
     "name": "stdout",
     "output_type": "stream",
     "text": [
<<<<<<< HEAD
      "fold: 1 2 3 4 5 6 7 8 9 10 \n",
      "\n",
      "accuracy  = 0.8427 (0.0065)\n",
      "recall\t  = 0.8457 (0.0097)\n",
      "precision = 0.8408 (0.0075)\n",
      "f1 score  = 0.8432 (0.0066)\n",
      "AUC\t  = 0.8427 (0.0065)\n"
=======
      "1\n",
      "2\n",
      "3\n",
      "4\n",
      "5\n"
>>>>>>> 09b3588 (Revert "Merge branch 'Allison-branch'")
     ]
    }
   ],
   "source": [
    "acc_list = []\n",
<<<<<<< HEAD
    "rec_list = []\n",
    "pre_list = []\n",
    "f1_list = []\n",
    "auc_list = []\n",
    "folds = 10\n",
    "i = 1\n",
    "\n",
    "print('fold: ',end='')\n",
    "for train, test in StratifiedKFold(n_splits=folds,random_state=1, shuffle=True).split(X, y):\n",
    "    print(str(i)+' ',end='')\n",
    "    i+=1\n",
    "    x_train_one_fold, x_test_one_fold = X.iloc[train], X.iloc[test]\n",
    "    y_train_one_fold, y_test_one_fold = y.iloc[train], y.iloc[test]\n",
    "    tree = DecisionTreeClassifier(criterion='entropy', min_samples_leaf=3, min_samples_split=2)\n",
    "    tree.fit(x_train_one_fold, y_train_one_fold)\n",
    "    y_pred = tree.predict(x_test_one_fold)\n",
    "    \n",
    "    acc_list.append(accuracy_score(y_test_one_fold, y_pred))\n",
    "    rec_list.append(recall_score(y_test_one_fold, y_pred))\n",
    "    pre_list.append(precision_score(y_test_one_fold, y_pred))\n",
    "    f1_list.append(f1_score(y_test_one_fold, y_pred, pos_label=1))\n",
    "    fpr, tpr, thresholds = roc_curve(y_test_one_fold, y_pred)\n",
    "    auc_list.append(auc(fpr, tpr))\n",
    "    \n",
    "print(\"\\n\\naccuracy  = %.4f (%.4f)\" % (stat.mean(acc_list), stat.stdev(acc_list)))\n",
    "print(\"recall\\t  = %.4f (%.4f)\" % (stat.mean(rec_list), stat.stdev(rec_list)))\n",
    "print(\"precision = %.4f (%.4f)\" % (stat.mean(pre_list), stat.stdev(pre_list)))\n",
    "print(\"f1 score  = %.4f (%.4f)\" % (stat.mean(f1_list), stat.stdev(f1_list)))\n",
    "print(\"AUC\\t  = %.4f (%.4f)\" % (stat.mean(auc_list), stat.stdev(auc_list)))"
=======
    "f1_list = []\n",
    "fpr_list = []\n",
    "fnr_list = []\n",
    "folds = 5\n",
    "i = 1\n",
    "\n",
    "for train, test in StratifiedKFold(n_splits=folds,random_state=1, shuffle=True).split(X, y):\n",
    "    print(i)\n",
    "    i+=1\n",
    "    \n",
    "    x_train_one_fold, x_test_one_fold = X.iloc[train], X.iloc[test]\n",
    "    y_train_one_fold, y_test_one_fold = y.iloc[train], y.iloc[test]\n",
    "    tree = DecisionTreeClassifier(criterion='entropy')\n",
    "    tree.fit(x_train_one_fold, y_train_one_fold)\n",
    "    \n",
    "    y_pred = tree.predict(x_test_one_fold)\n",
    "    cm = confusion_matrix(y_test_one_fold, y_pred)\n",
    "    fp = cm[0][1]\n",
    "    tn = cm[0][0]\n",
    "    fn = cm[1][0]\n",
    "    tp = cm[1][1]\n",
    "    fpr = fp/(fp+tn)\n",
    "    fnr = fn/(fn+tp)\n",
    "    \n",
    "    acc_list.append(accuracy_score(y_test_one_fold, y_pred))\n",
    "    f1_list.append(f1_score(y_test_one_fold, y_pred, pos_label=1))\n",
    "    fpr_list.append(fpr)\n",
    "    fnr_list.append(fnr)"
   ]
  },
  {
   "cell_type": "code",
   "execution_count": 16,
   "id": "85fc2e9d",
   "metadata": {},
   "outputs": [
    {
     "name": "stdout",
     "output_type": "stream",
     "text": [
      "acc = 0.8406 (0.0046)\n",
      "f1  = 0.8417 (0.0054)\n",
      "fpr = 0.1666 (0.0035)\n",
      "fnr = 0.1522 (0.0099)\n"
     ]
    }
   ],
   "source": [
    "import statistics as stat\n",
    "\n",
    "acc_mean = stat.mean(acc_list)\n",
    "acc_std = stat.stdev(acc_list)\n",
    "\n",
    "f1_mean = stat.mean(f1_list)\n",
    "f1_std = stat.stdev(f1_list)\n",
    "\n",
    "fpr_mean = stat.mean(fpr_list)\n",
    "fpr_std = stat.stdev(fpr_list)\n",
    "\n",
    "fnr_mean = stat.mean(fnr_list)\n",
    "fnr_std = stat.stdev(fnr_list)\n",
    "\n",
    "print(\"acc = %.4f (%.4f)\" % (acc_mean, acc_std))\n",
    "print(\"f1  = %.4f (%.4f)\" % (f1_mean, f1_std))\n",
    "print(\"fpr = %.4f (%.4f)\" % (fpr_mean, fpr_std))\n",
    "print(\"fnr = %.4f (%.4f)\" % (fnr_mean, fnr_std))"
>>>>>>> 09b3588 (Revert "Merge branch 'Allison-branch'")
   ]
  },
  {
   "cell_type": "markdown",
   "id": "2ada63fc",
   "metadata": {},
   "source": [
<<<<<<< HEAD
    "By using under-sampling we reduced the accuracy from about 98% to 84%, but the accuracy still meets the success criteria. We were able to increase the f1 score from about 60% to 84%. This model's metric results are an overall improvement over the previous Decision Tree's metric results."
=======
    "Since the standard deviation for all the metrics of all the folds are all relatively low, the metrics for each fold are close to the mean metrics. "
>>>>>>> 09b3588 (Revert "Merge branch 'Allison-branch'")
   ]
  }
 ],
 "metadata": {
  "kernelspec": {
   "display_name": "Python 3.10 (tensorflow)",
   "language": "python",
   "name": "tensorflow"
  },
  "language_info": {
   "codemirror_mode": {
    "name": "ipython",
    "version": 3
   },
   "file_extension": ".py",
   "mimetype": "text/x-python",
   "name": "python",
   "nbconvert_exporter": "python",
   "pygments_lexer": "ipython3",
   "version": "3.10.6"
  }
 },
 "nbformat": 4,
 "nbformat_minor": 5
}
