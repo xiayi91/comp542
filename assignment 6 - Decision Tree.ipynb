{
 "cells": [
  {
   "cell_type": "markdown",
   "id": "655803c3",
   "metadata": {},
   "source": [
    "# 1 Load Libraries"
   ]
  },
  {
   "cell_type": "code",
   "execution_count": 1,
   "id": "fbf358c8",
   "metadata": {},
   "outputs": [],
   "source": [
    "import numpy as np\n",
    "import pandas as pd\n",
    "import matplotlib.pylab as plt\n",
    "import sklearn\n",
    "from sklearn.tree import DecisionTreeClassifier\n",
    "from sklearn.model_selection import train_test_split\n",
    "from sklearn.metrics import confusion_matrix, ConfusionMatrixDisplay\n",
    "from sklearn.metrics import f1_score, accuracy_score, recall_score, precision_score\n",
    "from sklearn.utils import resample\n",
    "from sklearn.model_selection import StratifiedKFold\n",
    "from sklearn.preprocessing import StandardScaler"
   ]
  },
  {
   "cell_type": "markdown",
   "id": "28d5f00a",
   "metadata": {},
   "source": [
    "# 2 Data preparation"
   ]
  },
  {
   "cell_type": "code",
   "execution_count": 2,
   "id": "caf4c425",
   "metadata": {},
   "outputs": [
    {
     "name": "stdout",
     "output_type": "stream",
     "text": [
      "data shape: (1097231, 289)\n",
      "number of columns with null values: 44\n"
     ]
    }
   ],
   "source": [
    "train = pd.read_csv('data/train_after_missing_value_without_dropping_rows.csv')\n",
    "test = pd.read_csv('data/test_after_missing_value_without_dropping_rows.csv')\n",
    "\n",
    "#concatinate train and test to later control train-test split\n",
    "data = pd.concat([train,test])\n",
    "print(\"data shape:\", data.shape)\n",
    "print(\"number of columns with null values:\", data.isnull().any().sum())"
   ]
  },
  {
   "cell_type": "code",
   "execution_count": 3,
   "id": "eb996e12",
   "metadata": {
    "scrolled": true
   },
   "outputs": [
    {
     "name": "stdout",
     "output_type": "stream",
     "text": [
      "new shape of data: (1097231, 245)\n"
     ]
    }
   ],
   "source": [
    "#drop columns with null values\n",
    "data = data.dropna(axis=1)\n",
    "print(\"new shape of data:\", data.shape)"
   ]
  },
  {
   "cell_type": "code",
   "execution_count": 4,
   "id": "75de6e00",
   "metadata": {
    "scrolled": true
   },
   "outputs": [],
   "source": [
    "#separate class column from other features\n",
    "X = data.drop('isFraud', axis = 1)\n",
    "X = pd.get_dummies(X) #one-hot encoding on categorical features\n",
    "y = data['isFraud']"
   ]
  },
  {
   "cell_type": "markdown",
   "id": "97aaee9f",
   "metadata": {},
   "source": [
    "# 3 Decision Tree\n",
    "## 3.1 Decision Tree with unbalanced data"
   ]
  },
  {
   "cell_type": "code",
   "execution_count": 5,
   "id": "969b4060",
   "metadata": {},
   "outputs": [
    {
     "name": "stdout",
     "output_type": "stream",
     "text": [
      "(768061, 244)\n",
      "(329170, 244)\n",
      "(768061,)\n",
      "(329170,)\n"
     ]
    }
   ],
   "source": [
    "#split test and train\n",
    "X_train, X_test, y_train, y_test = train_test_split(X, y, test_size = 0.3)\n",
    "print(X_train.shape)\n",
    "print(X_test.shape)\n",
    "print(y_train.shape)\n",
    "print(y_test.shape)"
   ]
  },
  {
   "cell_type": "code",
   "execution_count": 6,
   "id": "4ddef9d7",
   "metadata": {},
   "outputs": [
    {
     "data": {
      "text/plain": [
       "<sklearn.metrics._plot.confusion_matrix.ConfusionMatrixDisplay at 0x1b218e948b0>"
      ]
     },
     "execution_count": 6,
     "metadata": {},
     "output_type": "execute_result"
    },
    {
     "data": {
      "image/png": "[encoded data removed]",
      "text/plain": [
       "<Figure size 640x480 with 2 Axes>"
      ]
     },
     "metadata": {},
     "output_type": "display_data"
    }
   ],
   "source": [
    "tree = DecisionTreeClassifier(criterion='entropy')\n",
    "tree.fit(X_train, y_train)\n",
    "y_pred = tree.predict(X_test)\n",
    "\n",
    "cm = confusion_matrix(y_test, y_pred)\n",
    "CM = ConfusionMatrixDisplay(cm)\n",
    "CM.plot()"
   ]
  },
  {
   "cell_type": "markdown",
   "id": "f113a2bc",
   "metadata": {},
   "source": [
    "Here we calculate the false positive rate and the false negative rate. The first says how likey a transaction will be predicted to be fraud, when in truth the transaction is not fraud. The second says how likey a transaction will be predicted to not be fraud, when in truth the transaction is fraud. It is important to keep false negative rate low. "
   ]
  },
  {
   "cell_type": "code",
   "execution_count": 7,
   "id": "d29671cc",
   "metadata": {},
   "outputs": [
    {
     "name": "stdout",
     "output_type": "stream",
     "text": [
      "false positive rate = 0.0093\n",
      "false negative rate = 0.4192\n"
     ]
    }
   ],
   "source": [
    "fp = cm[0][1]\n",
    "tn = cm[0][0]\n",
    "fpr = fp/(fp+tn)\n",
    "print('false positive rate =', round(fpr, 4))\n",
    "\n",
    "fn = cm[1][0]\n",
    "tp = cm[1][1]\n",
    "fnr = fn/(fn+tp)\n",
    "print('false negative rate =', round(fnr, 4))"
   ]
  },
  {
   "cell_type": "code",
   "execution_count": 8,
   "id": "80a52561",
   "metadata": {},
   "outputs": [
    {
     "name": "stdout",
     "output_type": "stream",
     "text": [
      "accuracy = 0.983\n",
      "recall = 0.5808\n",
      "precision = 0.5429\n",
      "f1 score = 0.5612\n"
     ]
    }
   ],
   "source": [
    "acc = accuracy_score(y_test, y_pred)\n",
    "rec = recall_score(y_test, y_pred)\n",
    "prec = precision_score(y_test, y_pred)\n",
    "f1 = f1_score(y_test, y_pred)\n",
    "print('accuracy =', round(acc, 4))\n",
    "print('recall =',round(rec, 4))\n",
    "print('precision =', round(prec, 4))\n",
    "print('f1 score =', round(f1, 4))"
   ]
  },
  {
   "cell_type": "markdown",
   "id": "f236eb47",
   "metadata": {},
   "source": [
    "This model meets the success criteria of an accuracy rate of at least 80% and false positive rate of at most 5%. But because the data that was used to train this model is so unbalanced, we look to the f1 score. But this score is less than 80%. This means this model fails the success criteria.\n",
    "\n",
    "It is also important to note that the while the false positive rate is 0.9%, the false negative rate is about 42%. "
   ]
  },
  {
   "cell_type": "markdown",
   "id": "c2a3ba9e",
   "metadata": {},
   "source": [
    "## 3.2 Decision Tree with Under-Samping"
   ]
  },
  {
   "cell_type": "markdown",
   "id": "d1f34bee",
   "metadata": {},
   "source": [
    "To manage the unbalanced data, we will use the under-sampling technique to balance the data. Under-sampling randomly takes data points from the majority class to match the number of data points in the minority class. Under-sampling can get rid of important data points, but it may also improve the false negative rate and the f1 score. "
   ]
  },
  {
   "cell_type": "code",
   "execution_count": 9,
   "id": "976d67c5",
   "metadata": {},
   "outputs": [
    {
     "name": "stdout",
     "output_type": "stream",
     "text": [
      "class 0: (1076568, 245)\n",
      "class 1: (20663, 245)\n"
     ]
    }
   ],
   "source": [
    "#split data by class\n",
    "class0 = data[data['isFraud'] == 0]\n",
    "class1 = data[data['isFraud'] == 1]\n",
    "print('class 0:', class0.shape)\n",
    "print('class 1:', class1.shape)"
   ]
  },
  {
   "cell_type": "code",
   "execution_count": 10,
   "id": "d31ce8ab",
   "metadata": {},
   "outputs": [
    {
     "name": "stdout",
     "output_type": "stream",
     "text": [
      "new class 0: (20663, 245)\n",
      "new class 1: (20663, 245)\n"
     ]
    }
   ],
   "source": [
    "#under-sample the majority class so it is balanced with the minority class\n",
    "under_class0 = resample(class0, replace=False, n_samples=class1.shape[0], random_state=42)\n",
    "print('new class 0:', under_class0.shape)\n",
    "print('new class 1:', class1.shape)\n",
    "under_data = pd.concat([under_class0, class1])"
   ]
  },
  {
   "cell_type": "code",
   "execution_count": 11,
   "id": "c69c16b1",
   "metadata": {},
   "outputs": [
    {
     "name": "stdout",
     "output_type": "stream",
     "text": [
      "(33060, 244)\n",
      "(8266, 244)\n",
      "(33060,)\n",
      "(8266,)\n"
     ]
    }
   ],
   "source": [
    "X = under_data.drop('isFraud', axis = 1)\n",
    "X = pd.get_dummies(X)\n",
    "y = under_data['isFraud']\n",
    "\n",
    "X_train, X_test, y_train, y_test = train_test_split(X, y, test_size = 0.2)\n",
    "print(X_train.shape)\n",
    "print(X_test.shape)\n",
    "print(y_train.shape)\n",
    "print(y_test.shape)"
   ]
  },
  {
   "cell_type": "code",
   "execution_count": 12,
   "id": "07b092be",
   "metadata": {},
   "outputs": [
    {
     "data": {
      "text/plain": [
       "<sklearn.metrics._plot.confusion_matrix.ConfusionMatrixDisplay at 0x1b218e954b0>"
      ]
     },
     "execution_count": 12,
     "metadata": {},
     "output_type": "execute_result"
    },
    {
     "data": {
      "image/png": "[encoded data removed]",
      "text/plain": [
       "<Figure size 640x480 with 2 Axes>"
      ]
     },
     "metadata": {},
     "output_type": "display_data"
    }
   ],
   "source": [
    "tree = DecisionTreeClassifier(criterion='entropy')\n",
    "tree.fit(X_train, y_train)\n",
    "y_pred = tree.predict(X_test)\n",
    "\n",
    "cm = confusion_matrix(y_test, y_pred)\n",
    "CM = ConfusionMatrixDisplay(cm)\n",
    "CM.plot()"
   ]
  },
  {
   "cell_type": "code",
   "execution_count": 13,
   "id": "0d06a8f8",
   "metadata": {},
   "outputs": [
    {
     "name": "stdout",
     "output_type": "stream",
     "text": [
      "false positive rate = 0.1789\n",
      "false negative rate = 0.1468\n"
     ]
    }
   ],
   "source": [
    "fp = cm[0][1]\n",
    "tn = cm[0][0]\n",
    "fpr = fp/(fp+tn)\n",
    "print('false positive rate =', round(fpr, 4))\n",
    "\n",
    "fn = cm[1][0]\n",
    "tp = cm[1][1]\n",
    "fnr = fn/(fn+tp)\n",
    "print('false negative rate =', round(fnr, 4))"
   ]
  },
  {
   "cell_type": "code",
   "execution_count": 14,
   "id": "7bdf6150",
   "metadata": {},
   "outputs": [
    {
     "name": "stdout",
     "output_type": "stream",
     "text": [
      "accuracy = 0.8373\n",
      "recall = 0.8532\n",
      "precision = 0.8291\n",
      "f1 score = 0.841\n"
     ]
    }
   ],
   "source": [
    "acc = accuracy_score(y_test, y_pred)\n",
    "rec = recall_score(y_test, y_pred)\n",
    "prec = precision_score(y_test, y_pred)\n",
    "f1 = f1_score(y_test, y_pred)\n",
    "print('accuracy =', round(acc, 4))\n",
    "print('recall =',round(rec, 4))\n",
    "print('precision =', round(prec, 4))\n",
    "print('f1 score =', round(f1, 4))"
   ]
  },
  {
   "cell_type": "markdown",
   "id": "11d2a5f4",
   "metadata": {},
   "source": [
    "By using under-sampling we reduced the accuracy from 98% to 84%, but the accuracy still meets the success criteria. The false potivite rate also increased from 0.9% to 18%, so it doesn't meet our success criteria anymore.\n",
    "\n",
    "By under-sampling we were able to decrease the false negative rate from 42% to 15%. The f1 score also increased from 56% to 84%.\n",
    "\n",
    "This model's metric results are an overall significant improvement over the previous model's metric results."
   ]
  },
  {
   "cell_type": "markdown",
   "id": "ac48c88f",
   "metadata": {},
   "source": [
    "## 3.3 Decision Tree with Stratified Cross-Validation and Under-Sampling"
   ]
  },
  {
   "cell_type": "code",
   "execution_count": 15,
   "id": "6eb13e48",
   "metadata": {},
   "outputs": [
    {
     "name": "stdout",
     "output_type": "stream",
     "text": [
      "1\n",
      "2\n",
      "3\n",
      "4\n",
      "5\n"
     ]
    }
   ],
   "source": [
    "acc_list = []\n",
    "f1_list = []\n",
    "fpr_list = []\n",
    "fnr_list = []\n",
    "folds = 5\n",
    "i = 1\n",
    "\n",
    "for train, test in StratifiedKFold(n_splits=folds,random_state=1, shuffle=True).split(X, y):\n",
    "    print(i)\n",
    "    i+=1\n",
    "    \n",
    "    x_train_one_fold, x_test_one_fold = X.iloc[train], X.iloc[test]\n",
    "    y_train_one_fold, y_test_one_fold = y.iloc[train], y.iloc[test]\n",
    "    tree = DecisionTreeClassifier(criterion='entropy')\n",
    "    tree.fit(x_train_one_fold, y_train_one_fold)\n",
    "    \n",
    "    y_pred = tree.predict(x_test_one_fold)\n",
    "    cm = confusion_matrix(y_test_one_fold, y_pred)\n",
    "    fp = cm[0][1]\n",
    "    tn = cm[0][0]\n",
    "    fn = cm[1][0]\n",
    "    tp = cm[1][1]\n",
    "    fpr = fp/(fp+tn)\n",
    "    fnr = fn/(fn+tp)\n",
    "    \n",
    "    acc_list.append(accuracy_score(y_test_one_fold, y_pred))\n",
    "    f1_list.append(f1_score(y_test_one_fold, y_pred, pos_label=1))\n",
    "    fpr_list.append(fpr)\n",
    "    fnr_list.append(fnr)"
   ]
  },
  {
   "cell_type": "code",
   "execution_count": 16,
   "id": "85fc2e9d",
   "metadata": {},
   "outputs": [
    {
     "name": "stdout",
     "output_type": "stream",
     "text": [
      "acc = 0.8406 (0.0046)\n",
      "f1  = 0.8417 (0.0054)\n",
      "fpr = 0.1666 (0.0035)\n",
      "fnr = 0.1522 (0.0099)\n"
     ]
    }
   ],
   "source": [
    "import statistics as stat\n",
    "\n",
    "acc_mean = stat.mean(acc_list)\n",
    "acc_std = stat.stdev(acc_list)\n",
    "\n",
    "f1_mean = stat.mean(f1_list)\n",
    "f1_std = stat.stdev(f1_list)\n",
    "\n",
    "fpr_mean = stat.mean(fpr_list)\n",
    "fpr_std = stat.stdev(fpr_list)\n",
    "\n",
    "fnr_mean = stat.mean(fnr_list)\n",
    "fnr_std = stat.stdev(fnr_list)\n",
    "\n",
    "print(\"acc = %.4f (%.4f)\" % (acc_mean, acc_std))\n",
    "print(\"f1  = %.4f (%.4f)\" % (f1_mean, f1_std))\n",
    "print(\"fpr = %.4f (%.4f)\" % (fpr_mean, fpr_std))\n",
    "print(\"fnr = %.4f (%.4f)\" % (fnr_mean, fnr_std))"
   ]
  },
  {
   "cell_type": "markdown",
   "id": "2ada63fc",
   "metadata": {},
   "source": [
    "Since the standard deviation for all the metrics of all the folds are all relatively low, the metrics for each fold are close to the mean metrics. "
   ]
  }
 ],
 "metadata": {
  "kernelspec": {
   "display_name": "Python 3.10 (tensorflow)",
   "language": "python",
   "name": "tensorflow"
  },
  "language_info": {
   "codemirror_mode": {
    "name": "ipython",
    "version": 3
   },
   "file_extension": ".py",
   "mimetype": "text/x-python",
   "name": "python",
   "nbconvert_exporter": "python",
   "pygments_lexer": "ipython3",
   "version": "3.10.6"
  }
 },
 "nbformat": 4,
 "nbformat_minor": 5
}
