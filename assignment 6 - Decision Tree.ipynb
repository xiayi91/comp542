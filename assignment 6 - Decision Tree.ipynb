{
 "cells": [
  {
   "cell_type": "markdown",
   "id": "655803c3",
   "metadata": {},
   "source": [
    "# 1 Load Libraries"
   ]
  },
  {
   "cell_type": "code",
   "execution_count": 1,
   "id": "fbf358c8",
   "metadata": {},
   "outputs": [],
   "source": [
    "import numpy as np\n",
    "import pandas as pd\n",
    "import matplotlib.pylab as plt\n",
    "import sklearn\n",
    "from sklearn.tree import DecisionTreeClassifier\n",
    "from sklearn.model_selection import train_test_split, GridSearchCV\n",
    "from sklearn.metrics import confusion_matrix, ConfusionMatrixDisplay\n",
    "from sklearn.metrics import f1_score, accuracy_score, recall_score, precision_score\n",
    "from sklearn.metrics import roc_curve, auc\n",
    "from sklearn.utils import resample\n",
    "from sklearn.model_selection import StratifiedKFold\n",
    "import statistics as stat"
   ]
  },
  {
   "cell_type": "markdown",
   "id": "28d5f00a",
   "metadata": {},
   "source": [
    "# 2 Data preparation"
   ]
  },
  {
   "cell_type": "code",
   "execution_count": 2,
   "id": "caf4c425",
   "metadata": {},
   "outputs": [
    {
     "name": "stdout",
     "output_type": "stream",
     "text": [
      "data shape: (1097231, 289)\n",
      "number of columns with null values: 44\n"
     ]
    }
   ],
   "source": [
    "train = pd.read_csv('data/train_after_missing_value_without_dropping_rows.csv')\n",
    "test = pd.read_csv('data/test_after_missing_value_without_dropping_rows.csv')\n",
    "\n",
    "#concatinate train and test to later control train-test split\n",
    "data = pd.concat([train,test])\n",
    "print(\"data shape:\", data.shape)\n",
    "print(\"number of columns with null values:\", data.isnull().any().sum())"
   ]
  },
  {
   "cell_type": "code",
   "execution_count": 3,
   "id": "eb996e12",
   "metadata": {
    "scrolled": true
   },
   "outputs": [
    {
     "name": "stdout",
     "output_type": "stream",
     "text": [
      "new shape of data: (1097231, 245)\n"
     ]
    }
   ],
   "source": [
    "#drop columns with null values\n",
    "data = data.dropna(axis=1)\n",
    "print(\"new shape of data:\", data.shape)"
   ]
  },
  {
   "cell_type": "code",
   "execution_count": 4,
   "id": "75de6e00",
   "metadata": {
    "scrolled": true
   },
   "outputs": [],
   "source": [
    "#separate class column from other features\n",
    "X = data.drop('isFraud', axis = 1)\n",
    "X = pd.get_dummies(X) #one-hot encoding on categorical features\n",
    "y = data['isFraud']"
   ]
  },
  {
   "cell_type": "markdown",
   "id": "97aaee9f",
   "metadata": {},
   "source": [
    "# 3 Decision Tree\n",
    "## 3.1 Decision Tree with imbalanced data"
   ]
  },
  {
   "cell_type": "code",
   "execution_count": 5,
   "id": "969b4060",
   "metadata": {},
   "outputs": [
    {
     "name": "stdout",
     "output_type": "stream",
     "text": [
      "(768061, 244)\n",
      "(329170, 244)\n",
      "(768061,)\n",
      "(329170,)\n"
     ]
    }
   ],
   "source": [
    "#split test and train\n",
    "X_train, X_test, y_train, y_test = train_test_split(X, y, test_size = 0.3, random_state=42)\n",
    "print(X_train.shape)\n",
    "print(X_test.shape)\n",
    "print(y_train.shape)\n",
    "print(y_test.shape)"
   ]
  },
  {
   "cell_type": "code",
   "execution_count": 8,
   "id": "22d11085",
   "metadata": {
    "scrolled": true
   },
   "outputs": [
    {
     "name": "stdout",
     "output_type": "stream",
     "text": [
      "Fitting 3 folds for each of 18 candidates, totalling 54 fits\n",
      "[CV] END criterion=entropy, min_samples_leaf=1, min_samples_split=2; total time=  25.6s\n",
      "[CV] END criterion=entropy, min_samples_leaf=1, min_samples_split=2; total time=  26.6s\n",
      "[CV] END criterion=entropy, min_samples_leaf=1, min_samples_split=2; total time=  25.1s\n",
      "[CV] END criterion=entropy, min_samples_leaf=1, min_samples_split=3; total time=  25.6s\n",
      "[CV] END criterion=entropy, min_samples_leaf=1, min_samples_split=3; total time=  26.0s\n",
      "[CV] END criterion=entropy, min_samples_leaf=1, min_samples_split=3; total time=  25.3s\n",
      "[CV] END criterion=entropy, min_samples_leaf=1, min_samples_split=4; total time=  25.3s\n",
      "[CV] END criterion=entropy, min_samples_leaf=1, min_samples_split=4; total time=  25.4s\n",
      "[CV] END criterion=entropy, min_samples_leaf=1, min_samples_split=4; total time=  25.1s\n",
      "[CV] END criterion=entropy, min_samples_leaf=2, min_samples_split=2; total time=  24.9s\n",
      "[CV] END criterion=entropy, min_samples_leaf=2, min_samples_split=2; total time=  26.1s\n",
      "[CV] END criterion=entropy, min_samples_leaf=2, min_samples_split=2; total time=  24.5s\n",
      "[CV] END criterion=entropy, min_samples_leaf=2, min_samples_split=3; total time=  24.5s\n",
      "[CV] END criterion=entropy, min_samples_leaf=2, min_samples_split=3; total time=  25.0s\n",
      "[CV] END criterion=entropy, min_samples_leaf=2, min_samples_split=3; total time=  24.4s\n",
      "[CV] END criterion=entropy, min_samples_leaf=2, min_samples_split=4; total time=  25.2s\n",
      "[CV] END criterion=entropy, min_samples_leaf=2, min_samples_split=4; total time=  25.8s\n",
      "[CV] END criterion=entropy, min_samples_leaf=2, min_samples_split=4; total time=  24.6s\n",
      "[CV] END criterion=entropy, min_samples_leaf=3, min_samples_split=2; total time=  24.9s\n",
      "[CV] END criterion=entropy, min_samples_leaf=3, min_samples_split=2; total time=  25.2s\n",
      "[CV] END criterion=entropy, min_samples_leaf=3, min_samples_split=2; total time=  24.4s\n",
      "[CV] END criterion=entropy, min_samples_leaf=3, min_samples_split=3; total time=  24.6s\n",
      "[CV] END criterion=entropy, min_samples_leaf=3, min_samples_split=3; total time=  25.4s\n",
      "[CV] END criterion=entropy, min_samples_leaf=3, min_samples_split=3; total time=  24.1s\n",
      "[CV] END criterion=entropy, min_samples_leaf=3, min_samples_split=4; total time=  22.4s\n",
      "[CV] END criterion=entropy, min_samples_leaf=3, min_samples_split=4; total time=  25.6s\n",
      "[CV] END criterion=entropy, min_samples_leaf=3, min_samples_split=4; total time=  24.7s\n",
      "[CV] END criterion=gini, min_samples_leaf=1, min_samples_split=2; total time=  41.3s\n",
      "[CV] END criterion=gini, min_samples_leaf=1, min_samples_split=2; total time=  43.8s\n",
      "[CV] END criterion=gini, min_samples_leaf=1, min_samples_split=2; total time=  45.3s\n",
      "[CV] END criterion=gini, min_samples_leaf=1, min_samples_split=3; total time=  41.6s\n",
      "[CV] END criterion=gini, min_samples_leaf=1, min_samples_split=3; total time=  43.2s\n",
      "[CV] END criterion=gini, min_samples_leaf=1, min_samples_split=3; total time=  44.0s\n",
      "[CV] END criterion=gini, min_samples_leaf=1, min_samples_split=4; total time=  41.6s\n",
      "[CV] END criterion=gini, min_samples_leaf=1, min_samples_split=4; total time=  43.6s\n",
      "[CV] END criterion=gini, min_samples_leaf=1, min_samples_split=4; total time=  45.8s\n",
      "[CV] END criterion=gini, min_samples_leaf=2, min_samples_split=2; total time=  41.1s\n",
      "[CV] END criterion=gini, min_samples_leaf=2, min_samples_split=2; total time=  42.9s\n",
      "[CV] END criterion=gini, min_samples_leaf=2, min_samples_split=2; total time=  44.3s\n",
      "[CV] END criterion=gini, min_samples_leaf=2, min_samples_split=3; total time=  40.6s\n",
      "[CV] END criterion=gini, min_samples_leaf=2, min_samples_split=3; total time=  42.8s\n",
      "[CV] END criterion=gini, min_samples_leaf=2, min_samples_split=3; total time=  43.5s\n",
      "[CV] END criterion=gini, min_samples_leaf=2, min_samples_split=4; total time=  41.0s\n",
      "[CV] END criterion=gini, min_samples_leaf=2, min_samples_split=4; total time=  42.7s\n",
      "[CV] END criterion=gini, min_samples_leaf=2, min_samples_split=4; total time=  44.5s\n",
      "[CV] END criterion=gini, min_samples_leaf=3, min_samples_split=2; total time=  41.3s\n",
      "[CV] END criterion=gini, min_samples_leaf=3, min_samples_split=2; total time=  42.0s\n",
      "[CV] END criterion=gini, min_samples_leaf=3, min_samples_split=2; total time=  42.9s\n",
      "[CV] END criterion=gini, min_samples_leaf=3, min_samples_split=3; total time=  40.6s\n",
      "[CV] END criterion=gini, min_samples_leaf=3, min_samples_split=3; total time=  41.2s\n",
      "[CV] END criterion=gini, min_samples_leaf=3, min_samples_split=3; total time=  43.5s\n",
      "[CV] END criterion=gini, min_samples_leaf=3, min_samples_split=4; total time=  40.1s\n",
      "[CV] END criterion=gini, min_samples_leaf=3, min_samples_split=4; total time=  42.6s\n",
      "[CV] END criterion=gini, min_samples_leaf=3, min_samples_split=4; total time=  44.5s\n"
     ]
    },
    {
     "data": {
      "text/html": [
       "<style>#sk-container-id-1 {color: black;background-color: white;}#sk-container-id-1 pre{padding: 0;}#sk-container-id-1 div.sk-toggleable {background-color: white;}#sk-container-id-1 label.sk-toggleable__label {cursor: pointer;display: block;width: 100%;margin-bottom: 0;padding: 0.3em;box-sizing: border-box;text-align: center;}#sk-container-id-1 label.sk-toggleable__label-arrow:before {content: \"▸\";float: left;margin-right: 0.25em;color: #696969;}#sk-container-id-1 label.sk-toggleable__label-arrow:hover:before {color: black;}#sk-container-id-1 div.sk-estimator:hover label.sk-toggleable__label-arrow:before {color: black;}#sk-container-id-1 div.sk-toggleable__content {max-height: 0;max-width: 0;overflow: hidden;text-align: left;background-color: #f0f8ff;}#sk-container-id-1 div.sk-toggleable__content pre {margin: 0.2em;color: black;border-radius: 0.25em;background-color: #f0f8ff;}#sk-container-id-1 input.sk-toggleable__control:checked~div.sk-toggleable__content {max-height: 200px;max-width: 100%;overflow: auto;}#sk-container-id-1 input.sk-toggleable__control:checked~label.sk-toggleable__label-arrow:before {content: \"▾\";}#sk-container-id-1 div.sk-estimator input.sk-toggleable__control:checked~label.sk-toggleable__label {background-color: #d4ebff;}#sk-container-id-1 div.sk-label input.sk-toggleable__control:checked~label.sk-toggleable__label {background-color: #d4ebff;}#sk-container-id-1 input.sk-hidden--visually {border: 0;clip: rect(1px 1px 1px 1px);clip: rect(1px, 1px, 1px, 1px);height: 1px;margin: -1px;overflow: hidden;padding: 0;position: absolute;width: 1px;}#sk-container-id-1 div.sk-estimator {font-family: monospace;background-color: #f0f8ff;border: 1px dotted black;border-radius: 0.25em;box-sizing: border-box;margin-bottom: 0.5em;}#sk-container-id-1 div.sk-estimator:hover {background-color: #d4ebff;}#sk-container-id-1 div.sk-parallel-item::after {content: \"\";width: 100%;border-bottom: 1px solid gray;flex-grow: 1;}#sk-container-id-1 div.sk-label:hover label.sk-toggleable__label {background-color: #d4ebff;}#sk-container-id-1 div.sk-serial::before {content: \"\";position: absolute;border-left: 1px solid gray;box-sizing: border-box;top: 0;bottom: 0;left: 50%;z-index: 0;}#sk-container-id-1 div.sk-serial {display: flex;flex-direction: column;align-items: center;background-color: white;padding-right: 0.2em;padding-left: 0.2em;position: relative;}#sk-container-id-1 div.sk-item {position: relative;z-index: 1;}#sk-container-id-1 div.sk-parallel {display: flex;align-items: stretch;justify-content: center;background-color: white;position: relative;}#sk-container-id-1 div.sk-item::before, #sk-container-id-1 div.sk-parallel-item::before {content: \"\";position: absolute;border-left: 1px solid gray;box-sizing: border-box;top: 0;bottom: 0;left: 50%;z-index: -1;}#sk-container-id-1 div.sk-parallel-item {display: flex;flex-direction: column;z-index: 1;position: relative;background-color: white;}#sk-container-id-1 div.sk-parallel-item:first-child::after {align-self: flex-end;width: 50%;}#sk-container-id-1 div.sk-parallel-item:last-child::after {align-self: flex-start;width: 50%;}#sk-container-id-1 div.sk-parallel-item:only-child::after {width: 0;}#sk-container-id-1 div.sk-dashed-wrapped {border: 1px dashed gray;margin: 0 0.4em 0.5em 0.4em;box-sizing: border-box;padding-bottom: 0.4em;background-color: white;}#sk-container-id-1 div.sk-label label {font-family: monospace;font-weight: bold;display: inline-block;line-height: 1.2em;}#sk-container-id-1 div.sk-label-container {text-align: center;}#sk-container-id-1 div.sk-container {/* jupyter's `normalize.less` sets `[hidden] { display: none; }` but bootstrap.min.css set `[hidden] { display: none !important; }` so we also need the `!important` here to be able to override the default hidden behavior on the sphinx rendered scikit-learn.org. See: https://github.com/scikit-learn/scikit-learn/issues/21755 */display: inline-block !important;position: relative;}#sk-container-id-1 div.sk-text-repr-fallback {display: none;}</style><div id=\"sk-container-id-1\" class=\"sk-top-container\"><div class=\"sk-text-repr-fallback\"><pre>GridSearchCV(cv=3, estimator=DecisionTreeClassifier(),\n",
       "             param_grid={&#x27;criterion&#x27;: [&#x27;entropy&#x27;, &#x27;gini&#x27;],\n",
       "                         &#x27;min_samples_leaf&#x27;: [1, 2, 3],\n",
       "                         &#x27;min_samples_split&#x27;: [2, 3, 4]},\n",
       "             scoring=&#x27;f1&#x27;, verbose=2)</pre><b>In a Jupyter environment, please rerun this cell to show the HTML representation or trust the notebook. <br />On GitHub, the HTML representation is unable to render, please try loading this page with nbviewer.org.</b></div><div class=\"sk-container\" hidden><div class=\"sk-item sk-dashed-wrapped\"><div class=\"sk-label-container\"><div class=\"sk-label sk-toggleable\"><input class=\"sk-toggleable__control sk-hidden--visually\" id=\"sk-estimator-id-1\" type=\"checkbox\" ><label for=\"sk-estimator-id-1\" class=\"sk-toggleable__label sk-toggleable__label-arrow\">GridSearchCV</label><div class=\"sk-toggleable__content\"><pre>GridSearchCV(cv=3, estimator=DecisionTreeClassifier(),\n",
       "             param_grid={&#x27;criterion&#x27;: [&#x27;entropy&#x27;, &#x27;gini&#x27;],\n",
       "                         &#x27;min_samples_leaf&#x27;: [1, 2, 3],\n",
       "                         &#x27;min_samples_split&#x27;: [2, 3, 4]},\n",
       "             scoring=&#x27;f1&#x27;, verbose=2)</pre></div></div></div><div class=\"sk-parallel\"><div class=\"sk-parallel-item\"><div class=\"sk-item\"><div class=\"sk-label-container\"><div class=\"sk-label sk-toggleable\"><input class=\"sk-toggleable__control sk-hidden--visually\" id=\"sk-estimator-id-2\" type=\"checkbox\" ><label for=\"sk-estimator-id-2\" class=\"sk-toggleable__label sk-toggleable__label-arrow\">estimator: DecisionTreeClassifier</label><div class=\"sk-toggleable__content\"><pre>DecisionTreeClassifier()</pre></div></div></div><div class=\"sk-serial\"><div class=\"sk-item\"><div class=\"sk-estimator sk-toggleable\"><input class=\"sk-toggleable__control sk-hidden--visually\" id=\"sk-estimator-id-3\" type=\"checkbox\" ><label for=\"sk-estimator-id-3\" class=\"sk-toggleable__label sk-toggleable__label-arrow\">DecisionTreeClassifier</label><div class=\"sk-toggleable__content\"><pre>DecisionTreeClassifier()</pre></div></div></div></div></div></div></div></div></div></div>"
      ],
      "text/plain": [
       "GridSearchCV(cv=3, estimator=DecisionTreeClassifier(),\n",
       "             param_grid={'criterion': ['entropy', 'gini'],\n",
       "                         'min_samples_leaf': [1, 2, 3],\n",
       "                         'min_samples_split': [2, 3, 4]},\n",
       "             scoring='f1', verbose=2)"
      ]
     },
     "execution_count": 8,
     "metadata": {},
     "output_type": "execute_result"
    }
   ],
   "source": [
    "param_grid = {\n",
    "    'criterion':['entropy', 'gini'],\n",
    "    'min_samples_split':[2, 3, 4],\n",
    "    'min_samples_leaf':[1, 2, 3]\n",
    "}\n",
    "\n",
    "tree = DecisionTreeClassifier()\n",
    "tree_cv = GridSearchCV(estimator=tree, param_grid=param_grid, scoring='f1', cv=3, verbose=2)\n",
    "tree_cv.fit(X_train, y_train)"
   ]
  },
  {
   "cell_type": "code",
   "execution_count": 9,
   "id": "42c41818",
   "metadata": {
    "scrolled": true
   },
   "outputs": [
    {
     "name": "stdout",
     "output_type": "stream",
     "text": [
      "{'criterion': 'gini', 'min_samples_leaf': 2, 'min_samples_split': 3}\n"
     ]
    }
   ],
   "source": [
    "print(tree_cv.best_params_)"
   ]
  },
  {
   "cell_type": "code",
   "execution_count": 10,
   "id": "5d05c49b",
   "metadata": {
    "scrolled": false
   },
   "outputs": [
    {
     "data": {
      "text/plain": [
       "<sklearn.metrics._plot.confusion_matrix.ConfusionMatrixDisplay at 0x1b356e75090>"
      ]
     },
     "execution_count": 10,
     "metadata": {},
     "output_type": "execute_result"
    },
    {
     "data": {
      "image/png": "[encoded data removed]",
      "text/plain": [
       "<Figure size 640x480 with 2 Axes>"
      ]
     },
     "metadata": {},
     "output_type": "display_data"
    }
   ],
   "source": [
    "y_pred = tree_cv.predict(X_test)\n",
    "\n",
    "cm = confusion_matrix(y_test, y_pred)\n",
    "CM = ConfusionMatrixDisplay(cm)\n",
    "CM.plot()"
   ]
  },
  {
   "cell_type": "code",
   "execution_count": 11,
   "id": "9d3076c7",
   "metadata": {},
   "outputs": [
    {
     "name": "stdout",
     "output_type": "stream",
     "text": [
      "accuracy  = 0.9852\n",
      "recall\t  = 0.5237\n",
      "precision = 0.632\n",
      "f1 score  = 0.5728\n",
      "AUC\t  = 0.7589\n"
     ]
    }
   ],
   "source": [
    "acc = accuracy_score(y_test, y_pred)\n",
    "rec = recall_score(y_test, y_pred)\n",
    "prec = precision_score(y_test, y_pred)\n",
    "f1 = f1_score(y_test, y_pred)\n",
    "fpr, tpr, thresholds = roc_curve(y_test, y_pred)\n",
    "\n",
    "print('accuracy  =', round(acc, 4))\n",
    "print('recall\\t  =',round(rec, 4))\n",
    "print('precision =', round(prec, 4))\n",
    "print('f1 score  =', round(f1, 4))\n",
    "print('AUC\\t  =', round(auc(fpr, tpr),4))"
   ]
  },
  {
   "cell_type": "code",
   "execution_count": 12,
   "id": "24c032f4",
   "metadata": {},
   "outputs": [
    {
     "name": "stdout",
     "output_type": "stream",
     "text": [
      "fold: 1 2 3 4 5 6 7 8 9 10 \n",
      "\n",
      "accuracy  = 0.9862 (0.0003)\n",
      "recall\t  = 0.5501 (0.0107)\n",
      "precision = 0.6610 (0.0134)\n",
      "f1 score  = 0.6004 (0.0088)\n",
      "AUC\t  = 0.7723 (0.0053)\n"
     ]
    }
   ],
   "source": [
    "acc_list = []\n",
    "rec_list = []\n",
    "pre_list = []\n",
    "f1_list = []\n",
    "auc_list = []\n",
    "folds = 10\n",
    "i = 1\n",
    "\n",
    "print('fold: ',end='')\n",
    "for train, test in StratifiedKFold(n_splits=folds,random_state=1, shuffle=True).split(X, y):\n",
    "    print(str(i)+' ',end='')\n",
    "    i+=1\n",
    "    x_train_one_fold, x_test_one_fold = X.iloc[train], X.iloc[test]\n",
    "    y_train_one_fold, y_test_one_fold = y.iloc[train], y.iloc[test]\n",
    "    tree = DecisionTreeClassifier(min_samples_leaf= 2, min_samples_split= 3)\n",
    "    tree.fit(x_train_one_fold, y_train_one_fold)\n",
    "    y_pred = tree.predict(x_test_one_fold)\n",
    "    \n",
    "    acc_list.append(accuracy_score(y_test_one_fold, y_pred))\n",
    "    rec_list.append(recall_score(y_test_one_fold, y_pred))\n",
    "    pre_list.append(precision_score(y_test_one_fold, y_pred))\n",
    "    f1_list.append(f1_score(y_test_one_fold, y_pred, pos_label=1))\n",
    "    fpr, tpr, thresholds = roc_curve(y_test_one_fold, y_pred)\n",
    "    auc_list.append(auc(fpr, tpr))\n",
    "    \n",
    "print(\"\\n\\naccuracy  = %.4f (%.4f)\" % (stat.mean(acc_list), stat.stdev(acc_list)))\n",
    "print(\"recall\\t  = %.4f (%.4f)\" % (stat.mean(rec_list), stat.stdev(rec_list)))\n",
    "print(\"precision = %.4f (%.4f)\" % (stat.mean(pre_list), stat.stdev(pre_list)))\n",
    "print(\"f1 score  = %.4f (%.4f)\" % (stat.mean(f1_list), stat.stdev(f1_list)))\n",
    "print(\"AUC\\t  = %.4f (%.4f)\" % (stat.mean(auc_list), stat.stdev(auc_list)))"
   ]
  },
  {
   "cell_type": "markdown",
   "id": "f236eb47",
   "metadata": {},
   "source": [
    "This model meets the success criteria of an accuracy rate of at least 80% and false positive rate of at most 5%. But because the data that was used to train this model is so imbalanced, we look to the f1 score. It is an okay score, but it does not meet the success criteria."
   ]
  },
  {
   "cell_type": "markdown",
   "id": "c2a3ba9e",
   "metadata": {},
   "source": [
    "## 3.2 Decision Tree with Under-Samping"
   ]
  },
  {
   "cell_type": "markdown",
   "id": "d1f34bee",
   "metadata": {},
   "source": [
    "To manage the unbalanced data, we will use the under-sampling technique to balance the data. Under-sampling randomly takes data points from the majority class to match the number of data points in the minority class. Under-sampling can get rid of important data points, but it may also improve the f1 score. "
   ]
  },
  {
   "cell_type": "code",
   "execution_count": 13,
   "id": "976d67c5",
   "metadata": {},
   "outputs": [
    {
     "name": "stdout",
     "output_type": "stream",
     "text": [
      "class 0: (1076568, 245)\n",
      "class 1: (20663, 245)\n"
     ]
    }
   ],
   "source": [
    "#split data by class\n",
    "class0 = data[data['isFraud'] == 0]\n",
    "class1 = data[data['isFraud'] == 1]\n",
    "print('class 0:', class0.shape)\n",
    "print('class 1:', class1.shape)"
   ]
  },
  {
   "cell_type": "code",
   "execution_count": 14,
   "id": "d31ce8ab",
   "metadata": {},
   "outputs": [
    {
     "name": "stdout",
     "output_type": "stream",
     "text": [
      "new class 0: (20663, 245)\n",
      "new class 1: (20663, 245)\n"
     ]
    }
   ],
   "source": [
    "#under-sample the majority class so it is balanced with the minority class\n",
    "under_class0 = resample(class0, replace=False, n_samples=class1.shape[0], random_state=42)\n",
    "print('new class 0:', under_class0.shape)\n",
    "print('new class 1:', class1.shape)\n",
    "under_data = pd.concat([under_class0, class1])"
   ]
  },
  {
   "cell_type": "code",
   "execution_count": 16,
   "id": "c69c16b1",
   "metadata": {},
   "outputs": [
    {
     "name": "stdout",
     "output_type": "stream",
     "text": [
      "(28928, 244)\n",
      "(12398, 244)\n",
      "(28928,)\n",
      "(12398,)\n"
     ]
    }
   ],
   "source": [
    "X = under_data.drop('isFraud', axis = 1)\n",
    "X = pd.get_dummies(X)\n",
    "y = under_data['isFraud']\n",
    "\n",
    "X_train, X_test, y_train, y_test = train_test_split(X, y, test_size = 0.3)\n",
    "print(X_train.shape)\n",
    "print(X_test.shape)\n",
    "print(y_train.shape)\n",
    "print(y_test.shape)"
   ]
  },
  {
   "cell_type": "code",
   "execution_count": 28,
   "id": "7d05b35a",
   "metadata": {
    "scrolled": true
   },
   "outputs": [
    {
     "name": "stdout",
     "output_type": "stream",
     "text": [
      "Fitting 5 folds for each of 18 candidates, totalling 90 fits\n",
      "[CV] END criterion=entropy, min_samples_leaf=1, min_samples_split=2; total time=   0.8s\n",
      "[CV] END criterion=entropy, min_samples_leaf=1, min_samples_split=2; total time=   0.6s\n",
      "[CV] END criterion=entropy, min_samples_leaf=1, min_samples_split=2; total time=   0.8s\n",
      "[CV] END criterion=entropy, min_samples_leaf=1, min_samples_split=2; total time=   0.9s\n",
      "[CV] END criterion=entropy, min_samples_leaf=1, min_samples_split=2; total time=   0.9s\n",
      "[CV] END criterion=entropy, min_samples_leaf=1, min_samples_split=3; total time=   0.8s\n",
      "[CV] END criterion=entropy, min_samples_leaf=1, min_samples_split=3; total time=   0.9s\n",
      "[CV] END criterion=entropy, min_samples_leaf=1, min_samples_split=3; total time=   0.9s\n",
      "[CV] END criterion=entropy, min_samples_leaf=1, min_samples_split=3; total time=   0.9s\n",
      "[CV] END criterion=entropy, min_samples_leaf=1, min_samples_split=3; total time=   0.7s\n",
      "[CV] END criterion=entropy, min_samples_leaf=1, min_samples_split=4; total time=   0.8s\n",
      "[CV] END criterion=entropy, min_samples_leaf=1, min_samples_split=4; total time=   0.9s\n",
      "[CV] END criterion=entropy, min_samples_leaf=1, min_samples_split=4; total time=   0.8s\n",
      "[CV] END criterion=entropy, min_samples_leaf=1, min_samples_split=4; total time=   0.9s\n",
      "[CV] END criterion=entropy, min_samples_leaf=1, min_samples_split=4; total time=   0.9s\n",
      "[CV] END criterion=entropy, min_samples_leaf=2, min_samples_split=2; total time=   0.9s\n",
      "[CV] END criterion=entropy, min_samples_leaf=2, min_samples_split=2; total time=   0.7s\n",
      "[CV] END criterion=entropy, min_samples_leaf=2, min_samples_split=2; total time=   0.9s\n",
      "[CV] END criterion=entropy, min_samples_leaf=2, min_samples_split=2; total time=   0.8s\n",
      "[CV] END criterion=entropy, min_samples_leaf=2, min_samples_split=2; total time=   0.8s\n",
      "[CV] END criterion=entropy, min_samples_leaf=2, min_samples_split=3; total time=   0.7s\n",
      "[CV] END criterion=entropy, min_samples_leaf=2, min_samples_split=3; total time=   0.5s\n",
      "[CV] END criterion=entropy, min_samples_leaf=2, min_samples_split=3; total time=   0.5s\n",
      "[CV] END criterion=entropy, min_samples_leaf=2, min_samples_split=3; total time=   0.7s\n",
      "[CV] END criterion=entropy, min_samples_leaf=2, min_samples_split=3; total time=   0.5s\n",
      "[CV] END criterion=entropy, min_samples_leaf=2, min_samples_split=4; total time=   0.8s\n",
      "[CV] END criterion=entropy, min_samples_leaf=2, min_samples_split=4; total time=   0.8s\n",
      "[CV] END criterion=entropy, min_samples_leaf=2, min_samples_split=4; total time=   0.5s\n",
      "[CV] END criterion=entropy, min_samples_leaf=2, min_samples_split=4; total time=   0.7s\n",
      "[CV] END criterion=entropy, min_samples_leaf=2, min_samples_split=4; total time=   0.9s\n",
      "[CV] END criterion=entropy, min_samples_leaf=3, min_samples_split=2; total time=   0.8s\n",
      "[CV] END criterion=entropy, min_samples_leaf=3, min_samples_split=2; total time=   0.5s\n",
      "[CV] END criterion=entropy, min_samples_leaf=3, min_samples_split=2; total time=   0.7s\n",
      "[CV] END criterion=entropy, min_samples_leaf=3, min_samples_split=2; total time=   0.8s\n",
      "[CV] END criterion=entropy, min_samples_leaf=3, min_samples_split=2; total time=   0.8s\n",
      "[CV] END criterion=entropy, min_samples_leaf=3, min_samples_split=3; total time=   0.8s\n",
      "[CV] END criterion=entropy, min_samples_leaf=3, min_samples_split=3; total time=   0.8s\n",
      "[CV] END criterion=entropy, min_samples_leaf=3, min_samples_split=3; total time=   0.8s\n",
      "[CV] END criterion=entropy, min_samples_leaf=3, min_samples_split=3; total time=   0.5s\n",
      "[CV] END criterion=entropy, min_samples_leaf=3, min_samples_split=3; total time=   0.8s\n",
      "[CV] END criterion=entropy, min_samples_leaf=3, min_samples_split=4; total time=   0.8s\n",
      "[CV] END criterion=entropy, min_samples_leaf=3, min_samples_split=4; total time=   0.7s\n",
      "[CV] END criterion=entropy, min_samples_leaf=3, min_samples_split=4; total time=   0.9s\n",
      "[CV] END criterion=entropy, min_samples_leaf=3, min_samples_split=4; total time=   0.9s\n",
      "[CV] END criterion=entropy, min_samples_leaf=3, min_samples_split=4; total time=   0.9s\n",
      "[CV] END criterion=gini, min_samples_leaf=1, min_samples_split=2; total time=   0.8s\n",
      "[CV] END criterion=gini, min_samples_leaf=1, min_samples_split=2; total time=   0.9s\n",
      "[CV] END criterion=gini, min_samples_leaf=1, min_samples_split=2; total time=   0.9s\n",
      "[CV] END criterion=gini, min_samples_leaf=1, min_samples_split=2; total time=   0.9s\n",
      "[CV] END criterion=gini, min_samples_leaf=1, min_samples_split=2; total time=   0.9s\n",
      "[CV] END criterion=gini, min_samples_leaf=1, min_samples_split=3; total time=   0.9s\n",
      "[CV] END criterion=gini, min_samples_leaf=1, min_samples_split=3; total time=   0.9s\n",
      "[CV] END criterion=gini, min_samples_leaf=1, min_samples_split=3; total time=   0.9s\n",
      "[CV] END criterion=gini, min_samples_leaf=1, min_samples_split=3; total time=   0.6s\n",
      "[CV] END criterion=gini, min_samples_leaf=1, min_samples_split=3; total time=   0.6s\n",
      "[CV] END criterion=gini, min_samples_leaf=1, min_samples_split=4; total time=   0.6s\n",
      "[CV] END criterion=gini, min_samples_leaf=1, min_samples_split=4; total time=   0.9s\n",
      "[CV] END criterion=gini, min_samples_leaf=1, min_samples_split=4; total time=   0.6s\n",
      "[CV] END criterion=gini, min_samples_leaf=1, min_samples_split=4; total time=   0.7s\n",
      "[CV] END criterion=gini, min_samples_leaf=1, min_samples_split=4; total time=   0.9s\n",
      "[CV] END criterion=gini, min_samples_leaf=2, min_samples_split=2; total time=   0.9s\n",
      "[CV] END criterion=gini, min_samples_leaf=2, min_samples_split=2; total time=   0.7s\n",
      "[CV] END criterion=gini, min_samples_leaf=2, min_samples_split=2; total time=   0.6s\n",
      "[CV] END criterion=gini, min_samples_leaf=2, min_samples_split=2; total time=   0.8s\n",
      "[CV] END criterion=gini, min_samples_leaf=2, min_samples_split=2; total time=   0.5s\n",
      "[CV] END criterion=gini, min_samples_leaf=2, min_samples_split=3; total time=   0.5s\n",
      "[CV] END criterion=gini, min_samples_leaf=2, min_samples_split=3; total time=   0.5s\n",
      "[CV] END criterion=gini, min_samples_leaf=2, min_samples_split=3; total time=   0.6s\n",
      "[CV] END criterion=gini, min_samples_leaf=2, min_samples_split=3; total time=   0.8s\n",
      "[CV] END criterion=gini, min_samples_leaf=2, min_samples_split=3; total time=   0.9s\n",
      "[CV] END criterion=gini, min_samples_leaf=2, min_samples_split=4; total time=   0.8s\n",
      "[CV] END criterion=gini, min_samples_leaf=2, min_samples_split=4; total time=   0.8s\n",
      "[CV] END criterion=gini, min_samples_leaf=2, min_samples_split=4; total time=   0.7s\n",
      "[CV] END criterion=gini, min_samples_leaf=2, min_samples_split=4; total time=   0.7s\n",
      "[CV] END criterion=gini, min_samples_leaf=2, min_samples_split=4; total time=   0.8s\n",
      "[CV] END criterion=gini, min_samples_leaf=3, min_samples_split=2; total time=   0.7s\n",
      "[CV] END criterion=gini, min_samples_leaf=3, min_samples_split=2; total time=   0.8s\n",
      "[CV] END criterion=gini, min_samples_leaf=3, min_samples_split=2; total time=   0.9s\n",
      "[CV] END criterion=gini, min_samples_leaf=3, min_samples_split=2; total time=   0.8s\n",
      "[CV] END criterion=gini, min_samples_leaf=3, min_samples_split=2; total time=   0.6s\n",
      "[CV] END criterion=gini, min_samples_leaf=3, min_samples_split=3; total time=   0.7s\n",
      "[CV] END criterion=gini, min_samples_leaf=3, min_samples_split=3; total time=   0.7s\n",
      "[CV] END criterion=gini, min_samples_leaf=3, min_samples_split=3; total time=   0.7s\n",
      "[CV] END criterion=gini, min_samples_leaf=3, min_samples_split=3; total time=   0.6s\n",
      "[CV] END criterion=gini, min_samples_leaf=3, min_samples_split=3; total time=   0.7s\n",
      "[CV] END criterion=gini, min_samples_leaf=3, min_samples_split=4; total time=   0.6s\n",
      "[CV] END criterion=gini, min_samples_leaf=3, min_samples_split=4; total time=   0.8s\n",
      "[CV] END criterion=gini, min_samples_leaf=3, min_samples_split=4; total time=   0.6s\n",
      "[CV] END criterion=gini, min_samples_leaf=3, min_samples_split=4; total time=   0.8s\n",
      "[CV] END criterion=gini, min_samples_leaf=3, min_samples_split=4; total time=   0.5s\n"
     ]
    },
    {
     "data": {
      "text/html": [
       "<style>#sk-container-id-3 {color: black;background-color: white;}#sk-container-id-3 pre{padding: 0;}#sk-container-id-3 div.sk-toggleable {background-color: white;}#sk-container-id-3 label.sk-toggleable__label {cursor: pointer;display: block;width: 100%;margin-bottom: 0;padding: 0.3em;box-sizing: border-box;text-align: center;}#sk-container-id-3 label.sk-toggleable__label-arrow:before {content: \"▸\";float: left;margin-right: 0.25em;color: #696969;}#sk-container-id-3 label.sk-toggleable__label-arrow:hover:before {color: black;}#sk-container-id-3 div.sk-estimator:hover label.sk-toggleable__label-arrow:before {color: black;}#sk-container-id-3 div.sk-toggleable__content {max-height: 0;max-width: 0;overflow: hidden;text-align: left;background-color: #f0f8ff;}#sk-container-id-3 div.sk-toggleable__content pre {margin: 0.2em;color: black;border-radius: 0.25em;background-color: #f0f8ff;}#sk-container-id-3 input.sk-toggleable__control:checked~div.sk-toggleable__content {max-height: 200px;max-width: 100%;overflow: auto;}#sk-container-id-3 input.sk-toggleable__control:checked~label.sk-toggleable__label-arrow:before {content: \"▾\";}#sk-container-id-3 div.sk-estimator input.sk-toggleable__control:checked~label.sk-toggleable__label {background-color: #d4ebff;}#sk-container-id-3 div.sk-label input.sk-toggleable__control:checked~label.sk-toggleable__label {background-color: #d4ebff;}#sk-container-id-3 input.sk-hidden--visually {border: 0;clip: rect(1px 1px 1px 1px);clip: rect(1px, 1px, 1px, 1px);height: 1px;margin: -1px;overflow: hidden;padding: 0;position: absolute;width: 1px;}#sk-container-id-3 div.sk-estimator {font-family: monospace;background-color: #f0f8ff;border: 1px dotted black;border-radius: 0.25em;box-sizing: border-box;margin-bottom: 0.5em;}#sk-container-id-3 div.sk-estimator:hover {background-color: #d4ebff;}#sk-container-id-3 div.sk-parallel-item::after {content: \"\";width: 100%;border-bottom: 1px solid gray;flex-grow: 1;}#sk-container-id-3 div.sk-label:hover label.sk-toggleable__label {background-color: #d4ebff;}#sk-container-id-3 div.sk-serial::before {content: \"\";position: absolute;border-left: 1px solid gray;box-sizing: border-box;top: 0;bottom: 0;left: 50%;z-index: 0;}#sk-container-id-3 div.sk-serial {display: flex;flex-direction: column;align-items: center;background-color: white;padding-right: 0.2em;padding-left: 0.2em;position: relative;}#sk-container-id-3 div.sk-item {position: relative;z-index: 1;}#sk-container-id-3 div.sk-parallel {display: flex;align-items: stretch;justify-content: center;background-color: white;position: relative;}#sk-container-id-3 div.sk-item::before, #sk-container-id-3 div.sk-parallel-item::before {content: \"\";position: absolute;border-left: 1px solid gray;box-sizing: border-box;top: 0;bottom: 0;left: 50%;z-index: -1;}#sk-container-id-3 div.sk-parallel-item {display: flex;flex-direction: column;z-index: 1;position: relative;background-color: white;}#sk-container-id-3 div.sk-parallel-item:first-child::after {align-self: flex-end;width: 50%;}#sk-container-id-3 div.sk-parallel-item:last-child::after {align-self: flex-start;width: 50%;}#sk-container-id-3 div.sk-parallel-item:only-child::after {width: 0;}#sk-container-id-3 div.sk-dashed-wrapped {border: 1px dashed gray;margin: 0 0.4em 0.5em 0.4em;box-sizing: border-box;padding-bottom: 0.4em;background-color: white;}#sk-container-id-3 div.sk-label label {font-family: monospace;font-weight: bold;display: inline-block;line-height: 1.2em;}#sk-container-id-3 div.sk-label-container {text-align: center;}#sk-container-id-3 div.sk-container {/* jupyter's `normalize.less` sets `[hidden] { display: none; }` but bootstrap.min.css set `[hidden] { display: none !important; }` so we also need the `!important` here to be able to override the default hidden behavior on the sphinx rendered scikit-learn.org. See: https://github.com/scikit-learn/scikit-learn/issues/21755 */display: inline-block !important;position: relative;}#sk-container-id-3 div.sk-text-repr-fallback {display: none;}</style><div id=\"sk-container-id-3\" class=\"sk-top-container\"><div class=\"sk-text-repr-fallback\"><pre>GridSearchCV(cv=5, estimator=DecisionTreeClassifier(),\n",
       "             param_grid={&#x27;criterion&#x27;: [&#x27;entropy&#x27;, &#x27;gini&#x27;],\n",
       "                         &#x27;min_samples_leaf&#x27;: [1, 2, 3],\n",
       "                         &#x27;min_samples_split&#x27;: [2, 3, 4]},\n",
       "             scoring=&#x27;f1&#x27;, verbose=2)</pre><b>In a Jupyter environment, please rerun this cell to show the HTML representation or trust the notebook. <br />On GitHub, the HTML representation is unable to render, please try loading this page with nbviewer.org.</b></div><div class=\"sk-container\" hidden><div class=\"sk-item sk-dashed-wrapped\"><div class=\"sk-label-container\"><div class=\"sk-label sk-toggleable\"><input class=\"sk-toggleable__control sk-hidden--visually\" id=\"sk-estimator-id-7\" type=\"checkbox\" ><label for=\"sk-estimator-id-7\" class=\"sk-toggleable__label sk-toggleable__label-arrow\">GridSearchCV</label><div class=\"sk-toggleable__content\"><pre>GridSearchCV(cv=5, estimator=DecisionTreeClassifier(),\n",
       "             param_grid={&#x27;criterion&#x27;: [&#x27;entropy&#x27;, &#x27;gini&#x27;],\n",
       "                         &#x27;min_samples_leaf&#x27;: [1, 2, 3],\n",
       "                         &#x27;min_samples_split&#x27;: [2, 3, 4]},\n",
       "             scoring=&#x27;f1&#x27;, verbose=2)</pre></div></div></div><div class=\"sk-parallel\"><div class=\"sk-parallel-item\"><div class=\"sk-item\"><div class=\"sk-label-container\"><div class=\"sk-label sk-toggleable\"><input class=\"sk-toggleable__control sk-hidden--visually\" id=\"sk-estimator-id-8\" type=\"checkbox\" ><label for=\"sk-estimator-id-8\" class=\"sk-toggleable__label sk-toggleable__label-arrow\">estimator: DecisionTreeClassifier</label><div class=\"sk-toggleable__content\"><pre>DecisionTreeClassifier()</pre></div></div></div><div class=\"sk-serial\"><div class=\"sk-item\"><div class=\"sk-estimator sk-toggleable\"><input class=\"sk-toggleable__control sk-hidden--visually\" id=\"sk-estimator-id-9\" type=\"checkbox\" ><label for=\"sk-estimator-id-9\" class=\"sk-toggleable__label sk-toggleable__label-arrow\">DecisionTreeClassifier</label><div class=\"sk-toggleable__content\"><pre>DecisionTreeClassifier()</pre></div></div></div></div></div></div></div></div></div></div>"
      ],
      "text/plain": [
       "GridSearchCV(cv=5, estimator=DecisionTreeClassifier(),\n",
       "             param_grid={'criterion': ['entropy', 'gini'],\n",
       "                         'min_samples_leaf': [1, 2, 3],\n",
       "                         'min_samples_split': [2, 3, 4]},\n",
       "             scoring='f1', verbose=2)"
      ]
     },
     "execution_count": 28,
     "metadata": {},
     "output_type": "execute_result"
    }
   ],
   "source": [
    "param_grid = {\n",
    "    'criterion':['entropy', 'gini'],\n",
    "    'min_samples_split':[2, 3, 4],\n",
    "    'min_samples_leaf':[1, 2, 3]\n",
    "}\n",
    "\n",
    "tree = DecisionTreeClassifier()\n",
    "tree_cv = GridSearchCV(estimator=tree, param_grid=param_grid, scoring='f1', cv=5, verbose=2)\n",
    "tree_cv.fit(X_train, y_train)"
   ]
  },
  {
   "cell_type": "code",
   "execution_count": 29,
   "id": "e5a33a87",
   "metadata": {},
   "outputs": [
    {
     "name": "stdout",
     "output_type": "stream",
     "text": [
      "{'criterion': 'entropy', 'min_samples_leaf': 3, 'min_samples_split': 2}\n"
     ]
    }
   ],
   "source": [
    "print(tree_cv.best_params_)"
   ]
  },
  {
   "cell_type": "code",
   "execution_count": 30,
   "id": "07b092be",
   "metadata": {},
   "outputs": [
    {
     "data": {
      "text/plain": [
       "<sklearn.metrics._plot.confusion_matrix.ConfusionMatrixDisplay at 0x1b3598c54e0>"
      ]
     },
     "execution_count": 30,
     "metadata": {},
     "output_type": "execute_result"
    },
    {
     "data": {
      "image/png": "[encoded data removed]",
      "text/plain": [
       "<Figure size 640x480 with 2 Axes>"
      ]
     },
     "metadata": {},
     "output_type": "display_data"
    }
   ],
   "source": [
    "y_pred = tree_cv.predict(X_test)\n",
    "\n",
    "cm = confusion_matrix(y_test, y_pred)\n",
    "CM = ConfusionMatrixDisplay(cm)\n",
    "CM.plot()"
   ]
  },
  {
   "cell_type": "code",
   "execution_count": 31,
   "id": "0d06a8f8",
   "metadata": {},
   "outputs": [
    {
     "name": "stdout",
     "output_type": "stream",
     "text": [
      "accuracy  = 0.8301\n",
      "recall\t  = 0.8315\n",
      "precision = 0.8293\n",
      "f1 score  = 0.8304\n",
      "AUC\t  = 0.8301\n"
     ]
    }
   ],
   "source": [
    "acc = accuracy_score(y_test, y_pred)\n",
    "rec = recall_score(y_test, y_pred)\n",
    "prec = precision_score(y_test, y_pred)\n",
    "f1 = f1_score(y_test, y_pred)\n",
    "fpr, tpr, thresholds = roc_curve(y_test, y_pred)\n",
    "\n",
    "print('accuracy  =', round(acc, 4))\n",
    "print('recall\\t  =',round(rec, 4))\n",
    "print('precision =', round(prec, 4))\n",
    "print('f1 score  =', round(f1, 4))\n",
    "print('AUC\\t  =', round(auc(fpr, tpr),4))"
   ]
  },
  {
   "cell_type": "code",
   "execution_count": 32,
   "id": "6eb13e48",
   "metadata": {},
   "outputs": [
    {
     "name": "stdout",
     "output_type": "stream",
     "text": [
      "fold: 1 2 3 4 5 6 7 8 9 10 \n",
      "\n",
      "accuracy  = 0.8427 (0.0065)\n",
      "recall\t  = 0.8457 (0.0097)\n",
      "precision = 0.8408 (0.0075)\n",
      "f1 score  = 0.8432 (0.0066)\n",
      "AUC\t  = 0.8427 (0.0065)\n"
     ]
    }
   ],
   "source": [
    "acc_list = []\n",
    "rec_list = []\n",
    "pre_list = []\n",
    "f1_list = []\n",
    "auc_list = []\n",
    "folds = 10\n",
    "i = 1\n",
    "\n",
    "print('fold: ',end='')\n",
    "for train, test in StratifiedKFold(n_splits=folds,random_state=1, shuffle=True).split(X, y):\n",
    "    print(str(i)+' ',end='')\n",
    "    i+=1\n",
    "    x_train_one_fold, x_test_one_fold = X.iloc[train], X.iloc[test]\n",
    "    y_train_one_fold, y_test_one_fold = y.iloc[train], y.iloc[test]\n",
    "    tree = DecisionTreeClassifier(criterion='entropy', min_samples_leaf=3, min_samples_split=2)\n",
    "    tree.fit(x_train_one_fold, y_train_one_fold)\n",
    "    y_pred = tree.predict(x_test_one_fold)\n",
    "    \n",
    "    acc_list.append(accuracy_score(y_test_one_fold, y_pred))\n",
    "    rec_list.append(recall_score(y_test_one_fold, y_pred))\n",
    "    pre_list.append(precision_score(y_test_one_fold, y_pred))\n",
    "    f1_list.append(f1_score(y_test_one_fold, y_pred, pos_label=1))\n",
    "    fpr, tpr, thresholds = roc_curve(y_test_one_fold, y_pred)\n",
    "    auc_list.append(auc(fpr, tpr))\n",
    "    \n",
    "print(\"\\n\\naccuracy  = %.4f (%.4f)\" % (stat.mean(acc_list), stat.stdev(acc_list)))\n",
    "print(\"recall\\t  = %.4f (%.4f)\" % (stat.mean(rec_list), stat.stdev(rec_list)))\n",
    "print(\"precision = %.4f (%.4f)\" % (stat.mean(pre_list), stat.stdev(pre_list)))\n",
    "print(\"f1 score  = %.4f (%.4f)\" % (stat.mean(f1_list), stat.stdev(f1_list)))\n",
    "print(\"AUC\\t  = %.4f (%.4f)\" % (stat.mean(auc_list), stat.stdev(auc_list)))"
   ]
  },
  {
   "cell_type": "markdown",
   "id": "2ada63fc",
   "metadata": {},
   "source": [
    "By using under-sampling we reduced the accuracy from about 98% to 84%, but the accuracy still meets the success criteria. We were able to increase the f1 score from about 60% to 84%. This model's metric results are an overall improvement over the previous Decision Tree's metric results."
   ]
  }
 ],
 "metadata": {
  "kernelspec": {
   "display_name": "Python 3.10 (tensorflow)",
   "language": "python",
   "name": "tensorflow"
  },
  "language_info": {
   "codemirror_mode": {
    "name": "ipython",
    "version": 3
   },
   "file_extension": ".py",
   "mimetype": "text/x-python",
   "name": "python",
   "nbconvert_exporter": "python",
   "pygments_lexer": "ipython3",
   "version": "3.10.6"
  }
 },
 "nbformat": 4,
 "nbformat_minor": 5
}
