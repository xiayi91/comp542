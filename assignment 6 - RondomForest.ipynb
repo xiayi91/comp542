{
 "cells": [
  {
   "cell_type": "markdown",
   "id": "66727c55",
   "metadata": {},
   "source": [
    "# 1 Load libraries"
   ]
  },
  {
   "cell_type": "markdown",
   "id": "1c19f600",
   "metadata": {},
   "source": [
    "# 1 Load libraries"
   ]
  },
  {
   "cell_type": "code",
   "execution_count": 27,
   "id": "92abb47c",
   "metadata": {},
   "outputs": [],
   "source": [
    "import numpy as np\n",
    "import pandas as pd\n",
    "import matplotlib.pylab as plt\n",
    "# import itertools\n",
    "# import random # split datasets\n",
    "# from sklearn.utils import resample\n",
    "import itertools\n",
    "import sklearn.metrics as metrics\n",
    "from sklearn.metrics import confusion_matrix\n",
    "from sklearn.model_selection import train_test_split\n",
    "from sklearn.metrics import f1_score, accuracy_score, recall_score, precision_score, roc_auc_score\n",
    "\n",
    "# xgboost\n",
    "import xgboost as xgb\n",
    "from xgboost import XGBClassifier\n",
    "\n",
    "# lightgbm\n",
    "from sklearn.metrics import roc_auc_score\n",
    "import lightgbm as lgb\n",
    "\n",
    "#Random Forest\n",
    "import sklearn.ensemble as ensemble\n",
    "from sklearn.model_selection import GridSearchCV"
   ]
  },
  {
   "cell_type": "markdown",
   "id": "f39ead42",
   "metadata": {},
   "source": []
  },
  {
   "cell_type": "markdown",
   "id": "0aa6b4a4",
   "metadata": {},
   "source": [
    "# 2 Load datasets"
   ]
  },
  {
   "cell_type": "code",
   "execution_count": 2,
   "id": "00d3234f",
   "metadata": {},
   "outputs": [],
   "source": [
    "train = pd.read_csv('data/train_after_missing_value_without_dropping_rows.csv')\n",
    "test = pd.read_csv('data/test_after_missing_value_without_dropping_rows.csv')"
   ]
  },
  {
   "cell_type": "code",
   "execution_count": 3,
   "id": "e9f25ba3",
   "metadata": {},
   "outputs": [],
   "source": [
    "train.fillna(999,inplace=True)\n",
    "test.fillna(999,inplace=True)"
   ]
  },
  {
   "cell_type": "code",
   "execution_count": 4,
   "id": "f019e157",
   "metadata": {},
   "outputs": [
    {
     "name": "stdout",
     "output_type": "stream",
     "text": [
      "(590540, 289)\n",
      "(506691, 289)\n"
     ]
    }
   ],
   "source": [
    "print(train.shape)\n",
    "print(test.shape)"
   ]
  },
  {
   "cell_type": "code",
   "execution_count": 5,
   "id": "b00b26fe",
   "metadata": {},
   "outputs": [],
   "source": [
    "import re\n",
    "train = train.rename(columns = lambda x:re.sub(':', '', x))\n",
    "test = test.rename(columns = lambda x:re.sub(':', '', x))"
   ]
  },
  {
   "cell_type": "markdown",
   "id": "fe94e569",
   "metadata": {},
   "source": [
    "Train / Validation Split"
   ]
  },
  {
   "cell_type": "code",
   "execution_count": 6,
   "id": "245ae289",
   "metadata": {},
   "outputs": [],
   "source": [
    "y = pd.DataFrame(train['isFraud'])\n",
    "X = train.drop(columns=['isFraud'])\n",
    "X_test = test.drop(columns=['isFraud'])"
   ]
  },
  {
   "cell_type": "code",
   "execution_count": 7,
   "id": "ad6d87a8",
   "metadata": {},
   "outputs": [],
   "source": [
    "# index_array = np.arange(len(X))\n",
    "# val_index = index_array[random.sample(range(0,X.shape[0]), X.shape[0]//5)]\n",
    "# train_index = np.delete(index_array[:X.shape[0]], val_index, axis=0)\n",
    "# len(train_index), len(val_index)\n",
    "\n",
    "# X_train, X_val = X.iloc[train_index], X.iloc[val_index]\n",
    "# y_train, y_val = y.iloc[train_index], y.iloc[val_index]"
   ]
  },
  {
   "cell_type": "code",
   "execution_count": 8,
   "id": "5d68a3ae",
   "metadata": {},
   "outputs": [],
   "source": [
    "X_train, X_val, y_train, y_val = train_test_split(X, y, test_size=0.3)"
   ]
  },
  {
   "cell_type": "markdown",
   "id": "325fcf69",
   "metadata": {},
   "source": [
    "# 3 Modeling\n",
    "## 3.1 Random Forest\n",
    "### 3.1.1 Training"
   ]
  },
  {
   "cell_type": "code",
   "execution_count": 9,
   "id": "1c344d4c",
   "metadata": {},
   "outputs": [
    {
     "data": {
      "text/plain": [
       "0"
      ]
     },
     "execution_count": 9,
     "metadata": {},
     "output_type": "execute_result"
    }
   ],
   "source": [
    "train.fillna(999,inplace=True)\n",
    "train.isnull().sum().sum()"
   ]
  },
  {
   "cell_type": "code",
   "execution_count": 10,
   "id": "c9f9260c",
   "metadata": {},
   "outputs": [
    {
     "name": "stderr",
     "output_type": "stream",
     "text": [
      "d:\\Python\\Python310\\lib\\site-packages\\sklearn\\model_selection\\_validation.py:686: DataConversionWarning: A column-vector y was passed when a 1d array was expected. Please change the shape of y to (n_samples,), for example using ravel().\n",
      "  estimator.fit(X_train, y_train, **fit_params)\n",
      "d:\\Python\\Python310\\lib\\site-packages\\sklearn\\model_selection\\_validation.py:686: DataConversionWarning: A column-vector y was passed when a 1d array was expected. Please change the shape of y to (n_samples,), for example using ravel().\n",
      "  estimator.fit(X_train, y_train, **fit_params)\n",
      "d:\\Python\\Python310\\lib\\site-packages\\sklearn\\model_selection\\_validation.py:686: DataConversionWarning: A column-vector y was passed when a 1d array was expected. Please change the shape of y to (n_samples,), for example using ravel().\n",
      "  estimator.fit(X_train, y_train, **fit_params)\n",
      "d:\\Python\\Python310\\lib\\site-packages\\sklearn\\model_selection\\_validation.py:686: DataConversionWarning: A column-vector y was passed when a 1d array was expected. Please change the shape of y to (n_samples,), for example using ravel().\n",
      "  estimator.fit(X_train, y_train, **fit_params)\n",
      "d:\\Python\\Python310\\lib\\site-packages\\sklearn\\model_selection\\_search.py:910: DataConversionWarning: A column-vector y was passed when a 1d array was expected. Please change the shape of y to (n_samples,), for example using ravel().\n",
      "  self.best_estimator_.fit(X, y, **fit_params)\n"
     ]
    },
    {
     "name": "stdout",
     "output_type": "stream",
     "text": [
      "RandomForest...\n",
      "              precision    recall  f1-score   support\n",
      "\n",
      "         0.0       0.98      1.00      0.99    170910\n",
      "         1.0       0.91      0.34      0.49      6252\n",
      "\n",
      "    accuracy                           0.98    177162\n",
      "   macro avg       0.94      0.67      0.74    177162\n",
      "weighted avg       0.97      0.98      0.97    177162\n",
      "\n",
      "RandomForest AUC...\n",
      "AUC = 0.6693\n"
     ]
    },
    {
     "data": {
      "text/plain": [
       "{'criterion': 'entropy',\n",
       " 'max_depth': 10,\n",
       " 'max_features': 0.4,\n",
       " 'min_samples_split': 6,\n",
       " 'n_estimators': 14}"
      ]
     },
     "execution_count": 10,
     "metadata": {},
     "output_type": "execute_result"
    }
   ],
   "source": [
    "X_train, X_test, y_train, y_test = train_test_split(X, y, test_size=0.3, random_state=123)\n",
    "\n",
    "param_grid = {\n",
    "    'criterion':['entropy'],\n",
    "    'max_depth':[10], # >   \n",
    "    'n_estimators':[14],  # >  \n",
    "    'max_features':[0.4], # >  \n",
    "    'min_samples_split':[6]  \n",
    "}\n",
    "\n",
    "rfc = ensemble.RandomForestClassifier()\n",
    "rfc_cv = GridSearchCV(estimator=rfc, param_grid=param_grid, scoring='roc_auc', cv=4)\n",
    "rfc_cv.fit(X_train, y_train)\n",
    "\n",
    "test_est = rfc_cv.predict(X_test)\n",
    "print('RandomForest...')\n",
    "print(metrics.classification_report(y_test, test_est))\n",
    "print('RandomForest AUC...')\n",
    "fpr_test, tpr_test, th_test = metrics.roc_curve(y_test, test_est) # 构造 roc 曲线\n",
    "print('AUC = %.4f' %metrics.auc(fpr_test, tpr_test))\n",
    "\n",
    "rfc_cv.best_params_"
   ]
  },
  {
   "cell_type": "markdown",
   "id": "d78865b0",
   "metadata": {},
   "source": [
    "### 3.3.2 Confusion matrix"
   ]
  },
  {
   "cell_type": "code",
   "execution_count": 24,
   "id": "c6953e9e",
   "metadata": {},
   "outputs": [
    {
     "data": {
      "text/plain": [
       "97.54857136406227"
      ]
     },
     "execution_count": 24,
     "metadata": {},
     "output_type": "execute_result"
    }
   ],
   "source": [
    "metrics.accuracy_score(y_test, test_est.round())*100\n"
   ]
  },
  {
   "cell_type": "code",
   "execution_count": null,
   "id": "ffa8a195",
   "metadata": {},
   "outputs": [],
   "source": [
    "def plot_confusion_matrix(cm, classes,\n",
    "                          normalize=False,\n",
    "                          title='Confusion matrix',\n",
    "                          cmap=plt.cm.Blues):\n",
    "    plt.imshow(cm, interpolation='nearest', cmap=cmap)\n",
    "    plt.title(title)\n",
    "    plt.colorbar()\n",
    "    tick_marks = np.arange(len(classes))\n",
    "    plt.xticks(tick_marks, classes, rotation=45)\n",
    "    plt.yticks(tick_marks, classes)\n",
    "    if normalize:\n",
    "        cm = cm.astype('float') / cm.sum(axis=1)[:, np.newaxis]\n",
    "\n",
    "    thresh = cm.max() / 2.\n",
    "    for i, j in itertools.product(range(cm.shape[0]), range(cm.shape[1])):\n",
    "        plt.text(j, i, cm[i, j],\n",
    "                 horizontalalignment=\"center\",\n",
    "                 color=\"white\" if cm[i, j] > thresh else \"black\")\n",
    "\n",
    "    plt.tight_layout()\n",
    "    plt.ylabel('True label')\n",
    "    plt.xlabel('Predicted label')"
   ]
  },
  {
   "cell_type": "code",
   "execution_count": 29,
   "id": "0cff5406",
   "metadata": {},
   "outputs": [
    {
     "data": {
      "image/png": "[encoded data removed]",
      "text/plain": [
       "<Figure size 640x480 with 2 Axes>"
      ]
     },
     "metadata": {},
     "output_type": "display_data"
    }
   ],
   "source": [
    "confusion_mtx = confusion_matrix(y_test, test_est.round()) \n",
    "plot_confusion_matrix(confusion_mtx, classes = range(2)) "
   ]
  }
 ],
 "metadata": {
  "kernelspec": {
   "display_name": "Python 3.10.7 64-bit",
   "language": "python",
   "name": "python3"
  },
  "language_info": {
   "codemirror_mode": {
    "name": "ipython",
    "version": 3
   },
   "file_extension": ".py",
   "mimetype": "text/x-python",
   "name": "python",
   "nbconvert_exporter": "python",
   "pygments_lexer": "ipython3",
   "version": "3.10.7"
  },
  "vscode": {
   "interpreter": {
    "hash": "301a17a29b57d3836b7901af1621afd6d2b1f2298b9c7949191147cf2fea93e3"
   }
  }
 },
 "nbformat": 4,
 "nbformat_minor": 5
}
