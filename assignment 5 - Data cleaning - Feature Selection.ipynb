{
 "cells": [
  {
   "cell_type": "markdown",
   "metadata": {},
   "source": [
    "# 1 Import Libiraries"
   ]
  },
  {
   "cell_type": "code",
   "execution_count": 1,
   "metadata": {},
   "outputs": [],
   "source": [
    "import pandas as pd\n",
    "import numpy as np\n",
    "from sklearn.model_selection import train_test_split\n",
    "from sklearn.feature_selection import RFECV\n",
    "import lightgbm as lgb\n",
    "import gc"
   ]
  },
  {
   "cell_type": "markdown",
   "metadata": {},
   "source": [
    "# 2 Prepare Data"
   ]
  },
  {
   "cell_type": "code",
   "execution_count": 2,
   "metadata": {},
   "outputs": [],
   "source": [
    "train = pd.read_csv('data/train_after_missing_value.csv')\n",
    "# test = pd.read_csv('data/test_after_missing_value.csv')"
   ]
  },
  {
   "cell_type": "code",
   "execution_count": 3,
   "metadata": {},
   "outputs": [],
   "source": [
    "import re\n",
    "train = train.rename(columns = lambda x:re.sub(':', '', x))"
   ]
  },
  {
   "cell_type": "code",
   "execution_count": 5,
   "metadata": {},
   "outputs": [
    {
     "data": {
      "text/plain": [
       "0"
      ]
     },
     "execution_count": 5,
     "metadata": {},
     "output_type": "execute_result"
    }
   ],
   "source": [
    "# From https://www.kaggle.com/pavelvpster/ieee-fraud-eda-lightgbm-baseline\n",
    "\n",
    "from sklearn.preprocessing import LabelEncoder\n",
    "\n",
    "def encode_categorial_features_fit(df, columns_to_encode):\n",
    "    encoders = {}\n",
    "    for c in columns_to_encode:\n",
    "        if c in df.columns:\n",
    "            encoder = LabelEncoder()\n",
    "            encoder.fit(df[c].astype(str).values)\n",
    "            encoders[c] = encoder\n",
    "    return encoders\n",
    "\n",
    "def encode_categorial_features_transform(df, encoders):\n",
    "    out = pd.DataFrame(index=df.index)\n",
    "    for c in encoders.keys():\n",
    "        if c in df.columns:\n",
    "            out[c] = encoders[c].transform(df[c].astype(str).values)\n",
    "    return out\n",
    "\n",
    "c = (train.dtypes == 'object')\n",
    "categorial_features_columns = list(c[c].index) #categorical features\n",
    "\n",
    "# categorial_features_columns = [\n",
    "#     'id_13', 'id_14', 'id_15', 'id_16', 'id_17', 'id_18', 'id_19', 'id_20', 'id_21',\n",
    "#     'id_22', 'id_23', 'id_24', 'id_25', 'id_26', 'id_27', 'id_28', 'id_29', 'id_30', 'id_31',\n",
    "#     'id_32', 'id_33', 'id_34', 'id_35', 'id_36', 'id_37', 'id_38',\n",
    "#     'DeviceType', 'DeviceInfo', 'ProductCD', 'P_emaildomain', 'R_emaildomain',\n",
    "#     'card1', 'card2', 'card3', 'card4', 'card5', 'card6',\n",
    "#     'addr1', 'addr2',\n",
    "#     'M1', 'M2', 'M3', 'M4', 'M5', 'M6', 'M7', 'M8', 'M9',\n",
    "#     'P_emaildomain_vendor', 'P_emaildomain_suffix', 'P_emaildomain_us',\n",
    "#     'R_emaildomain_vendor', 'R_emaildomain_suffix', 'R_emaildomain_us'\n",
    "# ]\n",
    "\n",
    "categorial_features_encoders = encode_categorial_features_fit(train, categorial_features_columns)\n",
    "temp = encode_categorial_features_transform(train, categorial_features_encoders)\n",
    "columns_to_drop = list(set(categorial_features_columns) & set(train.columns))\n",
    "train = train.drop(columns_to_drop, axis=1).merge(temp, how='left', left_index=True, right_index=True)\n",
    "del temp\n",
    "gc.collect()"
   ]
  },
  {
   "cell_type": "code",
   "execution_count": 6,
   "metadata": {},
   "outputs": [
    {
     "data": {
      "text/plain": [
       "0"
      ]
     },
     "execution_count": 6,
     "metadata": {},
     "output_type": "execute_result"
    }
   ],
   "source": [
    "many_same_values_columns_train = [c for c in train.columns if train[c].value_counts(normalize=True).values[0] > 0.9]\n",
    "columns_to_drop = many_same_values_columns_train\n",
    "columns_to_drop.remove('isFraud')\n",
    "train = train.drop(columns_to_drop, axis=1)\n",
    "gc.collect()"
   ]
  },
  {
   "cell_type": "code",
   "execution_count": 7,
   "metadata": {},
   "outputs": [
    {
     "data": {
      "text/plain": [
       "0"
      ]
     },
     "execution_count": 7,
     "metadata": {},
     "output_type": "execute_result"
    }
   ],
   "source": [
    "y_train = train['isFraud'].copy()\n",
    "x_train = train.drop('isFraud', axis=1)\n",
    "\n",
    "del train\n",
    "\n",
    "gc.collect()"
   ]
  },
  {
   "cell_type": "code",
   "execution_count": 8,
   "metadata": {},
   "outputs": [
    {
     "data": {
      "text/plain": [
       "(553287, 194)"
      ]
     },
     "execution_count": 8,
     "metadata": {},
     "output_type": "execute_result"
    }
   ],
   "source": [
    "x_train.shape"
   ]
  },
  {
   "cell_type": "code",
   "execution_count": 9,
   "metadata": {},
   "outputs": [
    {
     "data": {
      "text/plain": [
       "0"
      ]
     },
     "execution_count": 9,
     "metadata": {},
     "output_type": "execute_result"
    }
   ],
   "source": [
    "percent = 25 # percent of dataset to use for feature selection\n",
    "\n",
    "x_train_train, x_train_valid, y_train_train, y_train_valid = train_test_split(x_train, y_train, test_size=1.0-percent/100.0, random_state=42)\n",
    "\n",
    "del x_train\n",
    "del y_train\n",
    "\n",
    "gc.collect()"
   ]
  },
  {
   "cell_type": "code",
   "execution_count": 10,
   "metadata": {},
   "outputs": [
    {
     "name": "stdout",
     "output_type": "stream",
     "text": [
      "Fitting estimator with 194 features.\n",
      "[LightGBM] [Warning] num_threads is set=4, n_jobs=-1 will be ignored. Current value: num_threads=4\n",
      "Fitting estimator with 184 features.\n",
      "[LightGBM] [Warning] num_threads is set=4, n_jobs=-1 will be ignored. Current value: num_threads=4\n",
      "Fitting estimator with 174 features.\n",
      "[LightGBM] [Warning] num_threads is set=4, n_jobs=-1 will be ignored. Current value: num_threads=4\n",
      "Fitting estimator with 164 features.\n",
      "[LightGBM] [Warning] num_threads is set=4, n_jobs=-1 will be ignored. Current value: num_threads=4\n",
      "Fitting estimator with 154 features.\n",
      "[LightGBM] [Warning] num_threads is set=4, n_jobs=-1 will be ignored. Current value: num_threads=4\n",
      "Fitting estimator with 144 features.\n",
      "[LightGBM] [Warning] num_threads is set=4, n_jobs=-1 will be ignored. Current value: num_threads=4\n",
      "Fitting estimator with 134 features.\n",
      "[LightGBM] [Warning] num_threads is set=4, n_jobs=-1 will be ignored. Current value: num_threads=4\n",
      "Fitting estimator with 124 features.\n",
      "[LightGBM] [Warning] num_threads is set=4, n_jobs=-1 will be ignored. Current value: num_threads=4\n",
      "Fitting estimator with 114 features.\n",
      "[LightGBM] [Warning] num_threads is set=4, n_jobs=-1 will be ignored. Current value: num_threads=4\n",
      "Fitting estimator with 104 features.\n",
      "[LightGBM] [Warning] num_threads is set=4, n_jobs=-1 will be ignored. Current value: num_threads=4\n",
      "Fitting estimator with 94 features.\n",
      "[LightGBM] [Warning] num_threads is set=4, n_jobs=-1 will be ignored. Current value: num_threads=4\n",
      "Fitting estimator with 84 features.\n",
      "[LightGBM] [Warning] num_threads is set=4, n_jobs=-1 will be ignored. Current value: num_threads=4\n",
      "Fitting estimator with 74 features.\n",
      "[LightGBM] [Warning] num_threads is set=4, n_jobs=-1 will be ignored. Current value: num_threads=4\n",
      "Fitting estimator with 64 features.\n",
      "[LightGBM] [Warning] num_threads is set=4, n_jobs=-1 will be ignored. Current value: num_threads=4\n",
      "Fitting estimator with 54 features.\n",
      "[LightGBM] [Warning] num_threads is set=4, n_jobs=-1 will be ignored. Current value: num_threads=4\n",
      "Fitting estimator with 44 features.\n",
      "[LightGBM] [Warning] num_threads is set=4, n_jobs=-1 will be ignored. Current value: num_threads=4\n",
      "Fitting estimator with 34 features.\n",
      "[LightGBM] [Warning] num_threads is set=4, n_jobs=-1 will be ignored. Current value: num_threads=4\n",
      "Fitting estimator with 24 features.\n",
      "[LightGBM] [Warning] num_threads is set=4, n_jobs=-1 will be ignored. Current value: num_threads=4\n",
      "Fitting estimator with 14 features.\n",
      "[LightGBM] [Warning] num_threads is set=4, n_jobs=-1 will be ignored. Current value: num_threads=4\n",
      "Fitting estimator with 4 features.\n",
      "[LightGBM] [Warning] num_threads is set=4, n_jobs=-1 will be ignored. Current value: num_threads=4\n",
      "[LightGBM] [Warning] num_threads is set=4, n_jobs=-1 will be ignored. Current value: num_threads=4\n",
      "Fitting estimator with 194 features.\n",
      "[LightGBM] [Warning] num_threads is set=4, n_jobs=-1 will be ignored. Current value: num_threads=4\n",
      "Fitting estimator with 184 features.\n",
      "[LightGBM] [Warning] num_threads is set=4, n_jobs=-1 will be ignored. Current value: num_threads=4\n",
      "Fitting estimator with 174 features.\n",
      "[LightGBM] [Warning] num_threads is set=4, n_jobs=-1 will be ignored. Current value: num_threads=4\n",
      "Fitting estimator with 164 features.\n",
      "[LightGBM] [Warning] num_threads is set=4, n_jobs=-1 will be ignored. Current value: num_threads=4\n",
      "Fitting estimator with 154 features.\n",
      "[LightGBM] [Warning] num_threads is set=4, n_jobs=-1 will be ignored. Current value: num_threads=4\n",
      "Fitting estimator with 144 features.\n",
      "[LightGBM] [Warning] num_threads is set=4, n_jobs=-1 will be ignored. Current value: num_threads=4\n",
      "Fitting estimator with 134 features.\n",
      "[LightGBM] [Warning] num_threads is set=4, n_jobs=-1 will be ignored. Current value: num_threads=4\n",
      "Fitting estimator with 124 features.\n",
      "[LightGBM] [Warning] num_threads is set=4, n_jobs=-1 will be ignored. Current value: num_threads=4\n",
      "Fitting estimator with 114 features.\n",
      "[LightGBM] [Warning] num_threads is set=4, n_jobs=-1 will be ignored. Current value: num_threads=4\n",
      "Fitting estimator with 104 features.\n",
      "[LightGBM] [Warning] num_threads is set=4, n_jobs=-1 will be ignored. Current value: num_threads=4\n",
      "Fitting estimator with 94 features.\n",
      "[LightGBM] [Warning] num_threads is set=4, n_jobs=-1 will be ignored. Current value: num_threads=4\n",
      "Fitting estimator with 84 features.\n",
      "[LightGBM] [Warning] num_threads is set=4, n_jobs=-1 will be ignored. Current value: num_threads=4\n",
      "Fitting estimator with 74 features.\n",
      "[LightGBM] [Warning] num_threads is set=4, n_jobs=-1 will be ignored. Current value: num_threads=4\n",
      "Fitting estimator with 64 features.\n",
      "[LightGBM] [Warning] num_threads is set=4, n_jobs=-1 will be ignored. Current value: num_threads=4\n",
      "Fitting estimator with 54 features.\n",
      "[LightGBM] [Warning] num_threads is set=4, n_jobs=-1 will be ignored. Current value: num_threads=4\n",
      "Fitting estimator with 44 features.\n",
      "[LightGBM] [Warning] num_threads is set=4, n_jobs=-1 will be ignored. Current value: num_threads=4\n",
      "Fitting estimator with 34 features.\n",
      "[LightGBM] [Warning] num_threads is set=4, n_jobs=-1 will be ignored. Current value: num_threads=4\n",
      "Fitting estimator with 24 features.\n",
      "[LightGBM] [Warning] num_threads is set=4, n_jobs=-1 will be ignored. Current value: num_threads=4\n",
      "Fitting estimator with 14 features.\n",
      "[LightGBM] [Warning] num_threads is set=4, n_jobs=-1 will be ignored. Current value: num_threads=4\n",
      "Fitting estimator with 4 features.\n",
      "[LightGBM] [Warning] num_threads is set=4, n_jobs=-1 will be ignored. Current value: num_threads=4\n",
      "[LightGBM] [Warning] num_threads is set=4, n_jobs=-1 will be ignored. Current value: num_threads=4\n",
      "Fitting estimator with 194 features.\n",
      "[LightGBM] [Warning] num_threads is set=4, n_jobs=-1 will be ignored. Current value: num_threads=4\n",
      "Fitting estimator with 184 features.\n",
      "[LightGBM] [Warning] num_threads is set=4, n_jobs=-1 will be ignored. Current value: num_threads=4\n",
      "Fitting estimator with 174 features.\n",
      "[LightGBM] [Warning] num_threads is set=4, n_jobs=-1 will be ignored. Current value: num_threads=4\n",
      "Fitting estimator with 164 features.\n",
      "[LightGBM] [Warning] num_threads is set=4, n_jobs=-1 will be ignored. Current value: num_threads=4\n",
      "Fitting estimator with 154 features.\n",
      "[LightGBM] [Warning] num_threads is set=4, n_jobs=-1 will be ignored. Current value: num_threads=4\n",
      "Fitting estimator with 144 features.\n",
      "[LightGBM] [Warning] num_threads is set=4, n_jobs=-1 will be ignored. Current value: num_threads=4\n",
      "Fitting estimator with 134 features.\n",
      "[LightGBM] [Warning] num_threads is set=4, n_jobs=-1 will be ignored. Current value: num_threads=4\n",
      "Fitting estimator with 124 features.\n",
      "[LightGBM] [Warning] num_threads is set=4, n_jobs=-1 will be ignored. Current value: num_threads=4\n",
      "Fitting estimator with 114 features.\n",
      "[LightGBM] [Warning] num_threads is set=4, n_jobs=-1 will be ignored. Current value: num_threads=4\n",
      "Fitting estimator with 104 features.\n",
      "[LightGBM] [Warning] num_threads is set=4, n_jobs=-1 will be ignored. Current value: num_threads=4\n",
      "Fitting estimator with 94 features.\n",
      "[LightGBM] [Warning] num_threads is set=4, n_jobs=-1 will be ignored. Current value: num_threads=4\n",
      "Fitting estimator with 84 features.\n",
      "[LightGBM] [Warning] num_threads is set=4, n_jobs=-1 will be ignored. Current value: num_threads=4\n",
      "Fitting estimator with 74 features.\n",
      "[LightGBM] [Warning] num_threads is set=4, n_jobs=-1 will be ignored. Current value: num_threads=4\n",
      "Fitting estimator with 64 features.\n",
      "[LightGBM] [Warning] num_threads is set=4, n_jobs=-1 will be ignored. Current value: num_threads=4\n",
      "Fitting estimator with 54 features.\n",
      "[LightGBM] [Warning] num_threads is set=4, n_jobs=-1 will be ignored. Current value: num_threads=4\n",
      "Fitting estimator with 44 features.\n",
      "[LightGBM] [Warning] num_threads is set=4, n_jobs=-1 will be ignored. Current value: num_threads=4\n",
      "Fitting estimator with 34 features.\n",
      "[LightGBM] [Warning] num_threads is set=4, n_jobs=-1 will be ignored. Current value: num_threads=4\n",
      "Fitting estimator with 24 features.\n",
      "[LightGBM] [Warning] num_threads is set=4, n_jobs=-1 will be ignored. Current value: num_threads=4\n",
      "Fitting estimator with 14 features.\n",
      "[LightGBM] [Warning] num_threads is set=4, n_jobs=-1 will be ignored. Current value: num_threads=4\n",
      "Fitting estimator with 4 features.\n",
      "[LightGBM] [Warning] num_threads is set=4, n_jobs=-1 will be ignored. Current value: num_threads=4\n",
      "[LightGBM] [Warning] num_threads is set=4, n_jobs=-1 will be ignored. Current value: num_threads=4\n",
      "Fitting estimator with 194 features.\n",
      "[LightGBM] [Warning] num_threads is set=4, n_jobs=-1 will be ignored. Current value: num_threads=4\n",
      "Fitting estimator with 184 features.\n",
      "[LightGBM] [Warning] num_threads is set=4, n_jobs=-1 will be ignored. Current value: num_threads=4\n",
      "Fitting estimator with 174 features.\n",
      "[LightGBM] [Warning] num_threads is set=4, n_jobs=-1 will be ignored. Current value: num_threads=4\n",
      "Fitting estimator with 164 features.\n",
      "[LightGBM] [Warning] num_threads is set=4, n_jobs=-1 will be ignored. Current value: num_threads=4\n",
      "Fitting estimator with 154 features.\n",
      "[LightGBM] [Warning] num_threads is set=4, n_jobs=-1 will be ignored. Current value: num_threads=4\n",
      "Fitting estimator with 144 features.\n",
      "[LightGBM] [Warning] num_threads is set=4, n_jobs=-1 will be ignored. Current value: num_threads=4\n",
      "Fitting estimator with 134 features.\n",
      "[LightGBM] [Warning] num_threads is set=4, n_jobs=-1 will be ignored. Current value: num_threads=4\n",
      "Fitting estimator with 124 features.\n",
      "[LightGBM] [Warning] num_threads is set=4, n_jobs=-1 will be ignored. Current value: num_threads=4\n",
      "Fitting estimator with 114 features.\n",
      "[LightGBM] [Warning] num_threads is set=4, n_jobs=-1 will be ignored. Current value: num_threads=4\n",
      "Fitting estimator with 104 features.\n",
      "[LightGBM] [Warning] num_threads is set=4, n_jobs=-1 will be ignored. Current value: num_threads=4\n",
      "Fitting estimator with 94 features.\n",
      "[LightGBM] [Warning] num_threads is set=4, n_jobs=-1 will be ignored. Current value: num_threads=4\n",
      "Fitting estimator with 84 features.\n",
      "[LightGBM] [Warning] num_threads is set=4, n_jobs=-1 will be ignored. Current value: num_threads=4\n",
      "Fitting estimator with 74 features.\n",
      "[LightGBM] [Warning] num_threads is set=4, n_jobs=-1 will be ignored. Current value: num_threads=4\n",
      "Fitting estimator with 64 features.\n",
      "[LightGBM] [Warning] num_threads is set=4, n_jobs=-1 will be ignored. Current value: num_threads=4\n",
      "Fitting estimator with 54 features.\n",
      "[LightGBM] [Warning] num_threads is set=4, n_jobs=-1 will be ignored. Current value: num_threads=4\n",
      "Fitting estimator with 44 features.\n",
      "[LightGBM] [Warning] num_threads is set=4, n_jobs=-1 will be ignored. Current value: num_threads=4\n",
      "Fitting estimator with 34 features.\n",
      "[LightGBM] [Warning] num_threads is set=4, n_jobs=-1 will be ignored. Current value: num_threads=4\n",
      "Fitting estimator with 24 features.\n",
      "[LightGBM] [Warning] num_threads is set=4, n_jobs=-1 will be ignored. Current value: num_threads=4\n",
      "Fitting estimator with 14 features.\n",
      "[LightGBM] [Warning] num_threads is set=4, n_jobs=-1 will be ignored. Current value: num_threads=4\n",
      "Fitting estimator with 4 features.\n",
      "[LightGBM] [Warning] num_threads is set=4, n_jobs=-1 will be ignored. Current value: num_threads=4\n",
      "[LightGBM] [Warning] num_threads is set=4, n_jobs=-1 will be ignored. Current value: num_threads=4\n",
      "Fitting estimator with 194 features.\n",
      "[LightGBM] [Warning] num_threads is set=4, n_jobs=-1 will be ignored. Current value: num_threads=4\n",
      "Fitting estimator with 184 features.\n",
      "[LightGBM] [Warning] num_threads is set=4, n_jobs=-1 will be ignored. Current value: num_threads=4\n",
      "Fitting estimator with 174 features.\n",
      "[LightGBM] [Warning] num_threads is set=4, n_jobs=-1 will be ignored. Current value: num_threads=4\n",
      "Fitting estimator with 164 features.\n",
      "[LightGBM] [Warning] num_threads is set=4, n_jobs=-1 will be ignored. Current value: num_threads=4\n",
      "Fitting estimator with 154 features.\n",
      "[LightGBM] [Warning] num_threads is set=4, n_jobs=-1 will be ignored. Current value: num_threads=4\n",
      "Fitting estimator with 144 features.\n",
      "[LightGBM] [Warning] num_threads is set=4, n_jobs=-1 will be ignored. Current value: num_threads=4\n",
      "Fitting estimator with 134 features.\n",
      "[LightGBM] [Warning] num_threads is set=4, n_jobs=-1 will be ignored. Current value: num_threads=4\n",
      "Fitting estimator with 124 features.\n",
      "[LightGBM] [Warning] num_threads is set=4, n_jobs=-1 will be ignored. Current value: num_threads=4\n",
      "Fitting estimator with 114 features.\n",
      "[LightGBM] [Warning] num_threads is set=4, n_jobs=-1 will be ignored. Current value: num_threads=4\n",
      "Fitting estimator with 104 features.\n",
      "[LightGBM] [Warning] num_threads is set=4, n_jobs=-1 will be ignored. Current value: num_threads=4\n",
      "Fitting estimator with 94 features.\n",
      "[LightGBM] [Warning] num_threads is set=4, n_jobs=-1 will be ignored. Current value: num_threads=4\n",
      "Fitting estimator with 84 features.\n",
      "[LightGBM] [Warning] num_threads is set=4, n_jobs=-1 will be ignored. Current value: num_threads=4\n",
      "Fitting estimator with 74 features.\n",
      "[LightGBM] [Warning] num_threads is set=4, n_jobs=-1 will be ignored. Current value: num_threads=4\n",
      "Fitting estimator with 64 features.\n",
      "[LightGBM] [Warning] num_threads is set=4, n_jobs=-1 will be ignored. Current value: num_threads=4\n",
      "Fitting estimator with 54 features.\n",
      "[LightGBM] [Warning] num_threads is set=4, n_jobs=-1 will be ignored. Current value: num_threads=4\n",
      "Fitting estimator with 44 features.\n",
      "[LightGBM] [Warning] num_threads is set=4, n_jobs=-1 will be ignored. Current value: num_threads=4\n",
      "Fitting estimator with 34 features.\n",
      "[LightGBM] [Warning] num_threads is set=4, n_jobs=-1 will be ignored. Current value: num_threads=4\n",
      "Fitting estimator with 24 features.\n",
      "[LightGBM] [Warning] num_threads is set=4, n_jobs=-1 will be ignored. Current value: num_threads=4\n",
      "Fitting estimator with 14 features.\n",
      "[LightGBM] [Warning] num_threads is set=4, n_jobs=-1 will be ignored. Current value: num_threads=4\n",
      "Fitting estimator with 4 features.\n",
      "[LightGBM] [Warning] num_threads is set=4, n_jobs=-1 will be ignored. Current value: num_threads=4\n",
      "[LightGBM] [Warning] num_threads is set=4, n_jobs=-1 will be ignored. Current value: num_threads=4\n",
      "Fitting estimator with 194 features.\n",
      "[LightGBM] [Warning] num_threads is set=4, n_jobs=-1 will be ignored. Current value: num_threads=4\n",
      "Fitting estimator with 184 features.\n",
      "Fitting estimator with 174 features.\n",
      "Fitting estimator with 164 features.\n",
      "Features selected: 154\n"
     ]
    }
   ],
   "source": [
    "params = {\n",
    "    'objective': 'binary',\n",
    "    'metric': 'auc',\n",
    "    'is_unbalance': False,\n",
    "    'boost_from_average': True,\n",
    "    'num_threads': 4,\n",
    "    \n",
    "    'num_leaves': 500,\n",
    "    # 'min_data_in_leaf': 25,\n",
    "    'max_depth': -1,\n",
    "    'learning_rate': 0.01\n",
    "}\n",
    "\n",
    "# n_jobs=-1 causes out of memory\n",
    "feature_selector = RFECV(lgb.LGBMClassifier(**params), step=10, scoring='roc_auc', cv=5, verbose=1)\n",
    "feature_selector.fit(x_train_train, y_train_train)\n",
    "print('Features selected:', feature_selector.n_features_)"
   ]
  },
  {
   "cell_type": "code",
   "execution_count": 11,
   "metadata": {},
   "outputs": [
    {
     "data": {
      "text/plain": [
       "['Unnamed 0',\n",
       " 'TransactionAmt',\n",
       " 'card1',\n",
       " 'card2',\n",
       " 'card3',\n",
       " 'card5',\n",
       " 'addr1',\n",
       " 'dist1',\n",
       " 'C1',\n",
       " 'C2',\n",
       " 'C4',\n",
       " 'C5',\n",
       " 'C6',\n",
       " 'C7',\n",
       " 'C8',\n",
       " 'C9',\n",
       " 'C10',\n",
       " 'C11',\n",
       " 'C12',\n",
       " 'C13',\n",
       " 'C14',\n",
       " 'D1',\n",
       " 'D2',\n",
       " 'D3',\n",
       " 'D4',\n",
       " 'D5',\n",
       " 'D10',\n",
       " 'D11',\n",
       " 'D15',\n",
       " 'V4',\n",
       " 'V5',\n",
       " 'V12',\n",
       " 'V13',\n",
       " 'V15',\n",
       " 'V17',\n",
       " 'V18',\n",
       " 'V19',\n",
       " 'V20',\n",
       " 'V22',\n",
       " 'V23',\n",
       " 'V24',\n",
       " 'V25',\n",
       " 'V26',\n",
       " 'V29',\n",
       " 'V30',\n",
       " 'V31',\n",
       " 'V33',\n",
       " 'V34',\n",
       " 'V35',\n",
       " 'V36',\n",
       " 'V39',\n",
       " 'V42',\n",
       " 'V43',\n",
       " 'V48',\n",
       " 'V49',\n",
       " 'V52',\n",
       " 'V53',\n",
       " 'V54',\n",
       " 'V55',\n",
       " 'V56',\n",
       " 'V57',\n",
       " 'V59',\n",
       " 'V60',\n",
       " 'V61',\n",
       " 'V62',\n",
       " 'V63',\n",
       " 'V64',\n",
       " 'V65',\n",
       " 'V66',\n",
       " 'V67',\n",
       " 'V70',\n",
       " 'V73',\n",
       " 'V74',\n",
       " 'V75',\n",
       " 'V76',\n",
       " 'V77',\n",
       " 'V78',\n",
       " 'V79',\n",
       " 'V80',\n",
       " 'V82',\n",
       " 'V83',\n",
       " 'V86',\n",
       " 'V87',\n",
       " 'V88',\n",
       " 'V90',\n",
       " 'V91',\n",
       " 'V94',\n",
       " 'V95',\n",
       " 'V96',\n",
       " 'V97',\n",
       " 'V99',\n",
       " 'V100',\n",
       " 'V126',\n",
       " 'V127',\n",
       " 'V128',\n",
       " 'V130',\n",
       " 'V131',\n",
       " 'V279',\n",
       " 'V280',\n",
       " 'V282',\n",
       " 'V283',\n",
       " 'V285',\n",
       " 'V287',\n",
       " 'V288',\n",
       " 'V289',\n",
       " 'V291',\n",
       " 'V292',\n",
       " 'V294',\n",
       " 'V302',\n",
       " 'V306',\n",
       " 'V307',\n",
       " 'V308',\n",
       " 'V310',\n",
       " 'V312',\n",
       " 'V313',\n",
       " 'V314',\n",
       " 'V315',\n",
       " 'V317',\n",
       " 'card4_mastercard',\n",
       " 'card4_visa',\n",
       " 'card6_credit',\n",
       " 'card6_debit',\n",
       " 'M3_F',\n",
       " 'M3_T',\n",
       " 'M4_M0',\n",
       " 'M4_M2',\n",
       " 'M6_F',\n",
       " 'M6_T',\n",
       " 'M8_F',\n",
       " 'M8_T',\n",
       " 'id_01',\n",
       " 'id_02',\n",
       " 'id_05',\n",
       " 'id_06',\n",
       " 'id_13',\n",
       " 'id_14',\n",
       " 'id_17',\n",
       " 'id_19',\n",
       " 'id_20',\n",
       " 'id_32',\n",
       " 'id_12_Found',\n",
       " 'id_15_Found',\n",
       " 'id_15_New',\n",
       " 'id_28_Found',\n",
       " 'id_29_Found',\n",
       " 'id_34_match_status1',\n",
       " 'id_35_F',\n",
       " 'id_38_F',\n",
       " 'DeviceType_desktop',\n",
       " 'P_emaildomain',\n",
       " 'id_30',\n",
       " 'id_31',\n",
       " 'id_33',\n",
       " 'DeviceInfo']"
      ]
     },
     "execution_count": 11,
     "metadata": {},
     "output_type": "execute_result"
    }
   ],
   "source": [
    "selected_features = [f for f in x_train_train.columns[feature_selector.ranking_ == 1]]\n",
    "\n",
    "selected_features"
   ]
  },
  {
   "cell_type": "markdown",
   "metadata": {},
   "source": [
    "# 3 Compare Score"
   ]
  },
  {
   "cell_type": "code",
   "execution_count": 12,
   "metadata": {},
   "outputs": [],
   "source": [
    "from sklearn.metrics import roc_auc_score"
   ]
  },
  {
   "cell_type": "code",
   "execution_count": 13,
   "metadata": {},
   "outputs": [],
   "source": [
    "percent = 25 # percent of dataset to use for validation\n",
    "\n",
    "_, x_train_valid_part, _, y_train_valid_part = train_test_split(x_train_valid, y_train_valid, test_size=percent/100.0, random_state=42)"
   ]
  },
  {
   "cell_type": "code",
   "execution_count": 14,
   "metadata": {},
   "outputs": [
    {
     "name": "stdout",
     "output_type": "stream",
     "text": [
      "Score / all features: 0.9005221390255018\n"
     ]
    }
   ],
   "source": [
    "lgb_model = lgb.LGBMClassifier(**params).fit(x_train_train, y_train_train)\n",
    "y_all_features = lgb_model.predict_proba(x_train_valid_part)[:,1]\n",
    "score_all_features = roc_auc_score(y_train_valid_part, y_all_features)\n",
    "print('Score / all features:', score_all_features)"
   ]
  },
  {
   "cell_type": "code",
   "execution_count": 15,
   "metadata": {},
   "outputs": [
    {
     "name": "stdout",
     "output_type": "stream",
     "text": [
      "Score / selected features: 0.8998715072689514\n"
     ]
    }
   ],
   "source": [
    "y_selected_features = feature_selector.estimator_.predict_proba(x_train_valid_part[selected_features])[:,1]\n",
    "score_selected_features = roc_auc_score(y_train_valid_part, y_selected_features)\n",
    "print('Score / selected features:', score_selected_features)"
   ]
  },
  {
   "cell_type": "code",
   "execution_count": 16,
   "metadata": {},
   "outputs": [
    {
     "name": "stdout",
     "output_type": "stream",
     "text": [
      "Score change: -0.000650631756550446\n"
     ]
    }
   ],
   "source": [
    "print('Score change:', score_selected_features-score_all_features)"
   ]
  },
  {
   "cell_type": "markdown",
   "metadata": {},
   "source": [
    "# 4 Compare feature importance and feature selection results"
   ]
  },
  {
   "cell_type": "code",
   "execution_count": 17,
   "metadata": {},
   "outputs": [],
   "source": [
    "feature_importance_df = pd.concat([\n",
    "    pd.Series(x_train_train.columns),\n",
    "    pd.Series(lgb_model.feature_importances_)], axis=1)\n",
    "feature_importance_df.columns = ['featureName', 'importance']\n",
    "\n",
    "feature_importance_df['selected'] = feature_importance_df['featureName'].map(lambda x: x in selected_features)"
   ]
  },
  {
   "cell_type": "code",
   "execution_count": 18,
   "metadata": {},
   "outputs": [
    {
     "name": "stdout",
     "output_type": "stream",
     "text": [
      "             featureName  importance  selected\n",
      "0              Unnamed 0        3219      True\n",
      "3         TransactionAmt        2650      True\n",
      "4                  card1        2623      True\n",
      "5                  card2        2456      True\n",
      "8                  addr1        1851      True\n",
      "160                id_02        1254      True\n",
      "11                    C1        1220      True\n",
      "31                   D15        1195      True\n",
      "189        P_emaildomain        1170      True\n",
      "7                  card5        1140      True\n",
      "22                   C13        1105      True\n",
      "27                    D4        1021      True\n",
      "10                 dist1         950      True\n",
      "24                    D1         927      True\n",
      "167                id_20         893      True\n",
      "12                    C2         811      True\n",
      "25                    D2         811      True\n",
      "30                   D11         707      True\n",
      "20                   C11         649      True\n",
      "15                    C6         633      True\n",
      "191                id_31         628      True\n",
      "166                id_19         625      True\n",
      "29                   D10         617      True\n",
      "137                 V307         606      True\n",
      "144                 V317         546      True\n",
      "28                    D5         539      True\n",
      "149         card6_credit         537      True\n",
      "159                id_01         518      True\n",
      "23                   C14         489      True\n",
      "139                 V310         456      True\n",
      "193           DeviceInfo         441      True\n",
      "138                 V308         431      True\n",
      "163                id_13         406      True\n",
      "190                id_30         400      True\n",
      "119                 V128         397      True\n",
      "118                 V127         389      True\n",
      "161                id_05         386      True\n",
      "141                 V313         385      True\n",
      "26                    D3         382      True\n",
      "136                 V306         361      True\n",
      "162                id_06         360      True\n",
      "18                    C9         358      True\n",
      "6                  card3         338      True\n",
      "117                 V126         310      True\n",
      "192                id_33         306      True\n",
      "104                  V87         299      True\n",
      "100                  V83         296      True\n",
      "17                    C8         283      True\n",
      "140                 V312         274      True\n",
      "14                    C5         273      True\n",
      "143                 V315         268      True\n",
      "125                 V283         239      True\n",
      "121                 V131         238      True\n",
      "13                    C4         236      True\n",
      "126                 V285         235      True\n",
      "120                 V130         234      True\n",
      "19                   C10         234      True\n",
      "142                 V314         227      True\n",
      "132                 V294         217      True\n",
      "44                   V20         212      True\n",
      "153                M4_M0         208      True\n",
      "147     card4_mastercard         207      True\n",
      "113                  V96         204      True\n",
      "60                   V36         181      True\n",
      "103                  V86         176      True\n",
      "95                   V78         171      True\n",
      "130                 V291         171      True\n",
      "124                 V282         166      True\n",
      "165                id_17         162      True\n",
      "99                   V82         157      True\n",
      "148           card4_visa         157      True\n",
      "21                   C12         152      True\n",
      "84                   V67         151      True\n",
      "73                   V56         147      True\n",
      "93                   V76         144      True\n",
      "123                 V280         139      True\n",
      "187   DeviceType_desktop         139      True\n",
      "83                   V66         138      True\n",
      "69                   V52         137      True\n",
      "71                   V54         136      True\n",
      "79                   V62         134      True\n",
      "37                   V13         125      True\n",
      "185              id_38_F         121      True\n",
      "36                   V12         118      True\n",
      "53                   V29         115      True\n",
      "70                   V53         113      True\n",
      "164                id_14         104      True\n",
      "155                 M6_F         103      True\n",
      "151                 M3_F         102      True\n",
      "112                  V95         101      True\n",
      "50                   V26         101      True\n",
      "78                   V61         101      True\n",
      "48                   V24          96      True\n",
      "33                    V5          95      True\n",
      "87                   V70          92      True\n",
      "129                 V289          89      True\n",
      "59                   V35          86      True\n",
      "169          id_12_Found          82      True\n",
      "43                   V19          81      True\n",
      "122                 V279          77      True\n",
      "94                   V77          75      True\n",
      "154                M4_M2          72      True\n",
      "114                  V97          72      True\n",
      "115                  V99          71      True\n",
      "156                 M6_T          71      True\n",
      "47                   V23          70      True\n",
      "172            id_15_New          66      True\n",
      "131                 V292          62      True\n",
      "92                   V75          58      True\n",
      "72                   V55          56      True\n",
      "91                   V74          56      True\n",
      "128                 V288          53      True\n",
      "168                id_32          52      True\n",
      "175          id_28_Found          51      True\n",
      "157                 M8_F          51      True\n",
      "150          card6_debit          51      True\n",
      "16                    C7          50      True\n",
      "54                   V30          47      True\n",
      "58                   V34          46      True\n",
      "152                 M3_T          45      True\n",
      "49                   V25          44      True\n",
      "39                   V15          44      True\n",
      "65                   V48          43      True\n",
      "171          id_15_Found          43      True\n",
      "107                  V90          43      True\n",
      "158                 M8_T          39      True\n",
      "66                   V49          39      True\n",
      "127                 V287          36      True\n",
      "76                   V59          35      True\n",
      "108                  V91          33      True\n",
      "177          id_29_Found          32      True\n",
      "61                   V39          32      True\n",
      "74                   V57          31      True\n",
      "64                   V43          31      True\n",
      "97                   V80          31      True\n",
      "55                   V31          30      True\n",
      "179  id_34_match_status1          29      True\n",
      "116                 V100          28      True\n",
      "90                   V73          26      True\n",
      "41                   V17          25      True\n",
      "181              id_35_F          24      True\n",
      "62                   V40          23     False\n",
      "80                   V63          23      True\n",
      "42                   V18          22      True\n",
      "133                 V302          22      True\n",
      "81                   V64          21      True\n",
      "57                   V33          21      True\n",
      "77                   V60          20      True\n",
      "98                   V81          19     False\n",
      "32                    V4          19      True\n",
      "9                  addr2          19     False\n",
      "111                  V94          19      True\n",
      "183              id_37_F          17     False\n",
      "63                   V42          16      True\n",
      "46                   V22          15      True\n",
      "96                   V79          14      True\n",
      "86                   V69          14     False\n",
      "82                   V65          14      True\n",
      "105                  V88          13      True\n",
      "45                   V21          13     False\n",
      "68                   V51          11     False\n",
      "34                   V10          11     False\n",
      "38                   V14          11     False\n",
      "145          ProductCD_C          10     False\n",
      "102                  V85           8     False\n",
      "173          id_16_Found           8     False\n",
      "35                   V11           8     False\n",
      "134                 V303           7     False\n",
      "109                  V92           7     False\n",
      "89                   V72           7     False\n",
      "101                  V84           7     False\n",
      "88                   V71           6     False\n",
      "40                   V16           6     False\n",
      "75                   V58           6     False\n",
      "180  id_34_match_status2           4     False\n",
      "56                   V32           3     False\n",
      "106                  V89           1     False\n",
      "110                  V93           1     False\n",
      "135                 V304           1     False\n",
      "188    DeviceType_mobile           0     False\n",
      "186              id_38_T           0     False\n",
      "2          TransactionDT           0     False\n",
      "184              id_37_T           0     False\n",
      "67                   V50           0     False\n",
      "182              id_35_T           0     False\n",
      "178       id_29_NotFound           0     False\n",
      "1          TransactionID           0     False\n",
      "176            id_28_New           0     False\n",
      "174       id_16_NotFound           0     False\n",
      "52                   V28           0     False\n",
      "85                   V68           0     False\n",
      "146          ProductCD_W           0     False\n",
      "51                   V27           0     False\n",
      "170       id_12_NotFound           0     False\n"
     ]
    }
   ],
   "source": [
    "with pd.option_context('display.max_rows', None, 'display.max_columns', None):\n",
    "    print(feature_importance_df.sort_values(by=['importance'], ascending=False))"
   ]
  },
  {
   "cell_type": "markdown",
   "metadata": {},
   "source": [
    "# 5 Confusion matrix"
   ]
  },
  {
   "cell_type": "code",
   "execution_count": 19,
   "metadata": {},
   "outputs": [],
   "source": [
    "# From https://scikit-learn.org/stable/auto_examples/model_selection/plot_confusion_matrix.html\n",
    "\n",
    "import matplotlib.pyplot as plt\n",
    "\n",
    "from sklearn.metrics import confusion_matrix\n",
    "from sklearn.utils.multiclass import unique_labels\n",
    "\n",
    "\n",
    "def plot_confusion_matrix(y_true, y_pred, classes,\n",
    "                          normalize=False,\n",
    "                          title=None,\n",
    "                          cmap=plt.cm.Blues):\n",
    "    \"\"\"\n",
    "    This function prints and plots the confusion matrix.\n",
    "    Normalization can be applied by setting `normalize=True`.\n",
    "    \"\"\"\n",
    "    if not title:\n",
    "        if normalize:\n",
    "            title = 'Normalized confusion matrix'\n",
    "        else:\n",
    "            title = 'Confusion matrix, without normalization'\n",
    "\n",
    "    # Compute confusion matrix\n",
    "    cm = confusion_matrix(y_true, y_pred)\n",
    "    # Only use the labels that appear in the data\n",
    "    classes = classes[unique_labels(y_true, y_pred)]\n",
    "    if normalize:\n",
    "        cm = cm.astype('float') / cm.sum(axis=1)[:, np.newaxis]\n",
    "        print(\"Normalized confusion matrix\")\n",
    "    else:\n",
    "        print('Confusion matrix, without normalization')\n",
    "\n",
    "    print(cm)\n",
    "\n",
    "    fig, ax = plt.subplots()\n",
    "    im = ax.imshow(cm, interpolation='nearest', cmap=cmap)\n",
    "    ax.figure.colorbar(im, ax=ax)\n",
    "    # We want to show all ticks...\n",
    "    ax.set(xticks=np.arange(cm.shape[1]),\n",
    "           yticks=np.arange(cm.shape[0]),\n",
    "           # ... and label them with the respective list entries\n",
    "           xticklabels=classes, yticklabels=classes,\n",
    "           title=title,\n",
    "           ylabel='True label',\n",
    "           xlabel='Predicted label')\n",
    "\n",
    "    # Rotate the tick labels and set their alignment.\n",
    "    plt.setp(ax.get_xticklabels(), rotation=45, ha=\"right\",\n",
    "             rotation_mode=\"anchor\")\n",
    "\n",
    "    # Loop over data dimensions and create text annotations.\n",
    "    fmt = '.2f' if normalize else 'd'\n",
    "    thresh = cm.max() / 2.\n",
    "    for i in range(cm.shape[0]):\n",
    "        for j in range(cm.shape[1]):\n",
    "            ax.text(j, i, format(cm[i, j], fmt),\n",
    "                    ha=\"center\", va=\"center\",\n",
    "                    color=\"white\" if cm[i, j] > thresh else \"black\")\n",
    "    fig.tight_layout()\n",
    "    return ax"
   ]
  },
  {
   "cell_type": "code",
   "execution_count": 20,
   "metadata": {},
   "outputs": [
    {
     "name": "stdout",
     "output_type": "stream",
     "text": [
      "Normalized confusion matrix\n",
      "[[9.99320910e-01 6.79090019e-04]\n",
      " [7.11751663e-01 2.88248337e-01]]\n"
     ]
    },
    {
     "data": {
      "image/png": "[encoded data removed]",
      "text/plain": [
       "<Figure size 640x480 with 2 Axes>"
      ]
     },
     "metadata": {},
     "output_type": "display_data"
    }
   ],
   "source": [
    "classes = pd.Series([0,1])\n",
    "\n",
    "plot_confusion_matrix(y_train_valid_part, y_all_features.round(), classes=classes, normalize=True,\n",
    "                      title='Confusion matrix / all features')\n",
    "\n",
    "plt.show()"
   ]
  },
  {
   "cell_type": "code",
   "execution_count": 21,
   "metadata": {},
   "outputs": [
    {
     "name": "stdout",
     "output_type": "stream",
     "text": [
      "Normalized confusion matrix\n",
      "[[9.99320910e-01 6.79090019e-04]\n",
      " [7.12305987e-01 2.87694013e-01]]\n"
     ]
    },
    {
     "data": {
      "image/png": "[encoded data removed]",
      "text/plain": [
       "<Figure size 640x480 with 2 Axes>"
      ]
     },
     "metadata": {},
     "output_type": "display_data"
    }
   ],
   "source": [
    "plot_confusion_matrix(y_train_valid_part, y_selected_features.round(), classes=classes, normalize=True,\n",
    "                      title='Confusion matrix / selected features')\n",
    "\n",
    "plt.show()"
   ]
  },
  {
   "cell_type": "markdown",
   "metadata": {},
   "source": [
    "# 6 ROC curve"
   ]
  },
  {
   "cell_type": "code",
   "execution_count": 22,
   "metadata": {},
   "outputs": [
    {
     "data": {
      "image/png": "[encoded data removed]",
      "text/plain": [
       "<Figure size 640x480 with 1 Axes>"
      ]
     },
     "metadata": {},
     "output_type": "display_data"
    }
   ],
   "source": [
    "# From https://scikit-learn.org/stable/auto_examples/model_selection/plot_roc.html\n",
    "#  and https://stackoverflow.com/questions/25009284/how-to-plot-roc-curve-in-python\n",
    "\n",
    "from sklearn.metrics import roc_curve, auc\n",
    "import matplotlib.pyplot as plt\n",
    "\n",
    "fpr_all_features, tpr_all_features, _ = roc_curve(y_train_valid_part, y_all_features.round())\n",
    "roc_auc_all_features = auc(fpr_all_features, tpr_all_features)\n",
    "\n",
    "fpr_selected_features, tpr_selected_features, _ = roc_curve(y_train_valid_part, y_selected_features.round())\n",
    "roc_auc_selected_features = auc(fpr_selected_features, tpr_selected_features)\n",
    "\n",
    "plt.title('Receiver Operating Characteristic')\n",
    "plt.plot(fpr_all_features, tpr_all_features, 'g', label = 'AUC (all features) = %0.2f' % roc_auc_all_features)\n",
    "plt.plot(fpr_selected_features, tpr_selected_features, 'b', label = 'AUC (selected features) = %0.2f' % roc_auc_selected_features)\n",
    "plt.legend(loc = 'lower right')\n",
    "plt.plot([0, 1], [0, 1],'r--')\n",
    "plt.xlim([0, 1])\n",
    "plt.ylim([0, 1])\n",
    "plt.ylabel('True Positive Rate')\n",
    "plt.xlabel('False Positive Rate')\n",
    "plt.show()"
   ]
  }
 ],
 "metadata": {
  "kernelspec": {
   "display_name": "Python 3.10.2 64-bit",
   "language": "python",
   "name": "python3"
  },
  "language_info": {
   "codemirror_mode": {
    "name": "ipython",
    "version": 3
   },
   "file_extension": ".py",
   "mimetype": "text/x-python",
   "name": "python",
   "nbconvert_exporter": "python",
   "pygments_lexer": "ipython3",
   "version": "3.10.2"
  },
  "orig_nbformat": 4,
  "vscode": {
   "interpreter": {
    "hash": "369f2c481f4da34e4445cda3fffd2e751bd1c4d706f27375911949ba6bb62e1c"
   }
  }
 },
 "nbformat": 4,
 "nbformat_minor": 2
}
